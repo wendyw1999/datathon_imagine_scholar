{
 "cells": [
  {
   "cell_type": "code",
   "execution_count": 7,
   "metadata": {},
   "outputs": [],
   "source": [
    "import os\n",
    "import pandas as pd\n",
    "import numpy as np\n",
    "import datetime\n",
    "import xlrd\n",
    "import re"
   ]
  },
  {
   "cell_type": "code",
   "execution_count": 38,
   "metadata": {},
   "outputs": [
    {
     "name": "stdout",
     "output_type": "stream",
     "text": [
      "Absolute file paths to the datasets:\n",
      "C:\\Users\\Wendy W\\Documents\\GitHub\\datathon_imagine_scholar\\data\\EskomSePush Loadshedding History - EskomSePush_stages.csv\n",
      "(422, 2)\n"
     ]
    },
    {
     "data": {
      "text/html": [
       "<div>\n",
       "<style scoped>\n",
       "    .dataframe tbody tr th:only-of-type {\n",
       "        vertical-align: middle;\n",
       "    }\n",
       "\n",
       "    .dataframe tbody tr th {\n",
       "        vertical-align: top;\n",
       "    }\n",
       "\n",
       "    .dataframe thead th {\n",
       "        text-align: right;\n",
       "    }\n",
       "</style>\n",
       "<table border=\"1\" class=\"dataframe\">\n",
       "  <thead>\n",
       "    <tr style=\"text-align: right;\">\n",
       "      <th></th>\n",
       "      <th>created_at</th>\n",
       "      <th>stage</th>\n",
       "    </tr>\n",
       "  </thead>\n",
       "  <tbody>\n",
       "    <tr>\n",
       "      <th>0</th>\n",
       "      <td>9/7/2020 20:03:18</td>\n",
       "      <td>0</td>\n",
       "    </tr>\n",
       "    <tr>\n",
       "      <th>1</th>\n",
       "      <td>9/7/2020 14:00:22</td>\n",
       "      <td>2</td>\n",
       "    </tr>\n",
       "    <tr>\n",
       "      <th>2</th>\n",
       "      <td>9/7/2020 6:00:53</td>\n",
       "      <td>1</td>\n",
       "    </tr>\n",
       "    <tr>\n",
       "      <th>3</th>\n",
       "      <td>9/6/2020 18:16:14</td>\n",
       "      <td>0</td>\n",
       "    </tr>\n",
       "    <tr>\n",
       "      <th>4</th>\n",
       "      <td>9/6/2020 10:00:25</td>\n",
       "      <td>1</td>\n",
       "    </tr>\n",
       "  </tbody>\n",
       "</table>\n",
       "</div>"
      ],
      "text/plain": [
       "          created_at  stage\n",
       "0  9/7/2020 20:03:18      0\n",
       "1  9/7/2020 14:00:22      2\n",
       "2   9/7/2020 6:00:53      1\n",
       "3  9/6/2020 18:16:14      0\n",
       "4  9/6/2020 10:00:25      1"
      ]
     },
     "metadata": {},
     "output_type": "display_data"
    },
    {
     "name": "stdout",
     "output_type": "stream",
     "text": [
      "C:\\Users\\Wendy W\\Documents\\GitHub\\datathon_imagine_scholar\\data\\Eskom_curr_shedding_schedules\\EasternCape_LS.xlsx\n",
      "C:\\Users\\Wendy W\\Documents\\GitHub\\datathon_imagine_scholar\\data\\Eskom_curr_shedding_schedules\\FreeState_LS.xlsx\n",
      "C:\\Users\\Wendy W\\Documents\\GitHub\\datathon_imagine_scholar\\data\\Eskom_curr_shedding_schedules\\Gauteng_LS.xlsx\n",
      "C:\\Users\\Wendy W\\Documents\\GitHub\\datathon_imagine_scholar\\data\\Eskom_curr_shedding_schedules\\KwaZulu-Natal_LS.xlsx\n",
      "C:\\Users\\Wendy W\\Documents\\GitHub\\datathon_imagine_scholar\\data\\Eskom_curr_shedding_schedules\\Limpopo_LS.xlsx\n",
      "C:\\Users\\Wendy W\\Documents\\GitHub\\datathon_imagine_scholar\\data\\Eskom_curr_shedding_schedules\\Mpumalanga_LS.xlsx\n",
      "C:\\Users\\Wendy W\\Documents\\GitHub\\datathon_imagine_scholar\\data\\Eskom_curr_shedding_schedules\\NorthernCape_LS.xlsx\n",
      "C:\\Users\\Wendy W\\Documents\\GitHub\\datathon_imagine_scholar\\data\\Eskom_curr_shedding_schedules\\NorthWest_LS.xlsx\n",
      "C:\\Users\\Wendy W\\Documents\\GitHub\\datathon_imagine_scholar\\data\\Eskom_curr_shedding_schedules\\WesternCape_LS.xlsx\n",
      "C:\\Users\\Wendy W\\Documents\\GitHub\\datathon_imagine_scholar\\data\\Total_Electricity_Production.csv\n",
      "(135, 2)\n"
     ]
    },
    {
     "data": {
      "text/html": [
       "<div>\n",
       "<style scoped>\n",
       "    .dataframe tbody tr th:only-of-type {\n",
       "        vertical-align: middle;\n",
       "    }\n",
       "\n",
       "    .dataframe tbody tr th {\n",
       "        vertical-align: top;\n",
       "    }\n",
       "\n",
       "    .dataframe thead th {\n",
       "        text-align: right;\n",
       "    }\n",
       "</style>\n",
       "<table border=\"1\" class=\"dataframe\">\n",
       "  <thead>\n",
       "    <tr style=\"text-align: right;\">\n",
       "      <th></th>\n",
       "      <th>DATE</th>\n",
       "      <th>PRENEL01ZAQ656N</th>\n",
       "    </tr>\n",
       "  </thead>\n",
       "  <tbody>\n",
       "    <tr>\n",
       "      <th>0</th>\n",
       "      <td>1985-01-01</td>\n",
       "      <td>11072.666667</td>\n",
       "    </tr>\n",
       "    <tr>\n",
       "      <th>1</th>\n",
       "      <td>1985-04-01</td>\n",
       "      <td>11879.666667</td>\n",
       "    </tr>\n",
       "    <tr>\n",
       "      <th>2</th>\n",
       "      <td>1985-07-01</td>\n",
       "      <td>12485.333333</td>\n",
       "    </tr>\n",
       "    <tr>\n",
       "      <th>3</th>\n",
       "      <td>1985-10-01</td>\n",
       "      <td>11690.333333</td>\n",
       "    </tr>\n",
       "    <tr>\n",
       "      <th>4</th>\n",
       "      <td>1986-01-01</td>\n",
       "      <td>11374.000000</td>\n",
       "    </tr>\n",
       "  </tbody>\n",
       "</table>\n",
       "</div>"
      ],
      "text/plain": [
       "         DATE  PRENEL01ZAQ656N\n",
       "0  1985-01-01     11072.666667\n",
       "1  1985-04-01     11879.666667\n",
       "2  1985-07-01     12485.333333\n",
       "3  1985-10-01     11690.333333\n",
       "4  1986-01-01     11374.000000"
      ]
     },
     "metadata": {},
     "output_type": "display_data"
    },
    {
     "name": "stdout",
     "output_type": "stream",
     "text": [
      "C:\\Users\\Wendy W\\Documents\\GitHub\\datathon_imagine_scholar\\data\\word_deve_indicator1.csv\n",
      "(60, 16)\n"
     ]
    },
    {
     "data": {
      "text/html": [
       "<div>\n",
       "<style scoped>\n",
       "    .dataframe tbody tr th:only-of-type {\n",
       "        vertical-align: middle;\n",
       "    }\n",
       "\n",
       "    .dataframe tbody tr th {\n",
       "        vertical-align: top;\n",
       "    }\n",
       "\n",
       "    .dataframe thead th {\n",
       "        text-align: right;\n",
       "    }\n",
       "</style>\n",
       "<table border=\"1\" class=\"dataframe\">\n",
       "  <thead>\n",
       "    <tr style=\"text-align: right;\">\n",
       "      <th></th>\n",
       "      <th>Country Name</th>\n",
       "      <th>Country Code</th>\n",
       "      <th>Series Name</th>\n",
       "      <th>Series Code</th>\n",
       "      <th>1990 [YR1990]</th>\n",
       "      <th>2000 [YR2000]</th>\n",
       "      <th>2011 [YR2011]</th>\n",
       "      <th>2012 [YR2012]</th>\n",
       "      <th>2013 [YR2013]</th>\n",
       "      <th>2014 [YR2014]</th>\n",
       "      <th>2015 [YR2015]</th>\n",
       "      <th>2016 [YR2016]</th>\n",
       "      <th>2017 [YR2017]</th>\n",
       "      <th>2018 [YR2018]</th>\n",
       "      <th>2019 [YR2019]</th>\n",
       "      <th>2020 [YR2020]</th>\n",
       "    </tr>\n",
       "  </thead>\n",
       "  <tbody>\n",
       "    <tr>\n",
       "      <th>0</th>\n",
       "      <td>South Africa</td>\n",
       "      <td>ZAF</td>\n",
       "      <td>Population, total</td>\n",
       "      <td>SP.POP.TOTL</td>\n",
       "      <td>36800509</td>\n",
       "      <td>44967708</td>\n",
       "      <td>52004172</td>\n",
       "      <td>52834005</td>\n",
       "      <td>53689236</td>\n",
       "      <td>54545991</td>\n",
       "      <td>55386367</td>\n",
       "      <td>56203654</td>\n",
       "      <td>57000451</td>\n",
       "      <td>57779622</td>\n",
       "      <td>58558270</td>\n",
       "      <td>..</td>\n",
       "    </tr>\n",
       "    <tr>\n",
       "      <th>1</th>\n",
       "      <td>South Africa</td>\n",
       "      <td>ZAF</td>\n",
       "      <td>Population growth (annual %)</td>\n",
       "      <td>SP.POP.GROW</td>\n",
       "      <td>2.39376838817431</td>\n",
       "      <td>1.40902882442672</td>\n",
       "      <td>1.5253140838922</td>\n",
       "      <td>1.58310713698288</td>\n",
       "      <td>1.60575169931034</td>\n",
       "      <td>1.58316828741381</td>\n",
       "      <td>1.5289263067937</td>\n",
       "      <td>1.4648292142325</td>\n",
       "      <td>1.40774075042753</td>\n",
       "      <td>1.35769728766652</td>\n",
       "      <td>1.33861739063304</td>\n",
       "      <td>..</td>\n",
       "    </tr>\n",
       "    <tr>\n",
       "      <th>2</th>\n",
       "      <td>South Africa</td>\n",
       "      <td>ZAF</td>\n",
       "      <td>Surface area (sq. km)</td>\n",
       "      <td>AG.SRF.TOTL.K2</td>\n",
       "      <td>1219090</td>\n",
       "      <td>1219090</td>\n",
       "      <td>1219090</td>\n",
       "      <td>1219090</td>\n",
       "      <td>1219090</td>\n",
       "      <td>1219090</td>\n",
       "      <td>1219090</td>\n",
       "      <td>1219090</td>\n",
       "      <td>1219090</td>\n",
       "      <td>1219090</td>\n",
       "      <td>..</td>\n",
       "      <td>..</td>\n",
       "    </tr>\n",
       "    <tr>\n",
       "      <th>3</th>\n",
       "      <td>South Africa</td>\n",
       "      <td>ZAF</td>\n",
       "      <td>Population density (people per sq. km of land ...</td>\n",
       "      <td>EN.POP.DNST</td>\n",
       "      <td>30.3361737381398</td>\n",
       "      <td>37.0687319160161</td>\n",
       "      <td>42.8691787089169</td>\n",
       "      <td>43.5532441945775</td>\n",
       "      <td>44.2582462966474</td>\n",
       "      <td>44.9645046946228</td>\n",
       "      <td>45.6572612089787</td>\n",
       "      <td>46.3309845106299</td>\n",
       "      <td>46.987817062213</td>\n",
       "      <td>47.6301197767684</td>\n",
       "      <td>..</td>\n",
       "      <td>..</td>\n",
       "    </tr>\n",
       "    <tr>\n",
       "      <th>4</th>\n",
       "      <td>South Africa</td>\n",
       "      <td>ZAF</td>\n",
       "      <td>Poverty headcount ratio at national poverty li...</td>\n",
       "      <td>SI.POV.NAHC</td>\n",
       "      <td>..</td>\n",
       "      <td>..</td>\n",
       "      <td>..</td>\n",
       "      <td>..</td>\n",
       "      <td>..</td>\n",
       "      <td>55.5</td>\n",
       "      <td>..</td>\n",
       "      <td>..</td>\n",
       "      <td>..</td>\n",
       "      <td>..</td>\n",
       "      <td>..</td>\n",
       "      <td>..</td>\n",
       "    </tr>\n",
       "  </tbody>\n",
       "</table>\n",
       "</div>"
      ],
      "text/plain": [
       "   Country Name Country Code  \\\n",
       "0  South Africa          ZAF   \n",
       "1  South Africa          ZAF   \n",
       "2  South Africa          ZAF   \n",
       "3  South Africa          ZAF   \n",
       "4  South Africa          ZAF   \n",
       "\n",
       "                                         Series Name     Series Code  \\\n",
       "0                                  Population, total     SP.POP.TOTL   \n",
       "1                       Population growth (annual %)     SP.POP.GROW   \n",
       "2                              Surface area (sq. km)  AG.SRF.TOTL.K2   \n",
       "3  Population density (people per sq. km of land ...     EN.POP.DNST   \n",
       "4  Poverty headcount ratio at national poverty li...     SI.POV.NAHC   \n",
       "\n",
       "      1990 [YR1990]     2000 [YR2000]     2011 [YR2011]     2012 [YR2012]  \\\n",
       "0          36800509          44967708          52004172          52834005   \n",
       "1  2.39376838817431  1.40902882442672   1.5253140838922  1.58310713698288   \n",
       "2           1219090           1219090           1219090           1219090   \n",
       "3  30.3361737381398  37.0687319160161  42.8691787089169  43.5532441945775   \n",
       "4                ..                ..                ..                ..   \n",
       "\n",
       "      2013 [YR2013]     2014 [YR2014]     2015 [YR2015]     2016 [YR2016]  \\\n",
       "0          53689236          54545991          55386367          56203654   \n",
       "1  1.60575169931034  1.58316828741381   1.5289263067937   1.4648292142325   \n",
       "2           1219090           1219090           1219090           1219090   \n",
       "3  44.2582462966474  44.9645046946228  45.6572612089787  46.3309845106299   \n",
       "4                ..              55.5                ..                ..   \n",
       "\n",
       "      2017 [YR2017]     2018 [YR2018]     2019 [YR2019] 2020 [YR2020]  \n",
       "0          57000451          57779622          58558270            ..  \n",
       "1  1.40774075042753  1.35769728766652  1.33861739063304            ..  \n",
       "2           1219090           1219090                ..            ..  \n",
       "3   46.987817062213  47.6301197767684                ..            ..  \n",
       "4                ..                ..                ..            ..  "
      ]
     },
     "metadata": {},
     "output_type": "display_data"
    },
    {
     "data": {
      "text/plain": [
       "{'EskomSePush Loadshedding History - EskomSePush_stages.csv': 'C:\\\\Users\\\\Wendy W\\\\Documents\\\\GitHub\\\\datathon_imagine_scholar\\\\data\\\\EskomSePush Loadshedding History - EskomSePush_stages.csv',\n",
       " 'EasternCape_LS.xlsx': 'C:\\\\Users\\\\Wendy W\\\\Documents\\\\GitHub\\\\datathon_imagine_scholar\\\\data\\\\Eskom_curr_shedding_schedules\\\\EasternCape_LS.xlsx',\n",
       " 'FreeState_LS.xlsx': 'C:\\\\Users\\\\Wendy W\\\\Documents\\\\GitHub\\\\datathon_imagine_scholar\\\\data\\\\Eskom_curr_shedding_schedules\\\\FreeState_LS.xlsx',\n",
       " 'Gauteng_LS.xlsx': 'C:\\\\Users\\\\Wendy W\\\\Documents\\\\GitHub\\\\datathon_imagine_scholar\\\\data\\\\Eskom_curr_shedding_schedules\\\\Gauteng_LS.xlsx',\n",
       " 'KwaZulu-Natal_LS.xlsx': 'C:\\\\Users\\\\Wendy W\\\\Documents\\\\GitHub\\\\datathon_imagine_scholar\\\\data\\\\Eskom_curr_shedding_schedules\\\\KwaZulu-Natal_LS.xlsx',\n",
       " 'Limpopo_LS.xlsx': 'C:\\\\Users\\\\Wendy W\\\\Documents\\\\GitHub\\\\datathon_imagine_scholar\\\\data\\\\Eskom_curr_shedding_schedules\\\\Limpopo_LS.xlsx',\n",
       " 'Mpumalanga_LS.xlsx': 'C:\\\\Users\\\\Wendy W\\\\Documents\\\\GitHub\\\\datathon_imagine_scholar\\\\data\\\\Eskom_curr_shedding_schedules\\\\Mpumalanga_LS.xlsx',\n",
       " 'NorthernCape_LS.xlsx': 'C:\\\\Users\\\\Wendy W\\\\Documents\\\\GitHub\\\\datathon_imagine_scholar\\\\data\\\\Eskom_curr_shedding_schedules\\\\NorthernCape_LS.xlsx',\n",
       " 'NorthWest_LS.xlsx': 'C:\\\\Users\\\\Wendy W\\\\Documents\\\\GitHub\\\\datathon_imagine_scholar\\\\data\\\\Eskom_curr_shedding_schedules\\\\NorthWest_LS.xlsx',\n",
       " 'WesternCape_LS.xlsx': 'C:\\\\Users\\\\Wendy W\\\\Documents\\\\GitHub\\\\datathon_imagine_scholar\\\\data\\\\Eskom_curr_shedding_schedules\\\\WesternCape_LS.xlsx',\n",
       " 'Total_Electricity_Production.csv': 'C:\\\\Users\\\\Wendy W\\\\Documents\\\\GitHub\\\\datathon_imagine_scholar\\\\data\\\\Total_Electricity_Production.csv',\n",
       " 'word_deve_indicator1.csv': 'C:\\\\Users\\\\Wendy W\\\\Documents\\\\GitHub\\\\datathon_imagine_scholar\\\\data\\\\word_deve_indicator1.csv'}"
      ]
     },
     "execution_count": 38,
     "metadata": {},
     "output_type": "execute_result"
    }
   ],
   "source": [
    "print(\"Absolute file paths to the datasets:\")\n",
    "file_paths = {}\n",
    "folder = os.path.join(os.getcwd(),\"data\")\n",
    "for i in os.listdir(folder):\n",
    "    if \".ipynb_checkpoints\" in i:\n",
    "        continue\n",
    "    if len(i.split(\".\")) == 1:\n",
    "        for j in os.listdir(\"data/\"+i):\n",
    "            file_path = os.path.join(folder+\"\\\\\"+i+\"\\\\\"+j)\n",
    "            print(file_path)\n",
    "            filename = j\n",
    "            file_paths[j] = file_path\n",
    "            continue\n",
    "    if \"txt\" in i:\n",
    "        continue\n",
    "    if \"csv\" in i:\n",
    "        \n",
    "        file_path = os.path.join(folder,i)\n",
    "        print(file_path)\n",
    "        df = pd.read_csv(file_path)\n",
    "        print(df.shape)\n",
    "        display(df.head())\n",
    "        file_paths[i] = file_path\n",
    "file_paths\n",
    "    \n",
    "    "
   ]
  },
  {
   "cell_type": "code",
   "execution_count": 107,
   "metadata": {},
   "outputs": [],
   "source": [
    "south_africa = pd.read_csv(\"data/word_deve_indicator1.csv\")\n",
    "\n",
    "south_africa_info = south_africa.transpose()\n",
    "south_africa_info = south_africa_info.applymap(lambda s:s.lower() if type(s) == str else s)\n",
    "\n",
    "#south_africa_info.columns = south_africa_info.columns.str.lower()\n",
    "south_africa_info.index = south_africa_info.index.str.lower()\n",
    "#df.columns = map(str.lower, df.columns)\n",
    "south_africa_info.columns = south_africa_info.loc[\"series name\"]\n",
    "south_africa_info = south_africa_info.drop(\"series name\",axis=0)\n",
    "south_africa_info = south_africa_info.drop([\"country name\",\"country code\"],axis=0)\n",
    "south_africa_info.index = [x[0] for x in south_africa_info.index.str.split(\" \")]\n",
    "south_africa_info = south_africa_info[south_africa_info.columns[~south_africa_info.columns.isna()]]\n",
    "south_africa_info = south_africa_info.drop(\"2020\",axis = 0)\n",
    "south_africa_info = south_africa_info.drop(\"series\",axis = 0)\n",
    "south_africa_info[\"surface area (sq. km)\"] = 1219090\n",
    "south_africa_info[\"population density (people per sq. km of land area)\"] = 100*south_africa_info[\"population, total\"].astype(float)/ south_africa_info[\"surface area (sq. km)\"].astype(float)"
   ]
  },
  {
   "cell_type": "code",
   "execution_count": 114,
   "metadata": {},
   "outputs": [
    {
     "name": "stdout",
     "output_type": "stream",
     "text": [
      "population, total:  0\n",
      "population growth (annual %):  0\n",
      "surface area (sq. km):  0\n",
      "population density (people per sq. km of land area):  0\n",
      "poverty headcount ratio at national poverty lines (% of population):  10\n",
      "poverty headcount ratio at $1.90 a day (2011 ppp) (% of population):  9\n",
      "gni, atlas method (current us$):  0\n",
      "gni per capita, atlas method (current us$):  0\n",
      "gni, ppp (current international $):  0\n",
      "gni per capita, ppp (current international $):  0\n",
      "income share held by lowest 20%:  9\n",
      "life expectancy at birth, total (years):  1\n",
      "fertility rate, total (births per woman):  1\n",
      "adolescent fertility rate (births per 1,000 women ages 15-19):  1\n",
      "contraceptive prevalence, any methods (% of women ages 15-49):  9\n",
      "births attended by skilled health staff (% of total):  10\n",
      "mortality rate, under-5 (per 1,000 live births):  0\n",
      "prevalence of underweight, weight for age (% of children under 5):  9\n",
      "immunization, measles (% of children ages 12-23 months):  0\n",
      "primary completion rate, total (% of relevant age group):  8\n",
      "school enrollment, primary (% gross):  2\n",
      "school enrollment, secondary (% gross):  3\n",
      "school enrollment, primary and secondary (gross), gender parity index (gpi):  3\n",
      "prevalence of hiv, total (% of population ages 15-49):  0\n",
      "forest area (sq. km):  3\n",
      "terrestrial and marine protected areas (% of total territorial area):  8\n",
      "annual freshwater withdrawals, total (% of internal resources):  10\n",
      "urban population growth (annual %):  0\n",
      "energy use (kg of oil equivalent per capita):  5\n",
      "co2 emissions (metric tons per capita):  3\n",
      "electric power consumption (kwh per capita):  5\n",
      "gdp (current us$):  0\n",
      "gdp growth (annual %):  0\n",
      "inflation, gdp deflator (annual %):  0\n",
      "agriculture, forestry, and fishing, value added (% of gdp):  0\n",
      "industry (including construction), value added (% of gdp):  0\n",
      "exports of goods and services (% of gdp):  0\n",
      "imports of goods and services (% of gdp):  0\n",
      "gross capital formation (% of gdp):  0\n",
      "revenue, excluding grants (% of gdp):  1\n",
      "time required to start a business (days):  2\n",
      "domestic credit provided by financial sector (% of gdp):  1\n",
      "tax revenue (% of gdp):  1\n",
      "military expenditure (% of gdp):  1\n",
      "mobile cellular subscriptions (per 100 people):  0\n",
      "high-technology exports (% of manufactured exports):  3\n",
      "statistical capacity score (overall average):  2\n",
      "merchandise trade (% of gdp):  0\n",
      "net barter terms of trade index (2000 = 100):  1\n",
      "external debt stocks, total (dod, current us$):  1\n",
      "total debt service (% of exports of goods, services and primary income):  2\n",
      "net migration:  9\n",
      "personal remittances, received (current us$):  0\n",
      "foreign direct investment, net inflows (bop, current us$):  0\n",
      "net official development assistance and official aid received (current us$):  2\n"
     ]
    }
   ],
   "source": [
    "south_africa_info = south_africa_info.replace(\"..\",np.nan)\n",
    "for i in south_africa_info.columns:\n",
    "    print(i+\":  \"+str(south_africa_info[i].isna().sum()))"
   ]
  },
  {
   "cell_type": "code",
   "execution_count": 182,
   "metadata": {},
   "outputs": [],
   "source": [
    "pd.set_option('display.max_colwidth', None)\n",
    "south_africa_info.to_csv(\"south_africa_info.csv\")"
   ]
  },
  {
   "cell_type": "code",
   "execution_count": 180,
   "metadata": {
    "scrolled": true
   },
   "outputs": [],
   "source": [
    "past_thread= pd.read_csv(\"data\\EskomSePush Loadshedding History - EskomSePush_stages.csv\")\n",
    "past_thread[\"datetime\"] = pd.to_datetime(past_thread[\"created_at\"])\n",
    "past_thread = past_thread.drop(\"created_at\",axis = 1)\n",
    "past_thread[\"year\"] = past_thread[\"datetime\"].apply(lambda x: x.year)\n",
    "past_thread[\"month\"] = past_thread[\"datetime\"].apply(lambda x: x.month)\n",
    "past_thread[\"date\"] = past_thread[\"datetime\"].apply(lambda x: x.date())\n",
    "past_thread[\"day_of_week\"] = past_thread[\"datetime\"].apply(lambda x: x.day)\n",
    "past_thread[\"time\"] = past_thread[\"datetime\"].apply(lambda x: x.time())\n",
    "past_thread.to_csv(\"past_shedding.csv\")"
   ]
  },
  {
   "cell_type": "code",
   "execution_count": null,
   "metadata": {},
   "outputs": [],
   "source": []
  },
  {
   "cell_type": "code",
   "execution_count": 172,
   "metadata": {},
   "outputs": [],
   "source": [
    "df_2019 = past_thread.loc[past_thread[\"year\"]==2018]"
   ]
  },
  {
   "cell_type": "code",
   "execution_count": 174,
   "metadata": {},
   "outputs": [
    {
     "data": {
      "application/vnd.plotly.v1+json": {
       "config": {
        "plotlyServerURL": "https://plot.ly"
       },
       "data": [
        {
         "mode": "lines+markers",
         "name": "Confirmed Cases",
         "type": "scatter",
         "x": [
          "2020-09-07",
          "2020-09-07",
          "2020-09-07",
          "2020-09-06",
          "2020-09-06",
          "2020-09-06",
          "2020-09-05",
          "2020-09-05",
          "2020-09-04",
          "2020-09-04",
          "2020-09-03",
          "2020-09-03",
          "2020-09-02",
          "2020-09-02",
          "2020-09-02",
          "2020-09-01",
          "2020-09-01",
          "2020-08-20",
          "2020-08-20",
          "2020-08-19",
          "2020-08-19",
          "2020-08-18",
          "2020-08-18",
          "2020-08-14",
          "2020-08-14",
          "2020-08-14",
          "2020-08-13",
          "2020-08-13",
          "2020-07-16",
          "2020-07-16",
          "2020-07-16",
          "2020-07-15",
          "2020-07-15",
          "2020-07-15",
          "2020-07-14",
          "2020-07-14",
          "2020-07-13",
          "2020-07-13",
          "2020-07-12",
          "2020-07-12",
          "2020-07-12",
          "2020-07-11",
          "2020-07-11",
          "2020-07-10",
          "2020-07-10",
          "2020-03-15",
          "2020-03-15",
          "2020-03-14",
          "2020-03-14",
          "2020-03-14",
          "2020-03-13",
          "2020-03-13",
          "2020-03-11",
          "2020-03-10",
          "2020-03-10",
          "2020-03-10",
          "2020-03-10",
          "2020-03-10",
          "2020-03-09",
          "2020-02-22",
          "2020-02-20",
          "2020-02-16",
          "2020-02-16",
          "2020-02-15",
          "2020-02-14",
          "2020-02-11",
          "2020-02-11",
          "2020-02-11",
          "2020-02-10",
          "2020-02-09",
          "2020-02-04",
          "2020-02-04",
          "2020-02-03",
          "2020-02-03",
          "2020-02-03",
          "2020-02-03",
          "2020-01-31",
          "2020-01-31",
          "2020-01-30",
          "2020-01-10",
          "2020-01-10",
          "2020-01-08",
          "2020-01-08",
          "2020-01-08",
          "2020-01-05",
          "2020-01-04",
          "2019-12-13",
          "2019-12-13",
          "2019-12-13",
          "2019-12-12",
          "2019-12-11",
          "2019-12-11",
          "2019-12-10",
          "2019-12-10",
          "2019-12-09",
          "2019-12-09",
          "2019-12-09",
          "2019-12-08",
          "2019-12-07",
          "2019-12-06",
          "2019-12-06",
          "2019-12-06",
          "2019-12-06",
          "2019-12-05",
          "2019-11-08",
          "2019-11-07",
          "2019-10-19",
          "2019-10-19",
          "2019-10-18",
          "2019-10-18",
          "2019-10-18",
          "2019-10-17",
          "2019-10-17",
          "2019-10-16",
          "2019-10-16",
          "2019-03-23",
          "2019-03-23",
          "2019-03-23",
          "2019-03-22",
          "2019-03-22",
          "2019-03-21",
          "2019-03-21",
          "2019-03-20",
          "2019-03-20",
          "2019-03-19",
          "2019-03-19",
          "2019-03-19",
          "2019-03-18",
          "2019-03-17",
          "2019-03-17",
          "2019-03-16",
          "2019-03-16",
          "2019-03-16",
          "2019-03-16",
          "2019-03-15",
          "2019-03-15",
          "2019-03-14",
          "2019-03-14",
          "2019-03-14",
          "2019-02-14",
          "2019-02-14",
          "2019-02-13",
          "2019-02-13",
          "2019-02-12",
          "2019-02-12",
          "2019-02-11",
          "2019-02-11",
          "2019-02-11",
          "2019-02-10",
          "2019-02-10",
          "2018-12-08",
          "2018-12-08",
          "2018-12-07",
          "2018-12-07",
          "2018-12-06",
          "2018-12-06",
          "2018-12-06",
          "2018-12-05",
          "2018-12-05",
          "2018-12-05",
          "2018-12-04",
          "2018-12-04",
          "2018-12-04",
          "2018-12-03",
          "2018-12-03",
          "2018-12-03",
          "2018-12-02",
          "2018-12-02",
          "2018-12-02",
          "2018-12-01",
          "2018-12-01",
          "2018-12-01",
          "2018-12-01",
          "2018-11-30",
          "2018-11-30",
          "2018-11-29",
          "2018-11-29",
          "2018-11-18",
          "2018-11-18",
          "2018-06-16",
          "2018-06-16",
          "2018-06-15",
          "2018-06-15",
          "2018-06-14",
          "2018-06-14",
          "2015-09-14",
          "2015-09-14",
          "2015-08-08",
          "2015-08-08",
          "2015-08-06",
          "2015-08-06",
          "2015-08-06",
          "2015-08-06",
          "2015-08-05",
          "2015-08-05",
          "2015-08-04",
          "2015-08-04",
          "2015-08-03",
          "2015-08-03",
          "2015-07-30",
          "2015-07-30",
          "2015-07-29",
          "2015-07-29",
          "2015-07-26",
          "2015-07-26",
          "2015-07-25",
          "2015-07-25",
          "2015-07-24",
          "2015-07-24",
          "2015-07-24",
          "2015-07-23",
          "2015-07-23",
          "2015-07-22",
          "2015-07-22",
          "2015-07-21",
          "2015-07-21",
          "2015-07-20",
          "2015-07-20",
          "2015-07-19",
          "2015-07-19",
          "2015-07-17",
          "2015-07-16",
          "2015-07-15",
          "2015-07-15",
          "2015-07-15",
          "2015-07-14",
          "2015-07-14",
          "2015-07-10",
          "2015-07-10",
          "2015-07-09",
          "2015-07-09",
          "2015-06-29",
          "2015-06-29",
          "2015-06-28",
          "2015-06-28",
          "2015-06-27",
          "2015-06-27",
          "2015-06-26",
          "2015-06-26",
          "2015-06-25",
          "2015-06-25",
          "2015-06-25",
          "2015-06-24",
          "2015-06-24",
          "2015-06-23",
          "2015-06-23",
          "2015-06-22",
          "2015-06-22",
          "2015-06-22",
          "2015-06-21",
          "2015-06-21",
          "2015-06-20",
          "2015-06-20",
          "2015-06-20",
          "2015-06-20",
          "2015-06-20",
          "2015-06-19",
          "2015-06-19",
          "2015-06-18",
          "2015-06-18",
          "2015-06-17",
          "2015-06-17",
          "2015-06-14",
          "2015-06-14",
          "2015-06-12",
          "2015-06-12",
          "2015-06-12",
          "2015-06-11",
          "2015-06-11",
          "2015-06-11",
          "2015-06-10",
          "2015-06-10",
          "2015-06-10",
          "2015-06-09",
          "2015-06-09",
          "2015-06-08",
          "2015-06-08",
          "2015-06-08",
          "2015-06-07",
          "2015-06-07",
          "2015-05-27",
          "2015-05-27",
          "2015-05-26",
          "2015-05-26",
          "2015-05-25",
          "2015-05-25",
          "2015-05-24",
          "2015-05-24",
          "2015-05-23",
          "2015-05-23",
          "2015-05-22",
          "2015-05-22",
          "2015-05-22",
          "2015-05-21",
          "2015-05-21",
          "2015-05-21",
          "2015-05-20",
          "2015-05-20",
          "2015-05-20",
          "2015-05-19",
          "2015-05-19",
          "2015-05-19",
          "2015-05-19",
          "2015-05-19",
          "2015-05-18",
          "2015-05-18",
          "2015-05-18",
          "2015-05-17",
          "2015-05-17",
          "2015-05-17",
          "2015-05-16",
          "2015-05-16",
          "2015-05-15",
          "2015-05-15",
          "2015-05-14",
          "2015-05-14",
          "2015-05-14",
          "2015-05-13",
          "2015-05-13",
          "2015-05-13",
          "2015-05-12",
          "2015-05-12",
          "2015-05-11",
          "2015-05-11",
          "2015-05-10",
          "2015-05-10",
          "2015-05-10",
          "2015-05-10",
          "2015-05-10",
          "2015-05-09",
          "2015-05-09",
          "2015-05-09",
          "2015-05-09",
          "2015-05-09",
          "2015-05-08",
          "2015-05-08",
          "2015-05-07",
          "2015-05-07",
          "2015-05-07",
          "2015-05-06",
          "2015-05-06",
          "2015-05-06",
          "2015-05-05",
          "2015-05-05",
          "2015-05-04",
          "2015-05-04",
          "2015-05-03",
          "2015-05-03",
          "2015-04-29",
          "2015-04-29",
          "2015-04-23",
          "2015-04-23",
          "2015-04-23",
          "2015-04-23",
          "2015-04-22",
          "2015-04-22",
          "2015-04-21",
          "2015-04-21",
          "2015-04-20",
          "2015-04-20",
          "2015-04-19",
          "2015-04-19",
          "2015-04-18",
          "2015-04-18",
          "2015-04-17",
          "2015-04-17",
          "2015-04-17",
          "2015-04-16",
          "2015-04-16",
          "2015-04-16",
          "2015-04-15",
          "2015-04-15",
          "2015-04-15",
          "2015-04-14",
          "2015-04-14",
          "2015-04-14",
          "2015-04-14",
          "2015-04-13",
          "2015-04-13",
          "2015-04-12",
          "2015-04-12",
          "2015-04-07",
          "2015-04-07",
          "2015-03-26",
          "2015-03-26",
          "2015-03-25",
          "2015-03-25",
          "2015-03-25",
          "2015-03-21",
          "2015-03-21",
          "2015-03-21",
          "2015-02-26",
          "2015-02-22",
          "2015-02-22",
          "2015-02-21",
          "2015-02-21",
          "2015-02-15",
          "2015-02-15",
          "2015-02-15",
          "2015-02-14",
          "2015-02-14",
          "2015-02-14",
          "2015-02-11",
          "2015-02-11",
          "2015-02-11",
          "2015-02-10",
          "2015-02-10",
          "2015-02-09",
          "2015-02-09",
          "2015-02-08",
          "2015-02-08",
          "2015-02-07",
          "2015-02-07",
          "2015-02-06",
          "2015-02-06",
          "2015-02-06",
          "2015-02-05",
          "2015-02-05",
          "2015-02-05",
          "2015-02-04",
          "2015-01-26",
          "2015-01-09"
         ],
         "y": [
          0,
          2,
          1,
          0,
          1,
          2,
          0,
          2,
          0,
          3,
          0,
          4,
          0,
          4,
          2,
          0,
          2,
          0,
          2,
          0,
          2,
          0,
          2,
          0,
          1,
          2,
          0,
          2,
          0,
          2,
          1,
          0,
          2,
          1,
          0,
          2,
          0,
          2,
          0,
          1,
          2,
          0,
          2,
          0,
          2,
          0,
          1,
          0,
          1,
          2,
          0,
          3,
          4,
          2,
          4,
          2,
          2,
          0,
          1,
          0,
          2,
          0,
          2,
          3,
          2,
          0,
          1,
          0,
          1,
          0,
          2,
          0,
          2,
          0,
          2,
          0,
          2,
          0,
          2,
          0,
          1,
          2,
          0,
          2,
          0,
          2,
          0,
          1,
          2,
          1,
          2,
          0,
          2,
          3,
          4,
          6,
          4,
          2,
          1,
          2,
          4,
          2,
          0,
          2,
          0,
          2,
          0,
          1,
          0,
          2,
          1,
          0,
          2,
          0,
          2,
          0,
          1,
          2,
          1,
          2,
          1,
          4,
          2,
          4,
          2,
          4,
          2,
          4,
          2,
          4,
          2,
          4,
          3,
          2,
          0,
          2,
          0,
          2,
          1,
          0,
          2,
          0,
          3,
          0,
          3,
          0,
          4,
          2,
          0,
          2,
          0,
          1,
          0,
          1,
          0,
          1,
          2,
          0,
          1,
          2,
          0,
          1,
          2,
          0,
          1,
          2,
          0,
          1,
          2,
          0,
          1,
          2,
          1,
          0,
          2,
          0,
          1,
          0,
          1,
          0,
          2,
          0,
          1,
          0,
          1,
          0,
          1,
          0,
          1,
          0,
          2,
          0,
          1,
          0,
          2,
          0,
          2,
          0,
          2,
          0,
          1,
          0,
          1,
          0,
          2,
          0,
          2,
          0,
          2,
          1,
          0,
          2,
          0,
          1,
          0,
          2,
          0,
          1,
          0,
          2,
          0,
          1,
          0,
          2,
          1,
          0,
          1,
          0,
          1,
          0,
          1,
          0,
          1,
          0,
          2,
          0,
          2,
          0,
          2,
          0,
          2,
          1,
          0,
          1,
          0,
          1,
          0,
          2,
          1,
          0,
          1,
          0,
          2,
          3,
          2,
          1,
          0,
          1,
          0,
          1,
          0,
          1,
          0,
          1,
          0,
          2,
          1,
          0,
          2,
          1,
          0,
          2,
          1,
          0,
          1,
          0,
          2,
          1,
          0,
          1,
          0,
          1,
          0,
          1,
          0,
          1,
          0,
          1,
          0,
          2,
          0,
          2,
          1,
          0,
          2,
          1,
          0,
          2,
          1,
          0,
          1,
          0,
          2,
          1,
          0,
          2,
          1,
          0,
          1,
          2,
          0,
          1,
          0,
          1,
          0,
          2,
          1,
          0,
          1,
          0,
          2,
          0,
          2,
          1,
          0,
          1,
          0,
          1,
          0,
          1,
          0,
          1,
          2,
          1,
          0,
          1,
          0,
          2,
          1,
          0,
          2,
          1,
          0,
          1,
          0,
          1,
          0,
          1,
          0,
          1,
          0,
          1,
          2,
          1,
          0,
          1,
          0,
          1,
          0,
          1,
          0,
          1,
          0,
          2,
          0,
          2,
          1,
          0,
          2,
          1,
          0,
          3,
          2,
          0,
          2,
          3,
          2,
          0,
          2,
          0,
          2,
          0,
          1,
          0,
          2,
          0,
          2,
          2,
          0,
          1,
          1,
          2,
          0,
          1,
          0,
          1,
          0,
          1,
          2,
          0,
          0,
          2,
          0,
          2,
          1,
          0,
          1,
          0,
          1,
          0,
          2,
          0,
          2,
          0,
          2,
          0,
          3,
          2,
          0,
          2,
          2,
          1
         ]
        }
       ],
       "layout": {
        "legend": {
         "traceorder": "normal",
         "x": 0,
         "y": 1
        },
        "template": {
         "data": {
          "bar": [
           {
            "error_x": {
             "color": "#2a3f5f"
            },
            "error_y": {
             "color": "#2a3f5f"
            },
            "marker": {
             "line": {
              "color": "#E5ECF6",
              "width": 0.5
             }
            },
            "type": "bar"
           }
          ],
          "barpolar": [
           {
            "marker": {
             "line": {
              "color": "#E5ECF6",
              "width": 0.5
             }
            },
            "type": "barpolar"
           }
          ],
          "carpet": [
           {
            "aaxis": {
             "endlinecolor": "#2a3f5f",
             "gridcolor": "white",
             "linecolor": "white",
             "minorgridcolor": "white",
             "startlinecolor": "#2a3f5f"
            },
            "baxis": {
             "endlinecolor": "#2a3f5f",
             "gridcolor": "white",
             "linecolor": "white",
             "minorgridcolor": "white",
             "startlinecolor": "#2a3f5f"
            },
            "type": "carpet"
           }
          ],
          "choropleth": [
           {
            "colorbar": {
             "outlinewidth": 0,
             "ticks": ""
            },
            "type": "choropleth"
           }
          ],
          "contour": [
           {
            "colorbar": {
             "outlinewidth": 0,
             "ticks": ""
            },
            "colorscale": [
             [
              0,
              "#0d0887"
             ],
             [
              0.1111111111111111,
              "#46039f"
             ],
             [
              0.2222222222222222,
              "#7201a8"
             ],
             [
              0.3333333333333333,
              "#9c179e"
             ],
             [
              0.4444444444444444,
              "#bd3786"
             ],
             [
              0.5555555555555556,
              "#d8576b"
             ],
             [
              0.6666666666666666,
              "#ed7953"
             ],
             [
              0.7777777777777778,
              "#fb9f3a"
             ],
             [
              0.8888888888888888,
              "#fdca26"
             ],
             [
              1,
              "#f0f921"
             ]
            ],
            "type": "contour"
           }
          ],
          "contourcarpet": [
           {
            "colorbar": {
             "outlinewidth": 0,
             "ticks": ""
            },
            "type": "contourcarpet"
           }
          ],
          "heatmap": [
           {
            "colorbar": {
             "outlinewidth": 0,
             "ticks": ""
            },
            "colorscale": [
             [
              0,
              "#0d0887"
             ],
             [
              0.1111111111111111,
              "#46039f"
             ],
             [
              0.2222222222222222,
              "#7201a8"
             ],
             [
              0.3333333333333333,
              "#9c179e"
             ],
             [
              0.4444444444444444,
              "#bd3786"
             ],
             [
              0.5555555555555556,
              "#d8576b"
             ],
             [
              0.6666666666666666,
              "#ed7953"
             ],
             [
              0.7777777777777778,
              "#fb9f3a"
             ],
             [
              0.8888888888888888,
              "#fdca26"
             ],
             [
              1,
              "#f0f921"
             ]
            ],
            "type": "heatmap"
           }
          ],
          "heatmapgl": [
           {
            "colorbar": {
             "outlinewidth": 0,
             "ticks": ""
            },
            "colorscale": [
             [
              0,
              "#0d0887"
             ],
             [
              0.1111111111111111,
              "#46039f"
             ],
             [
              0.2222222222222222,
              "#7201a8"
             ],
             [
              0.3333333333333333,
              "#9c179e"
             ],
             [
              0.4444444444444444,
              "#bd3786"
             ],
             [
              0.5555555555555556,
              "#d8576b"
             ],
             [
              0.6666666666666666,
              "#ed7953"
             ],
             [
              0.7777777777777778,
              "#fb9f3a"
             ],
             [
              0.8888888888888888,
              "#fdca26"
             ],
             [
              1,
              "#f0f921"
             ]
            ],
            "type": "heatmapgl"
           }
          ],
          "histogram": [
           {
            "marker": {
             "colorbar": {
              "outlinewidth": 0,
              "ticks": ""
             }
            },
            "type": "histogram"
           }
          ],
          "histogram2d": [
           {
            "colorbar": {
             "outlinewidth": 0,
             "ticks": ""
            },
            "colorscale": [
             [
              0,
              "#0d0887"
             ],
             [
              0.1111111111111111,
              "#46039f"
             ],
             [
              0.2222222222222222,
              "#7201a8"
             ],
             [
              0.3333333333333333,
              "#9c179e"
             ],
             [
              0.4444444444444444,
              "#bd3786"
             ],
             [
              0.5555555555555556,
              "#d8576b"
             ],
             [
              0.6666666666666666,
              "#ed7953"
             ],
             [
              0.7777777777777778,
              "#fb9f3a"
             ],
             [
              0.8888888888888888,
              "#fdca26"
             ],
             [
              1,
              "#f0f921"
             ]
            ],
            "type": "histogram2d"
           }
          ],
          "histogram2dcontour": [
           {
            "colorbar": {
             "outlinewidth": 0,
             "ticks": ""
            },
            "colorscale": [
             [
              0,
              "#0d0887"
             ],
             [
              0.1111111111111111,
              "#46039f"
             ],
             [
              0.2222222222222222,
              "#7201a8"
             ],
             [
              0.3333333333333333,
              "#9c179e"
             ],
             [
              0.4444444444444444,
              "#bd3786"
             ],
             [
              0.5555555555555556,
              "#d8576b"
             ],
             [
              0.6666666666666666,
              "#ed7953"
             ],
             [
              0.7777777777777778,
              "#fb9f3a"
             ],
             [
              0.8888888888888888,
              "#fdca26"
             ],
             [
              1,
              "#f0f921"
             ]
            ],
            "type": "histogram2dcontour"
           }
          ],
          "mesh3d": [
           {
            "colorbar": {
             "outlinewidth": 0,
             "ticks": ""
            },
            "type": "mesh3d"
           }
          ],
          "parcoords": [
           {
            "line": {
             "colorbar": {
              "outlinewidth": 0,
              "ticks": ""
             }
            },
            "type": "parcoords"
           }
          ],
          "pie": [
           {
            "automargin": true,
            "type": "pie"
           }
          ],
          "scatter": [
           {
            "marker": {
             "colorbar": {
              "outlinewidth": 0,
              "ticks": ""
             }
            },
            "type": "scatter"
           }
          ],
          "scatter3d": [
           {
            "line": {
             "colorbar": {
              "outlinewidth": 0,
              "ticks": ""
             }
            },
            "marker": {
             "colorbar": {
              "outlinewidth": 0,
              "ticks": ""
             }
            },
            "type": "scatter3d"
           }
          ],
          "scattercarpet": [
           {
            "marker": {
             "colorbar": {
              "outlinewidth": 0,
              "ticks": ""
             }
            },
            "type": "scattercarpet"
           }
          ],
          "scattergeo": [
           {
            "marker": {
             "colorbar": {
              "outlinewidth": 0,
              "ticks": ""
             }
            },
            "type": "scattergeo"
           }
          ],
          "scattergl": [
           {
            "marker": {
             "colorbar": {
              "outlinewidth": 0,
              "ticks": ""
             }
            },
            "type": "scattergl"
           }
          ],
          "scattermapbox": [
           {
            "marker": {
             "colorbar": {
              "outlinewidth": 0,
              "ticks": ""
             }
            },
            "type": "scattermapbox"
           }
          ],
          "scatterpolar": [
           {
            "marker": {
             "colorbar": {
              "outlinewidth": 0,
              "ticks": ""
             }
            },
            "type": "scatterpolar"
           }
          ],
          "scatterpolargl": [
           {
            "marker": {
             "colorbar": {
              "outlinewidth": 0,
              "ticks": ""
             }
            },
            "type": "scatterpolargl"
           }
          ],
          "scatterternary": [
           {
            "marker": {
             "colorbar": {
              "outlinewidth": 0,
              "ticks": ""
             }
            },
            "type": "scatterternary"
           }
          ],
          "surface": [
           {
            "colorbar": {
             "outlinewidth": 0,
             "ticks": ""
            },
            "colorscale": [
             [
              0,
              "#0d0887"
             ],
             [
              0.1111111111111111,
              "#46039f"
             ],
             [
              0.2222222222222222,
              "#7201a8"
             ],
             [
              0.3333333333333333,
              "#9c179e"
             ],
             [
              0.4444444444444444,
              "#bd3786"
             ],
             [
              0.5555555555555556,
              "#d8576b"
             ],
             [
              0.6666666666666666,
              "#ed7953"
             ],
             [
              0.7777777777777778,
              "#fb9f3a"
             ],
             [
              0.8888888888888888,
              "#fdca26"
             ],
             [
              1,
              "#f0f921"
             ]
            ],
            "type": "surface"
           }
          ],
          "table": [
           {
            "cells": {
             "fill": {
              "color": "#EBF0F8"
             },
             "line": {
              "color": "white"
             }
            },
            "header": {
             "fill": {
              "color": "#C8D4E3"
             },
             "line": {
              "color": "white"
             }
            },
            "type": "table"
           }
          ]
         },
         "layout": {
          "annotationdefaults": {
           "arrowcolor": "#2a3f5f",
           "arrowhead": 0,
           "arrowwidth": 1
          },
          "coloraxis": {
           "colorbar": {
            "outlinewidth": 0,
            "ticks": ""
           }
          },
          "colorscale": {
           "diverging": [
            [
             0,
             "#8e0152"
            ],
            [
             0.1,
             "#c51b7d"
            ],
            [
             0.2,
             "#de77ae"
            ],
            [
             0.3,
             "#f1b6da"
            ],
            [
             0.4,
             "#fde0ef"
            ],
            [
             0.5,
             "#f7f7f7"
            ],
            [
             0.6,
             "#e6f5d0"
            ],
            [
             0.7,
             "#b8e186"
            ],
            [
             0.8,
             "#7fbc41"
            ],
            [
             0.9,
             "#4d9221"
            ],
            [
             1,
             "#276419"
            ]
           ],
           "sequential": [
            [
             0,
             "#0d0887"
            ],
            [
             0.1111111111111111,
             "#46039f"
            ],
            [
             0.2222222222222222,
             "#7201a8"
            ],
            [
             0.3333333333333333,
             "#9c179e"
            ],
            [
             0.4444444444444444,
             "#bd3786"
            ],
            [
             0.5555555555555556,
             "#d8576b"
            ],
            [
             0.6666666666666666,
             "#ed7953"
            ],
            [
             0.7777777777777778,
             "#fb9f3a"
            ],
            [
             0.8888888888888888,
             "#fdca26"
            ],
            [
             1,
             "#f0f921"
            ]
           ],
           "sequentialminus": [
            [
             0,
             "#0d0887"
            ],
            [
             0.1111111111111111,
             "#46039f"
            ],
            [
             0.2222222222222222,
             "#7201a8"
            ],
            [
             0.3333333333333333,
             "#9c179e"
            ],
            [
             0.4444444444444444,
             "#bd3786"
            ],
            [
             0.5555555555555556,
             "#d8576b"
            ],
            [
             0.6666666666666666,
             "#ed7953"
            ],
            [
             0.7777777777777778,
             "#fb9f3a"
            ],
            [
             0.8888888888888888,
             "#fdca26"
            ],
            [
             1,
             "#f0f921"
            ]
           ]
          },
          "colorway": [
           "#636efa",
           "#EF553B",
           "#00cc96",
           "#ab63fa",
           "#FFA15A",
           "#19d3f3",
           "#FF6692",
           "#B6E880",
           "#FF97FF",
           "#FECB52"
          ],
          "font": {
           "color": "#2a3f5f"
          },
          "geo": {
           "bgcolor": "white",
           "lakecolor": "white",
           "landcolor": "#E5ECF6",
           "showlakes": true,
           "showland": true,
           "subunitcolor": "white"
          },
          "hoverlabel": {
           "align": "left"
          },
          "hovermode": "closest",
          "mapbox": {
           "style": "light"
          },
          "paper_bgcolor": "white",
          "plot_bgcolor": "#E5ECF6",
          "polar": {
           "angularaxis": {
            "gridcolor": "white",
            "linecolor": "white",
            "ticks": ""
           },
           "bgcolor": "#E5ECF6",
           "radialaxis": {
            "gridcolor": "white",
            "linecolor": "white",
            "ticks": ""
           }
          },
          "scene": {
           "xaxis": {
            "backgroundcolor": "#E5ECF6",
            "gridcolor": "white",
            "gridwidth": 2,
            "linecolor": "white",
            "showbackground": true,
            "ticks": "",
            "zerolinecolor": "white"
           },
           "yaxis": {
            "backgroundcolor": "#E5ECF6",
            "gridcolor": "white",
            "gridwidth": 2,
            "linecolor": "white",
            "showbackground": true,
            "ticks": "",
            "zerolinecolor": "white"
           },
           "zaxis": {
            "backgroundcolor": "#E5ECF6",
            "gridcolor": "white",
            "gridwidth": 2,
            "linecolor": "white",
            "showbackground": true,
            "ticks": "",
            "zerolinecolor": "white"
           }
          },
          "shapedefaults": {
           "line": {
            "color": "#2a3f5f"
           }
          },
          "ternary": {
           "aaxis": {
            "gridcolor": "white",
            "linecolor": "white",
            "ticks": ""
           },
           "baxis": {
            "gridcolor": "white",
            "linecolor": "white",
            "ticks": ""
           },
           "bgcolor": "#E5ECF6",
           "caxis": {
            "gridcolor": "white",
            "linecolor": "white",
            "ticks": ""
           }
          },
          "title": {
           "x": 0.05
          },
          "xaxis": {
           "automargin": true,
           "gridcolor": "white",
           "linecolor": "white",
           "ticks": "",
           "title": {
            "standoff": 15
           },
           "zerolinecolor": "white",
           "zerolinewidth": 2
          },
          "yaxis": {
           "automargin": true,
           "gridcolor": "white",
           "linecolor": "white",
           "ticks": "",
           "title": {
            "standoff": 15
           },
           "zerolinecolor": "white",
           "zerolinewidth": 2
          }
         }
        },
        "title": {
         "text": "Stage of threading in 2020 by day"
        },
        "xaxis": {
         "title": {
          "text": "Date"
         }
        },
        "yaxis": {
         "title": {
          "text": "Stage"
         }
        }
       }
      },
      "text/html": [
       "<div>                            <div id=\"08080901-5f1d-4964-8781-b05727298bc9\" class=\"plotly-graph-div\" style=\"height:525px; width:100%;\"></div>            <script type=\"text/javascript\">                require([\"plotly\"], function(Plotly) {                    window.PLOTLYENV=window.PLOTLYENV || {};                                    if (document.getElementById(\"08080901-5f1d-4964-8781-b05727298bc9\")) {                    Plotly.newPlot(                        \"08080901-5f1d-4964-8781-b05727298bc9\",                        [{\"mode\": \"lines+markers\", \"name\": \"Confirmed Cases\", \"type\": \"scatter\", \"x\": [\"2020-09-07\", \"2020-09-07\", \"2020-09-07\", \"2020-09-06\", \"2020-09-06\", \"2020-09-06\", \"2020-09-05\", \"2020-09-05\", \"2020-09-04\", \"2020-09-04\", \"2020-09-03\", \"2020-09-03\", \"2020-09-02\", \"2020-09-02\", \"2020-09-02\", \"2020-09-01\", \"2020-09-01\", \"2020-08-20\", \"2020-08-20\", \"2020-08-19\", \"2020-08-19\", \"2020-08-18\", \"2020-08-18\", \"2020-08-14\", \"2020-08-14\", \"2020-08-14\", \"2020-08-13\", \"2020-08-13\", \"2020-07-16\", \"2020-07-16\", \"2020-07-16\", \"2020-07-15\", \"2020-07-15\", \"2020-07-15\", \"2020-07-14\", \"2020-07-14\", \"2020-07-13\", \"2020-07-13\", \"2020-07-12\", \"2020-07-12\", \"2020-07-12\", \"2020-07-11\", \"2020-07-11\", \"2020-07-10\", \"2020-07-10\", \"2020-03-15\", \"2020-03-15\", \"2020-03-14\", \"2020-03-14\", \"2020-03-14\", \"2020-03-13\", \"2020-03-13\", \"2020-03-11\", \"2020-03-10\", \"2020-03-10\", \"2020-03-10\", \"2020-03-10\", \"2020-03-10\", \"2020-03-09\", \"2020-02-22\", \"2020-02-20\", \"2020-02-16\", \"2020-02-16\", \"2020-02-15\", \"2020-02-14\", \"2020-02-11\", \"2020-02-11\", \"2020-02-11\", \"2020-02-10\", \"2020-02-09\", \"2020-02-04\", \"2020-02-04\", \"2020-02-03\", \"2020-02-03\", \"2020-02-03\", \"2020-02-03\", \"2020-01-31\", \"2020-01-31\", \"2020-01-30\", \"2020-01-10\", \"2020-01-10\", \"2020-01-08\", \"2020-01-08\", \"2020-01-08\", \"2020-01-05\", \"2020-01-04\", \"2019-12-13\", \"2019-12-13\", \"2019-12-13\", \"2019-12-12\", \"2019-12-11\", \"2019-12-11\", \"2019-12-10\", \"2019-12-10\", \"2019-12-09\", \"2019-12-09\", \"2019-12-09\", \"2019-12-08\", \"2019-12-07\", \"2019-12-06\", \"2019-12-06\", \"2019-12-06\", \"2019-12-06\", \"2019-12-05\", \"2019-11-08\", \"2019-11-07\", \"2019-10-19\", \"2019-10-19\", \"2019-10-18\", \"2019-10-18\", \"2019-10-18\", \"2019-10-17\", \"2019-10-17\", \"2019-10-16\", \"2019-10-16\", \"2019-03-23\", \"2019-03-23\", \"2019-03-23\", \"2019-03-22\", \"2019-03-22\", \"2019-03-21\", \"2019-03-21\", \"2019-03-20\", \"2019-03-20\", \"2019-03-19\", \"2019-03-19\", \"2019-03-19\", \"2019-03-18\", \"2019-03-17\", \"2019-03-17\", \"2019-03-16\", \"2019-03-16\", \"2019-03-16\", \"2019-03-16\", \"2019-03-15\", \"2019-03-15\", \"2019-03-14\", \"2019-03-14\", \"2019-03-14\", \"2019-02-14\", \"2019-02-14\", \"2019-02-13\", \"2019-02-13\", \"2019-02-12\", \"2019-02-12\", \"2019-02-11\", \"2019-02-11\", \"2019-02-11\", \"2019-02-10\", \"2019-02-10\", \"2018-12-08\", \"2018-12-08\", \"2018-12-07\", \"2018-12-07\", \"2018-12-06\", \"2018-12-06\", \"2018-12-06\", \"2018-12-05\", \"2018-12-05\", \"2018-12-05\", \"2018-12-04\", \"2018-12-04\", \"2018-12-04\", \"2018-12-03\", \"2018-12-03\", \"2018-12-03\", \"2018-12-02\", \"2018-12-02\", \"2018-12-02\", \"2018-12-01\", \"2018-12-01\", \"2018-12-01\", \"2018-12-01\", \"2018-11-30\", \"2018-11-30\", \"2018-11-29\", \"2018-11-29\", \"2018-11-18\", \"2018-11-18\", \"2018-06-16\", \"2018-06-16\", \"2018-06-15\", \"2018-06-15\", \"2018-06-14\", \"2018-06-14\", \"2015-09-14\", \"2015-09-14\", \"2015-08-08\", \"2015-08-08\", \"2015-08-06\", \"2015-08-06\", \"2015-08-06\", \"2015-08-06\", \"2015-08-05\", \"2015-08-05\", \"2015-08-04\", \"2015-08-04\", \"2015-08-03\", \"2015-08-03\", \"2015-07-30\", \"2015-07-30\", \"2015-07-29\", \"2015-07-29\", \"2015-07-26\", \"2015-07-26\", \"2015-07-25\", \"2015-07-25\", \"2015-07-24\", \"2015-07-24\", \"2015-07-24\", \"2015-07-23\", \"2015-07-23\", \"2015-07-22\", \"2015-07-22\", \"2015-07-21\", \"2015-07-21\", \"2015-07-20\", \"2015-07-20\", \"2015-07-19\", \"2015-07-19\", \"2015-07-17\", \"2015-07-16\", \"2015-07-15\", \"2015-07-15\", \"2015-07-15\", \"2015-07-14\", \"2015-07-14\", \"2015-07-10\", \"2015-07-10\", \"2015-07-09\", \"2015-07-09\", \"2015-06-29\", \"2015-06-29\", \"2015-06-28\", \"2015-06-28\", \"2015-06-27\", \"2015-06-27\", \"2015-06-26\", \"2015-06-26\", \"2015-06-25\", \"2015-06-25\", \"2015-06-25\", \"2015-06-24\", \"2015-06-24\", \"2015-06-23\", \"2015-06-23\", \"2015-06-22\", \"2015-06-22\", \"2015-06-22\", \"2015-06-21\", \"2015-06-21\", \"2015-06-20\", \"2015-06-20\", \"2015-06-20\", \"2015-06-20\", \"2015-06-20\", \"2015-06-19\", \"2015-06-19\", \"2015-06-18\", \"2015-06-18\", \"2015-06-17\", \"2015-06-17\", \"2015-06-14\", \"2015-06-14\", \"2015-06-12\", \"2015-06-12\", \"2015-06-12\", \"2015-06-11\", \"2015-06-11\", \"2015-06-11\", \"2015-06-10\", \"2015-06-10\", \"2015-06-10\", \"2015-06-09\", \"2015-06-09\", \"2015-06-08\", \"2015-06-08\", \"2015-06-08\", \"2015-06-07\", \"2015-06-07\", \"2015-05-27\", \"2015-05-27\", \"2015-05-26\", \"2015-05-26\", \"2015-05-25\", \"2015-05-25\", \"2015-05-24\", \"2015-05-24\", \"2015-05-23\", \"2015-05-23\", \"2015-05-22\", \"2015-05-22\", \"2015-05-22\", \"2015-05-21\", \"2015-05-21\", \"2015-05-21\", \"2015-05-20\", \"2015-05-20\", \"2015-05-20\", \"2015-05-19\", \"2015-05-19\", \"2015-05-19\", \"2015-05-19\", \"2015-05-19\", \"2015-05-18\", \"2015-05-18\", \"2015-05-18\", \"2015-05-17\", \"2015-05-17\", \"2015-05-17\", \"2015-05-16\", \"2015-05-16\", \"2015-05-15\", \"2015-05-15\", \"2015-05-14\", \"2015-05-14\", \"2015-05-14\", \"2015-05-13\", \"2015-05-13\", \"2015-05-13\", \"2015-05-12\", \"2015-05-12\", \"2015-05-11\", \"2015-05-11\", \"2015-05-10\", \"2015-05-10\", \"2015-05-10\", \"2015-05-10\", \"2015-05-10\", \"2015-05-09\", \"2015-05-09\", \"2015-05-09\", \"2015-05-09\", \"2015-05-09\", \"2015-05-08\", \"2015-05-08\", \"2015-05-07\", \"2015-05-07\", \"2015-05-07\", \"2015-05-06\", \"2015-05-06\", \"2015-05-06\", \"2015-05-05\", \"2015-05-05\", \"2015-05-04\", \"2015-05-04\", \"2015-05-03\", \"2015-05-03\", \"2015-04-29\", \"2015-04-29\", \"2015-04-23\", \"2015-04-23\", \"2015-04-23\", \"2015-04-23\", \"2015-04-22\", \"2015-04-22\", \"2015-04-21\", \"2015-04-21\", \"2015-04-20\", \"2015-04-20\", \"2015-04-19\", \"2015-04-19\", \"2015-04-18\", \"2015-04-18\", \"2015-04-17\", \"2015-04-17\", \"2015-04-17\", \"2015-04-16\", \"2015-04-16\", \"2015-04-16\", \"2015-04-15\", \"2015-04-15\", \"2015-04-15\", \"2015-04-14\", \"2015-04-14\", \"2015-04-14\", \"2015-04-14\", \"2015-04-13\", \"2015-04-13\", \"2015-04-12\", \"2015-04-12\", \"2015-04-07\", \"2015-04-07\", \"2015-03-26\", \"2015-03-26\", \"2015-03-25\", \"2015-03-25\", \"2015-03-25\", \"2015-03-21\", \"2015-03-21\", \"2015-03-21\", \"2015-02-26\", \"2015-02-22\", \"2015-02-22\", \"2015-02-21\", \"2015-02-21\", \"2015-02-15\", \"2015-02-15\", \"2015-02-15\", \"2015-02-14\", \"2015-02-14\", \"2015-02-14\", \"2015-02-11\", \"2015-02-11\", \"2015-02-11\", \"2015-02-10\", \"2015-02-10\", \"2015-02-09\", \"2015-02-09\", \"2015-02-08\", \"2015-02-08\", \"2015-02-07\", \"2015-02-07\", \"2015-02-06\", \"2015-02-06\", \"2015-02-06\", \"2015-02-05\", \"2015-02-05\", \"2015-02-05\", \"2015-02-04\", \"2015-01-26\", \"2015-01-09\"], \"y\": [0, 2, 1, 0, 1, 2, 0, 2, 0, 3, 0, 4, 0, 4, 2, 0, 2, 0, 2, 0, 2, 0, 2, 0, 1, 2, 0, 2, 0, 2, 1, 0, 2, 1, 0, 2, 0, 2, 0, 1, 2, 0, 2, 0, 2, 0, 1, 0, 1, 2, 0, 3, 4, 2, 4, 2, 2, 0, 1, 0, 2, 0, 2, 3, 2, 0, 1, 0, 1, 0, 2, 0, 2, 0, 2, 0, 2, 0, 2, 0, 1, 2, 0, 2, 0, 2, 0, 1, 2, 1, 2, 0, 2, 3, 4, 6, 4, 2, 1, 2, 4, 2, 0, 2, 0, 2, 0, 1, 0, 2, 1, 0, 2, 0, 2, 0, 1, 2, 1, 2, 1, 4, 2, 4, 2, 4, 2, 4, 2, 4, 2, 4, 3, 2, 0, 2, 0, 2, 1, 0, 2, 0, 3, 0, 3, 0, 4, 2, 0, 2, 0, 1, 0, 1, 0, 1, 2, 0, 1, 2, 0, 1, 2, 0, 1, 2, 0, 1, 2, 0, 1, 2, 1, 0, 2, 0, 1, 0, 1, 0, 2, 0, 1, 0, 1, 0, 1, 0, 1, 0, 2, 0, 1, 0, 2, 0, 2, 0, 2, 0, 1, 0, 1, 0, 2, 0, 2, 0, 2, 1, 0, 2, 0, 1, 0, 2, 0, 1, 0, 2, 0, 1, 0, 2, 1, 0, 1, 0, 1, 0, 1, 0, 1, 0, 2, 0, 2, 0, 2, 0, 2, 1, 0, 1, 0, 1, 0, 2, 1, 0, 1, 0, 2, 3, 2, 1, 0, 1, 0, 1, 0, 1, 0, 1, 0, 2, 1, 0, 2, 1, 0, 2, 1, 0, 1, 0, 2, 1, 0, 1, 0, 1, 0, 1, 0, 1, 0, 1, 0, 2, 0, 2, 1, 0, 2, 1, 0, 2, 1, 0, 1, 0, 2, 1, 0, 2, 1, 0, 1, 2, 0, 1, 0, 1, 0, 2, 1, 0, 1, 0, 2, 0, 2, 1, 0, 1, 0, 1, 0, 1, 0, 1, 2, 1, 0, 1, 0, 2, 1, 0, 2, 1, 0, 1, 0, 1, 0, 1, 0, 1, 0, 1, 2, 1, 0, 1, 0, 1, 0, 1, 0, 1, 0, 2, 0, 2, 1, 0, 2, 1, 0, 3, 2, 0, 2, 3, 2, 0, 2, 0, 2, 0, 1, 0, 2, 0, 2, 2, 0, 1, 1, 2, 0, 1, 0, 1, 0, 1, 2, 0, 0, 2, 0, 2, 1, 0, 1, 0, 1, 0, 2, 0, 2, 0, 2, 0, 3, 2, 0, 2, 2, 1]}],                        {\"legend\": {\"traceorder\": \"normal\", \"x\": 0, \"y\": 1}, \"template\": {\"data\": {\"bar\": [{\"error_x\": {\"color\": \"#2a3f5f\"}, \"error_y\": {\"color\": \"#2a3f5f\"}, \"marker\": {\"line\": {\"color\": \"#E5ECF6\", \"width\": 0.5}}, \"type\": \"bar\"}], \"barpolar\": [{\"marker\": {\"line\": {\"color\": \"#E5ECF6\", \"width\": 0.5}}, \"type\": \"barpolar\"}], \"carpet\": [{\"aaxis\": {\"endlinecolor\": \"#2a3f5f\", \"gridcolor\": \"white\", \"linecolor\": \"white\", \"minorgridcolor\": \"white\", \"startlinecolor\": \"#2a3f5f\"}, \"baxis\": {\"endlinecolor\": \"#2a3f5f\", \"gridcolor\": \"white\", \"linecolor\": \"white\", \"minorgridcolor\": \"white\", \"startlinecolor\": \"#2a3f5f\"}, \"type\": \"carpet\"}], \"choropleth\": [{\"colorbar\": {\"outlinewidth\": 0, \"ticks\": \"\"}, \"type\": \"choropleth\"}], \"contour\": [{\"colorbar\": {\"outlinewidth\": 0, \"ticks\": \"\"}, \"colorscale\": [[0.0, \"#0d0887\"], [0.1111111111111111, \"#46039f\"], [0.2222222222222222, \"#7201a8\"], [0.3333333333333333, \"#9c179e\"], [0.4444444444444444, \"#bd3786\"], [0.5555555555555556, \"#d8576b\"], [0.6666666666666666, \"#ed7953\"], [0.7777777777777778, \"#fb9f3a\"], [0.8888888888888888, \"#fdca26\"], [1.0, \"#f0f921\"]], \"type\": \"contour\"}], \"contourcarpet\": [{\"colorbar\": {\"outlinewidth\": 0, \"ticks\": \"\"}, \"type\": \"contourcarpet\"}], \"heatmap\": [{\"colorbar\": {\"outlinewidth\": 0, \"ticks\": \"\"}, \"colorscale\": [[0.0, \"#0d0887\"], [0.1111111111111111, \"#46039f\"], [0.2222222222222222, \"#7201a8\"], [0.3333333333333333, \"#9c179e\"], [0.4444444444444444, \"#bd3786\"], [0.5555555555555556, \"#d8576b\"], [0.6666666666666666, \"#ed7953\"], [0.7777777777777778, \"#fb9f3a\"], [0.8888888888888888, \"#fdca26\"], [1.0, \"#f0f921\"]], \"type\": \"heatmap\"}], \"heatmapgl\": [{\"colorbar\": {\"outlinewidth\": 0, \"ticks\": \"\"}, \"colorscale\": [[0.0, \"#0d0887\"], [0.1111111111111111, \"#46039f\"], [0.2222222222222222, \"#7201a8\"], [0.3333333333333333, \"#9c179e\"], [0.4444444444444444, \"#bd3786\"], [0.5555555555555556, \"#d8576b\"], [0.6666666666666666, \"#ed7953\"], [0.7777777777777778, \"#fb9f3a\"], [0.8888888888888888, \"#fdca26\"], [1.0, \"#f0f921\"]], \"type\": \"heatmapgl\"}], \"histogram\": [{\"marker\": {\"colorbar\": {\"outlinewidth\": 0, \"ticks\": \"\"}}, \"type\": \"histogram\"}], \"histogram2d\": [{\"colorbar\": {\"outlinewidth\": 0, \"ticks\": \"\"}, \"colorscale\": [[0.0, \"#0d0887\"], [0.1111111111111111, \"#46039f\"], [0.2222222222222222, \"#7201a8\"], [0.3333333333333333, \"#9c179e\"], [0.4444444444444444, \"#bd3786\"], [0.5555555555555556, \"#d8576b\"], [0.6666666666666666, \"#ed7953\"], [0.7777777777777778, \"#fb9f3a\"], [0.8888888888888888, \"#fdca26\"], [1.0, \"#f0f921\"]], \"type\": \"histogram2d\"}], \"histogram2dcontour\": [{\"colorbar\": {\"outlinewidth\": 0, \"ticks\": \"\"}, \"colorscale\": [[0.0, \"#0d0887\"], [0.1111111111111111, \"#46039f\"], [0.2222222222222222, \"#7201a8\"], [0.3333333333333333, \"#9c179e\"], [0.4444444444444444, \"#bd3786\"], [0.5555555555555556, \"#d8576b\"], [0.6666666666666666, \"#ed7953\"], [0.7777777777777778, \"#fb9f3a\"], [0.8888888888888888, \"#fdca26\"], [1.0, \"#f0f921\"]], \"type\": \"histogram2dcontour\"}], \"mesh3d\": [{\"colorbar\": {\"outlinewidth\": 0, \"ticks\": \"\"}, \"type\": \"mesh3d\"}], \"parcoords\": [{\"line\": {\"colorbar\": {\"outlinewidth\": 0, \"ticks\": \"\"}}, \"type\": \"parcoords\"}], \"pie\": [{\"automargin\": true, \"type\": \"pie\"}], \"scatter\": [{\"marker\": {\"colorbar\": {\"outlinewidth\": 0, \"ticks\": \"\"}}, \"type\": \"scatter\"}], \"scatter3d\": [{\"line\": {\"colorbar\": {\"outlinewidth\": 0, \"ticks\": \"\"}}, \"marker\": {\"colorbar\": {\"outlinewidth\": 0, \"ticks\": \"\"}}, \"type\": \"scatter3d\"}], \"scattercarpet\": [{\"marker\": {\"colorbar\": {\"outlinewidth\": 0, \"ticks\": \"\"}}, \"type\": \"scattercarpet\"}], \"scattergeo\": [{\"marker\": {\"colorbar\": {\"outlinewidth\": 0, \"ticks\": \"\"}}, \"type\": \"scattergeo\"}], \"scattergl\": [{\"marker\": {\"colorbar\": {\"outlinewidth\": 0, \"ticks\": \"\"}}, \"type\": \"scattergl\"}], \"scattermapbox\": [{\"marker\": {\"colorbar\": {\"outlinewidth\": 0, \"ticks\": \"\"}}, \"type\": \"scattermapbox\"}], \"scatterpolar\": [{\"marker\": {\"colorbar\": {\"outlinewidth\": 0, \"ticks\": \"\"}}, \"type\": \"scatterpolar\"}], \"scatterpolargl\": [{\"marker\": {\"colorbar\": {\"outlinewidth\": 0, \"ticks\": \"\"}}, \"type\": \"scatterpolargl\"}], \"scatterternary\": [{\"marker\": {\"colorbar\": {\"outlinewidth\": 0, \"ticks\": \"\"}}, \"type\": \"scatterternary\"}], \"surface\": [{\"colorbar\": {\"outlinewidth\": 0, \"ticks\": \"\"}, \"colorscale\": [[0.0, \"#0d0887\"], [0.1111111111111111, \"#46039f\"], [0.2222222222222222, \"#7201a8\"], [0.3333333333333333, \"#9c179e\"], [0.4444444444444444, \"#bd3786\"], [0.5555555555555556, \"#d8576b\"], [0.6666666666666666, \"#ed7953\"], [0.7777777777777778, \"#fb9f3a\"], [0.8888888888888888, \"#fdca26\"], [1.0, \"#f0f921\"]], \"type\": \"surface\"}], \"table\": [{\"cells\": {\"fill\": {\"color\": \"#EBF0F8\"}, \"line\": {\"color\": \"white\"}}, \"header\": {\"fill\": {\"color\": \"#C8D4E3\"}, \"line\": {\"color\": \"white\"}}, \"type\": \"table\"}]}, \"layout\": {\"annotationdefaults\": {\"arrowcolor\": \"#2a3f5f\", \"arrowhead\": 0, \"arrowwidth\": 1}, \"coloraxis\": {\"colorbar\": {\"outlinewidth\": 0, \"ticks\": \"\"}}, \"colorscale\": {\"diverging\": [[0, \"#8e0152\"], [0.1, \"#c51b7d\"], [0.2, \"#de77ae\"], [0.3, \"#f1b6da\"], [0.4, \"#fde0ef\"], [0.5, \"#f7f7f7\"], [0.6, \"#e6f5d0\"], [0.7, \"#b8e186\"], [0.8, \"#7fbc41\"], [0.9, \"#4d9221\"], [1, \"#276419\"]], \"sequential\": [[0.0, \"#0d0887\"], [0.1111111111111111, \"#46039f\"], [0.2222222222222222, \"#7201a8\"], [0.3333333333333333, \"#9c179e\"], [0.4444444444444444, \"#bd3786\"], [0.5555555555555556, \"#d8576b\"], [0.6666666666666666, \"#ed7953\"], [0.7777777777777778, \"#fb9f3a\"], [0.8888888888888888, \"#fdca26\"], [1.0, \"#f0f921\"]], \"sequentialminus\": [[0.0, \"#0d0887\"], [0.1111111111111111, \"#46039f\"], [0.2222222222222222, \"#7201a8\"], [0.3333333333333333, \"#9c179e\"], [0.4444444444444444, \"#bd3786\"], [0.5555555555555556, \"#d8576b\"], [0.6666666666666666, \"#ed7953\"], [0.7777777777777778, \"#fb9f3a\"], [0.8888888888888888, \"#fdca26\"], [1.0, \"#f0f921\"]]}, \"colorway\": [\"#636efa\", \"#EF553B\", \"#00cc96\", \"#ab63fa\", \"#FFA15A\", \"#19d3f3\", \"#FF6692\", \"#B6E880\", \"#FF97FF\", \"#FECB52\"], \"font\": {\"color\": \"#2a3f5f\"}, \"geo\": {\"bgcolor\": \"white\", \"lakecolor\": \"white\", \"landcolor\": \"#E5ECF6\", \"showlakes\": true, \"showland\": true, \"subunitcolor\": \"white\"}, \"hoverlabel\": {\"align\": \"left\"}, \"hovermode\": \"closest\", \"mapbox\": {\"style\": \"light\"}, \"paper_bgcolor\": \"white\", \"plot_bgcolor\": \"#E5ECF6\", \"polar\": {\"angularaxis\": {\"gridcolor\": \"white\", \"linecolor\": \"white\", \"ticks\": \"\"}, \"bgcolor\": \"#E5ECF6\", \"radialaxis\": {\"gridcolor\": \"white\", \"linecolor\": \"white\", \"ticks\": \"\"}}, \"scene\": {\"xaxis\": {\"backgroundcolor\": \"#E5ECF6\", \"gridcolor\": \"white\", \"gridwidth\": 2, \"linecolor\": \"white\", \"showbackground\": true, \"ticks\": \"\", \"zerolinecolor\": \"white\"}, \"yaxis\": {\"backgroundcolor\": \"#E5ECF6\", \"gridcolor\": \"white\", \"gridwidth\": 2, \"linecolor\": \"white\", \"showbackground\": true, \"ticks\": \"\", \"zerolinecolor\": \"white\"}, \"zaxis\": {\"backgroundcolor\": \"#E5ECF6\", \"gridcolor\": \"white\", \"gridwidth\": 2, \"linecolor\": \"white\", \"showbackground\": true, \"ticks\": \"\", \"zerolinecolor\": \"white\"}}, \"shapedefaults\": {\"line\": {\"color\": \"#2a3f5f\"}}, \"ternary\": {\"aaxis\": {\"gridcolor\": \"white\", \"linecolor\": \"white\", \"ticks\": \"\"}, \"baxis\": {\"gridcolor\": \"white\", \"linecolor\": \"white\", \"ticks\": \"\"}, \"bgcolor\": \"#E5ECF6\", \"caxis\": {\"gridcolor\": \"white\", \"linecolor\": \"white\", \"ticks\": \"\"}}, \"title\": {\"x\": 0.05}, \"xaxis\": {\"automargin\": true, \"gridcolor\": \"white\", \"linecolor\": \"white\", \"ticks\": \"\", \"title\": {\"standoff\": 15}, \"zerolinecolor\": \"white\", \"zerolinewidth\": 2}, \"yaxis\": {\"automargin\": true, \"gridcolor\": \"white\", \"linecolor\": \"white\", \"ticks\": \"\", \"title\": {\"standoff\": 15}, \"zerolinecolor\": \"white\", \"zerolinewidth\": 2}}}, \"title\": {\"text\": \"Stage of threading in 2020 by day\"}, \"xaxis\": {\"title\": {\"text\": \"Date\"}}, \"yaxis\": {\"title\": {\"text\": \"Stage\"}}},                        {\"responsive\": true}                    ).then(function(){\n",
       "                            \n",
       "var gd = document.getElementById('08080901-5f1d-4964-8781-b05727298bc9');\n",
       "var x = new MutationObserver(function (mutations, observer) {{\n",
       "        var display = window.getComputedStyle(gd).display;\n",
       "        if (!display || display === 'none') {{\n",
       "            console.log([gd, 'removed!']);\n",
       "            Plotly.purge(gd);\n",
       "            observer.disconnect();\n",
       "        }}\n",
       "}});\n",
       "\n",
       "// Listen for the removal of the full notebook cells\n",
       "var notebookContainer = gd.closest('#notebook-container');\n",
       "if (notebookContainer) {{\n",
       "    x.observe(notebookContainer, {childList: true});\n",
       "}}\n",
       "\n",
       "// Listen for the clearing of the current output cell\n",
       "var outputEl = gd.closest('.output');\n",
       "if (outputEl) {{\n",
       "    x.observe(outputEl, {childList: true});\n",
       "}}\n",
       "\n",
       "                        })                };                });            </script>        </div>"
      ]
     },
     "metadata": {},
     "output_type": "display_data"
    }
   ],
   "source": [
    "import plotly.graph_objects as go\n",
    "\n",
    "fig=go.Figure()\n",
    "fig.add_trace(go.Scatter(x=past_thread[\"date\"], y=past_thread[\"stage\"],\n",
    "                    mode='lines+markers',\n",
    "                    name='Confirmed Cases'))\n",
    "\n",
    "fig.update_layout(title=\"Stage of threading in 2020 by day\",\n",
    "                 xaxis_title=\"Date\",yaxis_title=\"Stage\",legend=dict(x=0,y=1,traceorder=\"normal\"))\n",
    "fig.show()"
   ]
  },
  {
   "cell_type": "code",
   "execution_count": 152,
   "metadata": {},
   "outputs": [
    {
     "data": {
      "application/vnd.plotly.v1+json": {
       "config": {
        "plotlyServerURL": "https://plot.ly"
       },
       "data": [
        {
         "mode": "lines+markers",
         "name": "Confirmed Cases",
         "type": "scatter",
         "x": [
          "2020-09-07",
          "2020-09-07",
          "2020-09-07",
          "2020-09-06",
          "2020-09-06",
          "2020-09-06",
          "2020-09-05",
          "2020-09-05",
          "2020-09-04",
          "2020-09-04",
          "2020-09-03",
          "2020-09-03",
          "2020-09-02",
          "2020-09-02",
          "2020-09-02",
          "2020-09-01",
          "2020-09-01"
         ],
         "y": [
          0,
          2,
          1,
          0,
          1,
          2,
          0,
          2,
          0,
          3,
          0,
          4,
          0,
          4,
          2,
          0,
          2
         ]
        }
       ],
       "layout": {
        "legend": {
         "traceorder": "normal",
         "x": 0,
         "y": 1
        },
        "template": {
         "data": {
          "bar": [
           {
            "error_x": {
             "color": "#2a3f5f"
            },
            "error_y": {
             "color": "#2a3f5f"
            },
            "marker": {
             "line": {
              "color": "#E5ECF6",
              "width": 0.5
             }
            },
            "type": "bar"
           }
          ],
          "barpolar": [
           {
            "marker": {
             "line": {
              "color": "#E5ECF6",
              "width": 0.5
             }
            },
            "type": "barpolar"
           }
          ],
          "carpet": [
           {
            "aaxis": {
             "endlinecolor": "#2a3f5f",
             "gridcolor": "white",
             "linecolor": "white",
             "minorgridcolor": "white",
             "startlinecolor": "#2a3f5f"
            },
            "baxis": {
             "endlinecolor": "#2a3f5f",
             "gridcolor": "white",
             "linecolor": "white",
             "minorgridcolor": "white",
             "startlinecolor": "#2a3f5f"
            },
            "type": "carpet"
           }
          ],
          "choropleth": [
           {
            "colorbar": {
             "outlinewidth": 0,
             "ticks": ""
            },
            "type": "choropleth"
           }
          ],
          "contour": [
           {
            "colorbar": {
             "outlinewidth": 0,
             "ticks": ""
            },
            "colorscale": [
             [
              0,
              "#0d0887"
             ],
             [
              0.1111111111111111,
              "#46039f"
             ],
             [
              0.2222222222222222,
              "#7201a8"
             ],
             [
              0.3333333333333333,
              "#9c179e"
             ],
             [
              0.4444444444444444,
              "#bd3786"
             ],
             [
              0.5555555555555556,
              "#d8576b"
             ],
             [
              0.6666666666666666,
              "#ed7953"
             ],
             [
              0.7777777777777778,
              "#fb9f3a"
             ],
             [
              0.8888888888888888,
              "#fdca26"
             ],
             [
              1,
              "#f0f921"
             ]
            ],
            "type": "contour"
           }
          ],
          "contourcarpet": [
           {
            "colorbar": {
             "outlinewidth": 0,
             "ticks": ""
            },
            "type": "contourcarpet"
           }
          ],
          "heatmap": [
           {
            "colorbar": {
             "outlinewidth": 0,
             "ticks": ""
            },
            "colorscale": [
             [
              0,
              "#0d0887"
             ],
             [
              0.1111111111111111,
              "#46039f"
             ],
             [
              0.2222222222222222,
              "#7201a8"
             ],
             [
              0.3333333333333333,
              "#9c179e"
             ],
             [
              0.4444444444444444,
              "#bd3786"
             ],
             [
              0.5555555555555556,
              "#d8576b"
             ],
             [
              0.6666666666666666,
              "#ed7953"
             ],
             [
              0.7777777777777778,
              "#fb9f3a"
             ],
             [
              0.8888888888888888,
              "#fdca26"
             ],
             [
              1,
              "#f0f921"
             ]
            ],
            "type": "heatmap"
           }
          ],
          "heatmapgl": [
           {
            "colorbar": {
             "outlinewidth": 0,
             "ticks": ""
            },
            "colorscale": [
             [
              0,
              "#0d0887"
             ],
             [
              0.1111111111111111,
              "#46039f"
             ],
             [
              0.2222222222222222,
              "#7201a8"
             ],
             [
              0.3333333333333333,
              "#9c179e"
             ],
             [
              0.4444444444444444,
              "#bd3786"
             ],
             [
              0.5555555555555556,
              "#d8576b"
             ],
             [
              0.6666666666666666,
              "#ed7953"
             ],
             [
              0.7777777777777778,
              "#fb9f3a"
             ],
             [
              0.8888888888888888,
              "#fdca26"
             ],
             [
              1,
              "#f0f921"
             ]
            ],
            "type": "heatmapgl"
           }
          ],
          "histogram": [
           {
            "marker": {
             "colorbar": {
              "outlinewidth": 0,
              "ticks": ""
             }
            },
            "type": "histogram"
           }
          ],
          "histogram2d": [
           {
            "colorbar": {
             "outlinewidth": 0,
             "ticks": ""
            },
            "colorscale": [
             [
              0,
              "#0d0887"
             ],
             [
              0.1111111111111111,
              "#46039f"
             ],
             [
              0.2222222222222222,
              "#7201a8"
             ],
             [
              0.3333333333333333,
              "#9c179e"
             ],
             [
              0.4444444444444444,
              "#bd3786"
             ],
             [
              0.5555555555555556,
              "#d8576b"
             ],
             [
              0.6666666666666666,
              "#ed7953"
             ],
             [
              0.7777777777777778,
              "#fb9f3a"
             ],
             [
              0.8888888888888888,
              "#fdca26"
             ],
             [
              1,
              "#f0f921"
             ]
            ],
            "type": "histogram2d"
           }
          ],
          "histogram2dcontour": [
           {
            "colorbar": {
             "outlinewidth": 0,
             "ticks": ""
            },
            "colorscale": [
             [
              0,
              "#0d0887"
             ],
             [
              0.1111111111111111,
              "#46039f"
             ],
             [
              0.2222222222222222,
              "#7201a8"
             ],
             [
              0.3333333333333333,
              "#9c179e"
             ],
             [
              0.4444444444444444,
              "#bd3786"
             ],
             [
              0.5555555555555556,
              "#d8576b"
             ],
             [
              0.6666666666666666,
              "#ed7953"
             ],
             [
              0.7777777777777778,
              "#fb9f3a"
             ],
             [
              0.8888888888888888,
              "#fdca26"
             ],
             [
              1,
              "#f0f921"
             ]
            ],
            "type": "histogram2dcontour"
           }
          ],
          "mesh3d": [
           {
            "colorbar": {
             "outlinewidth": 0,
             "ticks": ""
            },
            "type": "mesh3d"
           }
          ],
          "parcoords": [
           {
            "line": {
             "colorbar": {
              "outlinewidth": 0,
              "ticks": ""
             }
            },
            "type": "parcoords"
           }
          ],
          "pie": [
           {
            "automargin": true,
            "type": "pie"
           }
          ],
          "scatter": [
           {
            "marker": {
             "colorbar": {
              "outlinewidth": 0,
              "ticks": ""
             }
            },
            "type": "scatter"
           }
          ],
          "scatter3d": [
           {
            "line": {
             "colorbar": {
              "outlinewidth": 0,
              "ticks": ""
             }
            },
            "marker": {
             "colorbar": {
              "outlinewidth": 0,
              "ticks": ""
             }
            },
            "type": "scatter3d"
           }
          ],
          "scattercarpet": [
           {
            "marker": {
             "colorbar": {
              "outlinewidth": 0,
              "ticks": ""
             }
            },
            "type": "scattercarpet"
           }
          ],
          "scattergeo": [
           {
            "marker": {
             "colorbar": {
              "outlinewidth": 0,
              "ticks": ""
             }
            },
            "type": "scattergeo"
           }
          ],
          "scattergl": [
           {
            "marker": {
             "colorbar": {
              "outlinewidth": 0,
              "ticks": ""
             }
            },
            "type": "scattergl"
           }
          ],
          "scattermapbox": [
           {
            "marker": {
             "colorbar": {
              "outlinewidth": 0,
              "ticks": ""
             }
            },
            "type": "scattermapbox"
           }
          ],
          "scatterpolar": [
           {
            "marker": {
             "colorbar": {
              "outlinewidth": 0,
              "ticks": ""
             }
            },
            "type": "scatterpolar"
           }
          ],
          "scatterpolargl": [
           {
            "marker": {
             "colorbar": {
              "outlinewidth": 0,
              "ticks": ""
             }
            },
            "type": "scatterpolargl"
           }
          ],
          "scatterternary": [
           {
            "marker": {
             "colorbar": {
              "outlinewidth": 0,
              "ticks": ""
             }
            },
            "type": "scatterternary"
           }
          ],
          "surface": [
           {
            "colorbar": {
             "outlinewidth": 0,
             "ticks": ""
            },
            "colorscale": [
             [
              0,
              "#0d0887"
             ],
             [
              0.1111111111111111,
              "#46039f"
             ],
             [
              0.2222222222222222,
              "#7201a8"
             ],
             [
              0.3333333333333333,
              "#9c179e"
             ],
             [
              0.4444444444444444,
              "#bd3786"
             ],
             [
              0.5555555555555556,
              "#d8576b"
             ],
             [
              0.6666666666666666,
              "#ed7953"
             ],
             [
              0.7777777777777778,
              "#fb9f3a"
             ],
             [
              0.8888888888888888,
              "#fdca26"
             ],
             [
              1,
              "#f0f921"
             ]
            ],
            "type": "surface"
           }
          ],
          "table": [
           {
            "cells": {
             "fill": {
              "color": "#EBF0F8"
             },
             "line": {
              "color": "white"
             }
            },
            "header": {
             "fill": {
              "color": "#C8D4E3"
             },
             "line": {
              "color": "white"
             }
            },
            "type": "table"
           }
          ]
         },
         "layout": {
          "annotationdefaults": {
           "arrowcolor": "#2a3f5f",
           "arrowhead": 0,
           "arrowwidth": 1
          },
          "coloraxis": {
           "colorbar": {
            "outlinewidth": 0,
            "ticks": ""
           }
          },
          "colorscale": {
           "diverging": [
            [
             0,
             "#8e0152"
            ],
            [
             0.1,
             "#c51b7d"
            ],
            [
             0.2,
             "#de77ae"
            ],
            [
             0.3,
             "#f1b6da"
            ],
            [
             0.4,
             "#fde0ef"
            ],
            [
             0.5,
             "#f7f7f7"
            ],
            [
             0.6,
             "#e6f5d0"
            ],
            [
             0.7,
             "#b8e186"
            ],
            [
             0.8,
             "#7fbc41"
            ],
            [
             0.9,
             "#4d9221"
            ],
            [
             1,
             "#276419"
            ]
           ],
           "sequential": [
            [
             0,
             "#0d0887"
            ],
            [
             0.1111111111111111,
             "#46039f"
            ],
            [
             0.2222222222222222,
             "#7201a8"
            ],
            [
             0.3333333333333333,
             "#9c179e"
            ],
            [
             0.4444444444444444,
             "#bd3786"
            ],
            [
             0.5555555555555556,
             "#d8576b"
            ],
            [
             0.6666666666666666,
             "#ed7953"
            ],
            [
             0.7777777777777778,
             "#fb9f3a"
            ],
            [
             0.8888888888888888,
             "#fdca26"
            ],
            [
             1,
             "#f0f921"
            ]
           ],
           "sequentialminus": [
            [
             0,
             "#0d0887"
            ],
            [
             0.1111111111111111,
             "#46039f"
            ],
            [
             0.2222222222222222,
             "#7201a8"
            ],
            [
             0.3333333333333333,
             "#9c179e"
            ],
            [
             0.4444444444444444,
             "#bd3786"
            ],
            [
             0.5555555555555556,
             "#d8576b"
            ],
            [
             0.6666666666666666,
             "#ed7953"
            ],
            [
             0.7777777777777778,
             "#fb9f3a"
            ],
            [
             0.8888888888888888,
             "#fdca26"
            ],
            [
             1,
             "#f0f921"
            ]
           ]
          },
          "colorway": [
           "#636efa",
           "#EF553B",
           "#00cc96",
           "#ab63fa",
           "#FFA15A",
           "#19d3f3",
           "#FF6692",
           "#B6E880",
           "#FF97FF",
           "#FECB52"
          ],
          "font": {
           "color": "#2a3f5f"
          },
          "geo": {
           "bgcolor": "white",
           "lakecolor": "white",
           "landcolor": "#E5ECF6",
           "showlakes": true,
           "showland": true,
           "subunitcolor": "white"
          },
          "hoverlabel": {
           "align": "left"
          },
          "hovermode": "closest",
          "mapbox": {
           "style": "light"
          },
          "paper_bgcolor": "white",
          "plot_bgcolor": "#E5ECF6",
          "polar": {
           "angularaxis": {
            "gridcolor": "white",
            "linecolor": "white",
            "ticks": ""
           },
           "bgcolor": "#E5ECF6",
           "radialaxis": {
            "gridcolor": "white",
            "linecolor": "white",
            "ticks": ""
           }
          },
          "scene": {
           "xaxis": {
            "backgroundcolor": "#E5ECF6",
            "gridcolor": "white",
            "gridwidth": 2,
            "linecolor": "white",
            "showbackground": true,
            "ticks": "",
            "zerolinecolor": "white"
           },
           "yaxis": {
            "backgroundcolor": "#E5ECF6",
            "gridcolor": "white",
            "gridwidth": 2,
            "linecolor": "white",
            "showbackground": true,
            "ticks": "",
            "zerolinecolor": "white"
           },
           "zaxis": {
            "backgroundcolor": "#E5ECF6",
            "gridcolor": "white",
            "gridwidth": 2,
            "linecolor": "white",
            "showbackground": true,
            "ticks": "",
            "zerolinecolor": "white"
           }
          },
          "shapedefaults": {
           "line": {
            "color": "#2a3f5f"
           }
          },
          "ternary": {
           "aaxis": {
            "gridcolor": "white",
            "linecolor": "white",
            "ticks": ""
           },
           "baxis": {
            "gridcolor": "white",
            "linecolor": "white",
            "ticks": ""
           },
           "bgcolor": "#E5ECF6",
           "caxis": {
            "gridcolor": "white",
            "linecolor": "white",
            "ticks": ""
           }
          },
          "title": {
           "x": 0.05
          },
          "xaxis": {
           "automargin": true,
           "gridcolor": "white",
           "linecolor": "white",
           "ticks": "",
           "title": {
            "standoff": 15
           },
           "zerolinecolor": "white",
           "zerolinewidth": 2
          },
          "yaxis": {
           "automargin": true,
           "gridcolor": "white",
           "linecolor": "white",
           "ticks": "",
           "title": {
            "standoff": 15
           },
           "zerolinecolor": "white",
           "zerolinewidth": 2
          }
         }
        },
        "title": {
         "text": "Growth of different types of cases in China"
        },
        "xaxis": {
         "title": {
          "text": "Date"
         }
        },
        "yaxis": {
         "title": {
          "text": "Number of Cases"
         }
        }
       }
      },
      "text/html": [
       "<div>                            <div id=\"24e0d92f-4a4e-470e-972a-319392ba7448\" class=\"plotly-graph-div\" style=\"height:525px; width:100%;\"></div>            <script type=\"text/javascript\">                require([\"plotly\"], function(Plotly) {                    window.PLOTLYENV=window.PLOTLYENV || {};                                    if (document.getElementById(\"24e0d92f-4a4e-470e-972a-319392ba7448\")) {                    Plotly.newPlot(                        \"24e0d92f-4a4e-470e-972a-319392ba7448\",                        [{\"mode\": \"lines+markers\", \"name\": \"Confirmed Cases\", \"type\": \"scatter\", \"x\": [\"2020-09-07\", \"2020-09-07\", \"2020-09-07\", \"2020-09-06\", \"2020-09-06\", \"2020-09-06\", \"2020-09-05\", \"2020-09-05\", \"2020-09-04\", \"2020-09-04\", \"2020-09-03\", \"2020-09-03\", \"2020-09-02\", \"2020-09-02\", \"2020-09-02\", \"2020-09-01\", \"2020-09-01\"], \"y\": [0, 2, 1, 0, 1, 2, 0, 2, 0, 3, 0, 4, 0, 4, 2, 0, 2]}],                        {\"legend\": {\"traceorder\": \"normal\", \"x\": 0, \"y\": 1}, \"template\": {\"data\": {\"bar\": [{\"error_x\": {\"color\": \"#2a3f5f\"}, \"error_y\": {\"color\": \"#2a3f5f\"}, \"marker\": {\"line\": {\"color\": \"#E5ECF6\", \"width\": 0.5}}, \"type\": \"bar\"}], \"barpolar\": [{\"marker\": {\"line\": {\"color\": \"#E5ECF6\", \"width\": 0.5}}, \"type\": \"barpolar\"}], \"carpet\": [{\"aaxis\": {\"endlinecolor\": \"#2a3f5f\", \"gridcolor\": \"white\", \"linecolor\": \"white\", \"minorgridcolor\": \"white\", \"startlinecolor\": \"#2a3f5f\"}, \"baxis\": {\"endlinecolor\": \"#2a3f5f\", \"gridcolor\": \"white\", \"linecolor\": \"white\", \"minorgridcolor\": \"white\", \"startlinecolor\": \"#2a3f5f\"}, \"type\": \"carpet\"}], \"choropleth\": [{\"colorbar\": {\"outlinewidth\": 0, \"ticks\": \"\"}, \"type\": \"choropleth\"}], \"contour\": [{\"colorbar\": {\"outlinewidth\": 0, \"ticks\": \"\"}, \"colorscale\": [[0.0, \"#0d0887\"], [0.1111111111111111, \"#46039f\"], [0.2222222222222222, \"#7201a8\"], [0.3333333333333333, \"#9c179e\"], [0.4444444444444444, \"#bd3786\"], [0.5555555555555556, \"#d8576b\"], [0.6666666666666666, \"#ed7953\"], [0.7777777777777778, \"#fb9f3a\"], [0.8888888888888888, \"#fdca26\"], [1.0, \"#f0f921\"]], \"type\": \"contour\"}], \"contourcarpet\": [{\"colorbar\": {\"outlinewidth\": 0, \"ticks\": \"\"}, \"type\": \"contourcarpet\"}], \"heatmap\": [{\"colorbar\": {\"outlinewidth\": 0, \"ticks\": \"\"}, \"colorscale\": [[0.0, \"#0d0887\"], [0.1111111111111111, \"#46039f\"], [0.2222222222222222, \"#7201a8\"], [0.3333333333333333, \"#9c179e\"], [0.4444444444444444, \"#bd3786\"], [0.5555555555555556, \"#d8576b\"], [0.6666666666666666, \"#ed7953\"], [0.7777777777777778, \"#fb9f3a\"], [0.8888888888888888, \"#fdca26\"], [1.0, \"#f0f921\"]], \"type\": \"heatmap\"}], \"heatmapgl\": [{\"colorbar\": {\"outlinewidth\": 0, \"ticks\": \"\"}, \"colorscale\": [[0.0, \"#0d0887\"], [0.1111111111111111, \"#46039f\"], [0.2222222222222222, \"#7201a8\"], [0.3333333333333333, \"#9c179e\"], [0.4444444444444444, \"#bd3786\"], [0.5555555555555556, \"#d8576b\"], [0.6666666666666666, \"#ed7953\"], [0.7777777777777778, \"#fb9f3a\"], [0.8888888888888888, \"#fdca26\"], [1.0, \"#f0f921\"]], \"type\": \"heatmapgl\"}], \"histogram\": [{\"marker\": {\"colorbar\": {\"outlinewidth\": 0, \"ticks\": \"\"}}, \"type\": \"histogram\"}], \"histogram2d\": [{\"colorbar\": {\"outlinewidth\": 0, \"ticks\": \"\"}, \"colorscale\": [[0.0, \"#0d0887\"], [0.1111111111111111, \"#46039f\"], [0.2222222222222222, \"#7201a8\"], [0.3333333333333333, \"#9c179e\"], [0.4444444444444444, \"#bd3786\"], [0.5555555555555556, \"#d8576b\"], [0.6666666666666666, \"#ed7953\"], [0.7777777777777778, \"#fb9f3a\"], [0.8888888888888888, \"#fdca26\"], [1.0, \"#f0f921\"]], \"type\": \"histogram2d\"}], \"histogram2dcontour\": [{\"colorbar\": {\"outlinewidth\": 0, \"ticks\": \"\"}, \"colorscale\": [[0.0, \"#0d0887\"], [0.1111111111111111, \"#46039f\"], [0.2222222222222222, \"#7201a8\"], [0.3333333333333333, \"#9c179e\"], [0.4444444444444444, \"#bd3786\"], [0.5555555555555556, \"#d8576b\"], [0.6666666666666666, \"#ed7953\"], [0.7777777777777778, \"#fb9f3a\"], [0.8888888888888888, \"#fdca26\"], [1.0, \"#f0f921\"]], \"type\": \"histogram2dcontour\"}], \"mesh3d\": [{\"colorbar\": {\"outlinewidth\": 0, \"ticks\": \"\"}, \"type\": \"mesh3d\"}], \"parcoords\": [{\"line\": {\"colorbar\": {\"outlinewidth\": 0, \"ticks\": \"\"}}, \"type\": \"parcoords\"}], \"pie\": [{\"automargin\": true, \"type\": \"pie\"}], \"scatter\": [{\"marker\": {\"colorbar\": {\"outlinewidth\": 0, \"ticks\": \"\"}}, \"type\": \"scatter\"}], \"scatter3d\": [{\"line\": {\"colorbar\": {\"outlinewidth\": 0, \"ticks\": \"\"}}, \"marker\": {\"colorbar\": {\"outlinewidth\": 0, \"ticks\": \"\"}}, \"type\": \"scatter3d\"}], \"scattercarpet\": [{\"marker\": {\"colorbar\": {\"outlinewidth\": 0, \"ticks\": \"\"}}, \"type\": \"scattercarpet\"}], \"scattergeo\": [{\"marker\": {\"colorbar\": {\"outlinewidth\": 0, \"ticks\": \"\"}}, \"type\": \"scattergeo\"}], \"scattergl\": [{\"marker\": {\"colorbar\": {\"outlinewidth\": 0, \"ticks\": \"\"}}, \"type\": \"scattergl\"}], \"scattermapbox\": [{\"marker\": {\"colorbar\": {\"outlinewidth\": 0, \"ticks\": \"\"}}, \"type\": \"scattermapbox\"}], \"scatterpolar\": [{\"marker\": {\"colorbar\": {\"outlinewidth\": 0, \"ticks\": \"\"}}, \"type\": \"scatterpolar\"}], \"scatterpolargl\": [{\"marker\": {\"colorbar\": {\"outlinewidth\": 0, \"ticks\": \"\"}}, \"type\": \"scatterpolargl\"}], \"scatterternary\": [{\"marker\": {\"colorbar\": {\"outlinewidth\": 0, \"ticks\": \"\"}}, \"type\": \"scatterternary\"}], \"surface\": [{\"colorbar\": {\"outlinewidth\": 0, \"ticks\": \"\"}, \"colorscale\": [[0.0, \"#0d0887\"], [0.1111111111111111, \"#46039f\"], [0.2222222222222222, \"#7201a8\"], [0.3333333333333333, \"#9c179e\"], [0.4444444444444444, \"#bd3786\"], [0.5555555555555556, \"#d8576b\"], [0.6666666666666666, \"#ed7953\"], [0.7777777777777778, \"#fb9f3a\"], [0.8888888888888888, \"#fdca26\"], [1.0, \"#f0f921\"]], \"type\": \"surface\"}], \"table\": [{\"cells\": {\"fill\": {\"color\": \"#EBF0F8\"}, \"line\": {\"color\": \"white\"}}, \"header\": {\"fill\": {\"color\": \"#C8D4E3\"}, \"line\": {\"color\": \"white\"}}, \"type\": \"table\"}]}, \"layout\": {\"annotationdefaults\": {\"arrowcolor\": \"#2a3f5f\", \"arrowhead\": 0, \"arrowwidth\": 1}, \"coloraxis\": {\"colorbar\": {\"outlinewidth\": 0, \"ticks\": \"\"}}, \"colorscale\": {\"diverging\": [[0, \"#8e0152\"], [0.1, \"#c51b7d\"], [0.2, \"#de77ae\"], [0.3, \"#f1b6da\"], [0.4, \"#fde0ef\"], [0.5, \"#f7f7f7\"], [0.6, \"#e6f5d0\"], [0.7, \"#b8e186\"], [0.8, \"#7fbc41\"], [0.9, \"#4d9221\"], [1, \"#276419\"]], \"sequential\": [[0.0, \"#0d0887\"], [0.1111111111111111, \"#46039f\"], [0.2222222222222222, \"#7201a8\"], [0.3333333333333333, \"#9c179e\"], [0.4444444444444444, \"#bd3786\"], [0.5555555555555556, \"#d8576b\"], [0.6666666666666666, \"#ed7953\"], [0.7777777777777778, \"#fb9f3a\"], [0.8888888888888888, \"#fdca26\"], [1.0, \"#f0f921\"]], \"sequentialminus\": [[0.0, \"#0d0887\"], [0.1111111111111111, \"#46039f\"], [0.2222222222222222, \"#7201a8\"], [0.3333333333333333, \"#9c179e\"], [0.4444444444444444, \"#bd3786\"], [0.5555555555555556, \"#d8576b\"], [0.6666666666666666, \"#ed7953\"], [0.7777777777777778, \"#fb9f3a\"], [0.8888888888888888, \"#fdca26\"], [1.0, \"#f0f921\"]]}, \"colorway\": [\"#636efa\", \"#EF553B\", \"#00cc96\", \"#ab63fa\", \"#FFA15A\", \"#19d3f3\", \"#FF6692\", \"#B6E880\", \"#FF97FF\", \"#FECB52\"], \"font\": {\"color\": \"#2a3f5f\"}, \"geo\": {\"bgcolor\": \"white\", \"lakecolor\": \"white\", \"landcolor\": \"#E5ECF6\", \"showlakes\": true, \"showland\": true, \"subunitcolor\": \"white\"}, \"hoverlabel\": {\"align\": \"left\"}, \"hovermode\": \"closest\", \"mapbox\": {\"style\": \"light\"}, \"paper_bgcolor\": \"white\", \"plot_bgcolor\": \"#E5ECF6\", \"polar\": {\"angularaxis\": {\"gridcolor\": \"white\", \"linecolor\": \"white\", \"ticks\": \"\"}, \"bgcolor\": \"#E5ECF6\", \"radialaxis\": {\"gridcolor\": \"white\", \"linecolor\": \"white\", \"ticks\": \"\"}}, \"scene\": {\"xaxis\": {\"backgroundcolor\": \"#E5ECF6\", \"gridcolor\": \"white\", \"gridwidth\": 2, \"linecolor\": \"white\", \"showbackground\": true, \"ticks\": \"\", \"zerolinecolor\": \"white\"}, \"yaxis\": {\"backgroundcolor\": \"#E5ECF6\", \"gridcolor\": \"white\", \"gridwidth\": 2, \"linecolor\": \"white\", \"showbackground\": true, \"ticks\": \"\", \"zerolinecolor\": \"white\"}, \"zaxis\": {\"backgroundcolor\": \"#E5ECF6\", \"gridcolor\": \"white\", \"gridwidth\": 2, \"linecolor\": \"white\", \"showbackground\": true, \"ticks\": \"\", \"zerolinecolor\": \"white\"}}, \"shapedefaults\": {\"line\": {\"color\": \"#2a3f5f\"}}, \"ternary\": {\"aaxis\": {\"gridcolor\": \"white\", \"linecolor\": \"white\", \"ticks\": \"\"}, \"baxis\": {\"gridcolor\": \"white\", \"linecolor\": \"white\", \"ticks\": \"\"}, \"bgcolor\": \"#E5ECF6\", \"caxis\": {\"gridcolor\": \"white\", \"linecolor\": \"white\", \"ticks\": \"\"}}, \"title\": {\"x\": 0.05}, \"xaxis\": {\"automargin\": true, \"gridcolor\": \"white\", \"linecolor\": \"white\", \"ticks\": \"\", \"title\": {\"standoff\": 15}, \"zerolinecolor\": \"white\", \"zerolinewidth\": 2}, \"yaxis\": {\"automargin\": true, \"gridcolor\": \"white\", \"linecolor\": \"white\", \"ticks\": \"\", \"title\": {\"standoff\": 15}, \"zerolinecolor\": \"white\", \"zerolinewidth\": 2}}}, \"title\": {\"text\": \"Growth of different types of cases in China\"}, \"xaxis\": {\"title\": {\"text\": \"Date\"}}, \"yaxis\": {\"title\": {\"text\": \"Number of Cases\"}}},                        {\"responsive\": true}                    ).then(function(){\n",
       "                            \n",
       "var gd = document.getElementById('24e0d92f-4a4e-470e-972a-319392ba7448');\n",
       "var x = new MutationObserver(function (mutations, observer) {{\n",
       "        var display = window.getComputedStyle(gd).display;\n",
       "        if (!display || display === 'none') {{\n",
       "            console.log([gd, 'removed!']);\n",
       "            Plotly.purge(gd);\n",
       "            observer.disconnect();\n",
       "        }}\n",
       "}});\n",
       "\n",
       "// Listen for the removal of the full notebook cells\n",
       "var notebookContainer = gd.closest('#notebook-container');\n",
       "if (notebookContainer) {{\n",
       "    x.observe(notebookContainer, {childList: true});\n",
       "}}\n",
       "\n",
       "// Listen for the clearing of the current output cell\n",
       "var outputEl = gd.closest('.output');\n",
       "if (outputEl) {{\n",
       "    x.observe(outputEl, {childList: true});\n",
       "}}\n",
       "\n",
       "                        })                };                });            </script>        </div>"
      ]
     },
     "metadata": {},
     "output_type": "display_data"
    }
   ],
   "source": [
    "import plotly.graph_objects as go\n",
    "\n",
    "fig=go.Figure()\n",
    "fig.add_trace(go.Scatter(x=df_2020_september[\"date\"], y=df_2020_september[\"stage\"],\n",
    "                    mode='lines+markers',\n",
    "                    name='Confirmed Cases'))\n",
    "\n",
    "fig.update_layout(title=\"Growth of different types of cases in China\",\n",
    "                 xaxis_title=\"Date\",yaxis_title=\"Number of Cases\",legend=dict(x=0,y=1,traceorder=\"normal\"))\n",
    "fig.show()"
   ]
  },
  {
   "cell_type": "markdown",
   "metadata": {},
   "source": [
    "# Seasonality of the time-series\n",
    "- In the daylight, the stages tend to be high\n",
    "- At dawn, the stage goes to 0. So there is a daily seasonality\n"
   ]
  },
  {
   "cell_type": "code",
   "execution_count": 181,
   "metadata": {},
   "outputs": [],
   "source": [
    "electricity = pd.read_csv(\"data\\Total_Electricity_Production.csv\")\n",
    "electricity.columns = [\"date\",\"production\"]\n",
    "electricity[\"date\"] = pd.to_datetime(electricity[\"date\"])\n",
    "electricity.to_csv(\"electricity_production.csv\")"
   ]
  },
  {
   "cell_type": "code",
   "execution_count": 159,
   "metadata": {},
   "outputs": [
    {
     "data": {
      "application/vnd.plotly.v1+json": {
       "config": {
        "plotlyServerURL": "https://plot.ly"
       },
       "data": [
        {
         "alignmentgroup": "True",
         "hovertemplate": "x=%{x}<br>y=%{y}<extra></extra>",
         "legendgroup": "",
         "marker": {
          "color": "#636efa"
         },
         "name": "",
         "offsetgroup": "",
         "orientation": "v",
         "showlegend": false,
         "textposition": "auto",
         "type": "bar",
         "x": [
          "1985-01-01T00:00:00",
          "1985-04-01T00:00:00",
          "1985-07-01T00:00:00",
          "1985-10-01T00:00:00",
          "1986-01-01T00:00:00",
          "1986-04-01T00:00:00",
          "1986-07-01T00:00:00",
          "1986-10-01T00:00:00",
          "1987-01-01T00:00:00",
          "1987-04-01T00:00:00",
          "1987-07-01T00:00:00",
          "1987-10-01T00:00:00",
          "1988-01-01T00:00:00",
          "1988-04-01T00:00:00",
          "1988-07-01T00:00:00",
          "1988-10-01T00:00:00",
          "1989-01-01T00:00:00",
          "1989-04-01T00:00:00",
          "1989-07-01T00:00:00",
          "1989-10-01T00:00:00",
          "1990-01-01T00:00:00",
          "1990-04-01T00:00:00",
          "1990-07-01T00:00:00",
          "1990-10-01T00:00:00",
          "1991-01-01T00:00:00",
          "1991-04-01T00:00:00",
          "1991-07-01T00:00:00",
          "1991-10-01T00:00:00",
          "1992-01-01T00:00:00",
          "1992-04-01T00:00:00",
          "1992-07-01T00:00:00",
          "1992-10-01T00:00:00",
          "1993-01-01T00:00:00",
          "1993-04-01T00:00:00",
          "1993-07-01T00:00:00",
          "1993-10-01T00:00:00",
          "1994-01-01T00:00:00",
          "1994-04-01T00:00:00",
          "1994-07-01T00:00:00",
          "1994-10-01T00:00:00",
          "1995-01-01T00:00:00",
          "1995-04-01T00:00:00",
          "1995-07-01T00:00:00",
          "1995-10-01T00:00:00",
          "1996-01-01T00:00:00",
          "1996-04-01T00:00:00",
          "1996-07-01T00:00:00",
          "1996-10-01T00:00:00",
          "1997-01-01T00:00:00",
          "1997-04-01T00:00:00",
          "1997-07-01T00:00:00",
          "1997-10-01T00:00:00",
          "1998-01-01T00:00:00",
          "1998-04-01T00:00:00",
          "1998-07-01T00:00:00",
          "1998-10-01T00:00:00",
          "1999-01-01T00:00:00",
          "1999-04-01T00:00:00",
          "1999-07-01T00:00:00",
          "1999-10-01T00:00:00",
          "2000-01-01T00:00:00",
          "2000-04-01T00:00:00",
          "2000-07-01T00:00:00",
          "2000-10-01T00:00:00",
          "2001-01-01T00:00:00",
          "2001-04-01T00:00:00",
          "2001-07-01T00:00:00",
          "2001-10-01T00:00:00",
          "2002-01-01T00:00:00",
          "2002-04-01T00:00:00",
          "2002-07-01T00:00:00",
          "2002-10-01T00:00:00",
          "2003-01-01T00:00:00",
          "2003-04-01T00:00:00",
          "2003-07-01T00:00:00",
          "2003-10-01T00:00:00",
          "2004-01-01T00:00:00",
          "2004-04-01T00:00:00",
          "2004-07-01T00:00:00",
          "2004-10-01T00:00:00",
          "2005-01-01T00:00:00",
          "2005-04-01T00:00:00",
          "2005-07-01T00:00:00",
          "2005-10-01T00:00:00",
          "2006-01-01T00:00:00",
          "2006-04-01T00:00:00",
          "2006-07-01T00:00:00",
          "2006-10-01T00:00:00",
          "2007-01-01T00:00:00",
          "2007-04-01T00:00:00",
          "2007-07-01T00:00:00",
          "2007-10-01T00:00:00",
          "2008-01-01T00:00:00",
          "2008-04-01T00:00:00",
          "2008-07-01T00:00:00",
          "2008-10-01T00:00:00",
          "2009-01-01T00:00:00",
          "2009-04-01T00:00:00",
          "2009-07-01T00:00:00",
          "2009-10-01T00:00:00",
          "2010-01-01T00:00:00",
          "2010-04-01T00:00:00",
          "2010-07-01T00:00:00",
          "2010-10-01T00:00:00",
          "2011-01-01T00:00:00",
          "2011-04-01T00:00:00",
          "2011-07-01T00:00:00",
          "2011-10-01T00:00:00",
          "2012-01-01T00:00:00",
          "2012-04-01T00:00:00",
          "2012-07-01T00:00:00",
          "2012-10-01T00:00:00",
          "2013-01-01T00:00:00",
          "2013-04-01T00:00:00",
          "2013-07-01T00:00:00",
          "2013-10-01T00:00:00",
          "2014-01-01T00:00:00",
          "2014-04-01T00:00:00",
          "2014-07-01T00:00:00",
          "2014-10-01T00:00:00",
          "2015-01-01T00:00:00",
          "2015-04-01T00:00:00",
          "2015-07-01T00:00:00",
          "2015-10-01T00:00:00",
          "2016-01-01T00:00:00",
          "2016-04-01T00:00:00",
          "2016-07-01T00:00:00",
          "2016-10-01T00:00:00",
          "2017-01-01T00:00:00",
          "2017-04-01T00:00:00",
          "2017-07-01T00:00:00",
          "2017-10-01T00:00:00",
          "2018-01-01T00:00:00",
          "2018-04-01T00:00:00",
          "2018-07-01T00:00:00"
         ],
         "xaxis": "x",
         "y": [
          11072.666666666699,
          11879.666666666699,
          12485.333333333301,
          11690.333333333301,
          11374,
          12283,
          12802,
          12005.666666666699,
          11865,
          12532,
          13315.333333333301,
          12487.333333333301,
          12401,
          12691.333333333301,
          13909.666666666699,
          13244,
          12719,
          13632,
          14329,
          13427,
          13173,
          13728.666666666699,
          14443,
          13783.333333333301,
          13316.333333333301,
          14325.666666666699,
          14883.333333333301,
          13580,
          13368.666666666699,
          14021.333333333301,
          14728.333333333301,
          13911.666666666699,
          13798.333333333301,
          14662.333333333301,
          15402.666666666699,
          14372,
          14279,
          15130,
          16063,
          15091.333333333301,
          14935.333333333301,
          15637.333333333301,
          16218.666666666699,
          15427,
          15689.666666666699,
          16621.6666666667,
          17761.3333333333,
          16624.6666666667,
          16551.6666666667,
          17923.6666666667,
          18404.6666666667,
          17240.6666666667,
          16751,
          17434.6666666667,
          17670.3333333333,
          16602,
          16425.6666666667,
          16796.3333333333,
          17716,
          16732.6666666667,
          16656.3333333333,
          17965.6666666667,
          18277.3333333333,
          17324,
          16806.3333333333,
          17427.3333333333,
          18700.3333333333,
          17099.3333333333,
          16969.6666666667,
          18639.3333333333,
          19330.3333333333,
          18585.6666666667,
          18186.3333333333,
          19441,
          20543,
          19906,
          19487.6666666667,
          20550,
          21317.6666666667,
          20179.6666666667,
          19699.6666666667,
          20591,
          20930,
          20420,
          20206.6666666667,
          21319.6666666667,
          21889,
          21184,
          21018.6666666667,
          22131,
          22868.3333333333,
          21808.3333333333,
          21129,
          21793.6666666667,
          22463.3333333333,
          20711,
          19241.3333333333,
          20776.6666666667,
          22180.6666666667,
          20987,
          20910.6666666667,
          21806.6666666667,
          22120.6666666667,
          21695.6666666667,
          21234,
          22307,
          22349,
          21622.6666666667,
          21079,
          21302.6666666667,
          22338.6666666667,
          21252.6666666667,
          20647.6666666667,
          21642,
          22205.3333333333,
          20884,
          20681.6666666667,
          21346.6666666667,
          21978,
          20915.3333333333,
          20714.6666666667,
          20882,
          21197,
          20589,
          20469.3333333333,
          21064,
          21761.6666666667,
          20954,
          20448.3333333333,
          21558.6666666667,
          21765.6666666667,
          21262,
          20823,
          21483.6666666667,
          21837.3333333333
         ],
         "yaxis": "y"
        }
       ],
       "layout": {
        "barmode": "relative",
        "legend": {
         "tracegroupgap": 0
        },
        "margin": {
         "t": 60
        },
        "template": {
         "data": {
          "bar": [
           {
            "error_x": {
             "color": "#2a3f5f"
            },
            "error_y": {
             "color": "#2a3f5f"
            },
            "marker": {
             "line": {
              "color": "#E5ECF6",
              "width": 0.5
             }
            },
            "type": "bar"
           }
          ],
          "barpolar": [
           {
            "marker": {
             "line": {
              "color": "#E5ECF6",
              "width": 0.5
             }
            },
            "type": "barpolar"
           }
          ],
          "carpet": [
           {
            "aaxis": {
             "endlinecolor": "#2a3f5f",
             "gridcolor": "white",
             "linecolor": "white",
             "minorgridcolor": "white",
             "startlinecolor": "#2a3f5f"
            },
            "baxis": {
             "endlinecolor": "#2a3f5f",
             "gridcolor": "white",
             "linecolor": "white",
             "minorgridcolor": "white",
             "startlinecolor": "#2a3f5f"
            },
            "type": "carpet"
           }
          ],
          "choropleth": [
           {
            "colorbar": {
             "outlinewidth": 0,
             "ticks": ""
            },
            "type": "choropleth"
           }
          ],
          "contour": [
           {
            "colorbar": {
             "outlinewidth": 0,
             "ticks": ""
            },
            "colorscale": [
             [
              0,
              "#0d0887"
             ],
             [
              0.1111111111111111,
              "#46039f"
             ],
             [
              0.2222222222222222,
              "#7201a8"
             ],
             [
              0.3333333333333333,
              "#9c179e"
             ],
             [
              0.4444444444444444,
              "#bd3786"
             ],
             [
              0.5555555555555556,
              "#d8576b"
             ],
             [
              0.6666666666666666,
              "#ed7953"
             ],
             [
              0.7777777777777778,
              "#fb9f3a"
             ],
             [
              0.8888888888888888,
              "#fdca26"
             ],
             [
              1,
              "#f0f921"
             ]
            ],
            "type": "contour"
           }
          ],
          "contourcarpet": [
           {
            "colorbar": {
             "outlinewidth": 0,
             "ticks": ""
            },
            "type": "contourcarpet"
           }
          ],
          "heatmap": [
           {
            "colorbar": {
             "outlinewidth": 0,
             "ticks": ""
            },
            "colorscale": [
             [
              0,
              "#0d0887"
             ],
             [
              0.1111111111111111,
              "#46039f"
             ],
             [
              0.2222222222222222,
              "#7201a8"
             ],
             [
              0.3333333333333333,
              "#9c179e"
             ],
             [
              0.4444444444444444,
              "#bd3786"
             ],
             [
              0.5555555555555556,
              "#d8576b"
             ],
             [
              0.6666666666666666,
              "#ed7953"
             ],
             [
              0.7777777777777778,
              "#fb9f3a"
             ],
             [
              0.8888888888888888,
              "#fdca26"
             ],
             [
              1,
              "#f0f921"
             ]
            ],
            "type": "heatmap"
           }
          ],
          "heatmapgl": [
           {
            "colorbar": {
             "outlinewidth": 0,
             "ticks": ""
            },
            "colorscale": [
             [
              0,
              "#0d0887"
             ],
             [
              0.1111111111111111,
              "#46039f"
             ],
             [
              0.2222222222222222,
              "#7201a8"
             ],
             [
              0.3333333333333333,
              "#9c179e"
             ],
             [
              0.4444444444444444,
              "#bd3786"
             ],
             [
              0.5555555555555556,
              "#d8576b"
             ],
             [
              0.6666666666666666,
              "#ed7953"
             ],
             [
              0.7777777777777778,
              "#fb9f3a"
             ],
             [
              0.8888888888888888,
              "#fdca26"
             ],
             [
              1,
              "#f0f921"
             ]
            ],
            "type": "heatmapgl"
           }
          ],
          "histogram": [
           {
            "marker": {
             "colorbar": {
              "outlinewidth": 0,
              "ticks": ""
             }
            },
            "type": "histogram"
           }
          ],
          "histogram2d": [
           {
            "colorbar": {
             "outlinewidth": 0,
             "ticks": ""
            },
            "colorscale": [
             [
              0,
              "#0d0887"
             ],
             [
              0.1111111111111111,
              "#46039f"
             ],
             [
              0.2222222222222222,
              "#7201a8"
             ],
             [
              0.3333333333333333,
              "#9c179e"
             ],
             [
              0.4444444444444444,
              "#bd3786"
             ],
             [
              0.5555555555555556,
              "#d8576b"
             ],
             [
              0.6666666666666666,
              "#ed7953"
             ],
             [
              0.7777777777777778,
              "#fb9f3a"
             ],
             [
              0.8888888888888888,
              "#fdca26"
             ],
             [
              1,
              "#f0f921"
             ]
            ],
            "type": "histogram2d"
           }
          ],
          "histogram2dcontour": [
           {
            "colorbar": {
             "outlinewidth": 0,
             "ticks": ""
            },
            "colorscale": [
             [
              0,
              "#0d0887"
             ],
             [
              0.1111111111111111,
              "#46039f"
             ],
             [
              0.2222222222222222,
              "#7201a8"
             ],
             [
              0.3333333333333333,
              "#9c179e"
             ],
             [
              0.4444444444444444,
              "#bd3786"
             ],
             [
              0.5555555555555556,
              "#d8576b"
             ],
             [
              0.6666666666666666,
              "#ed7953"
             ],
             [
              0.7777777777777778,
              "#fb9f3a"
             ],
             [
              0.8888888888888888,
              "#fdca26"
             ],
             [
              1,
              "#f0f921"
             ]
            ],
            "type": "histogram2dcontour"
           }
          ],
          "mesh3d": [
           {
            "colorbar": {
             "outlinewidth": 0,
             "ticks": ""
            },
            "type": "mesh3d"
           }
          ],
          "parcoords": [
           {
            "line": {
             "colorbar": {
              "outlinewidth": 0,
              "ticks": ""
             }
            },
            "type": "parcoords"
           }
          ],
          "pie": [
           {
            "automargin": true,
            "type": "pie"
           }
          ],
          "scatter": [
           {
            "marker": {
             "colorbar": {
              "outlinewidth": 0,
              "ticks": ""
             }
            },
            "type": "scatter"
           }
          ],
          "scatter3d": [
           {
            "line": {
             "colorbar": {
              "outlinewidth": 0,
              "ticks": ""
             }
            },
            "marker": {
             "colorbar": {
              "outlinewidth": 0,
              "ticks": ""
             }
            },
            "type": "scatter3d"
           }
          ],
          "scattercarpet": [
           {
            "marker": {
             "colorbar": {
              "outlinewidth": 0,
              "ticks": ""
             }
            },
            "type": "scattercarpet"
           }
          ],
          "scattergeo": [
           {
            "marker": {
             "colorbar": {
              "outlinewidth": 0,
              "ticks": ""
             }
            },
            "type": "scattergeo"
           }
          ],
          "scattergl": [
           {
            "marker": {
             "colorbar": {
              "outlinewidth": 0,
              "ticks": ""
             }
            },
            "type": "scattergl"
           }
          ],
          "scattermapbox": [
           {
            "marker": {
             "colorbar": {
              "outlinewidth": 0,
              "ticks": ""
             }
            },
            "type": "scattermapbox"
           }
          ],
          "scatterpolar": [
           {
            "marker": {
             "colorbar": {
              "outlinewidth": 0,
              "ticks": ""
             }
            },
            "type": "scatterpolar"
           }
          ],
          "scatterpolargl": [
           {
            "marker": {
             "colorbar": {
              "outlinewidth": 0,
              "ticks": ""
             }
            },
            "type": "scatterpolargl"
           }
          ],
          "scatterternary": [
           {
            "marker": {
             "colorbar": {
              "outlinewidth": 0,
              "ticks": ""
             }
            },
            "type": "scatterternary"
           }
          ],
          "surface": [
           {
            "colorbar": {
             "outlinewidth": 0,
             "ticks": ""
            },
            "colorscale": [
             [
              0,
              "#0d0887"
             ],
             [
              0.1111111111111111,
              "#46039f"
             ],
             [
              0.2222222222222222,
              "#7201a8"
             ],
             [
              0.3333333333333333,
              "#9c179e"
             ],
             [
              0.4444444444444444,
              "#bd3786"
             ],
             [
              0.5555555555555556,
              "#d8576b"
             ],
             [
              0.6666666666666666,
              "#ed7953"
             ],
             [
              0.7777777777777778,
              "#fb9f3a"
             ],
             [
              0.8888888888888888,
              "#fdca26"
             ],
             [
              1,
              "#f0f921"
             ]
            ],
            "type": "surface"
           }
          ],
          "table": [
           {
            "cells": {
             "fill": {
              "color": "#EBF0F8"
             },
             "line": {
              "color": "white"
             }
            },
            "header": {
             "fill": {
              "color": "#C8D4E3"
             },
             "line": {
              "color": "white"
             }
            },
            "type": "table"
           }
          ]
         },
         "layout": {
          "annotationdefaults": {
           "arrowcolor": "#2a3f5f",
           "arrowhead": 0,
           "arrowwidth": 1
          },
          "coloraxis": {
           "colorbar": {
            "outlinewidth": 0,
            "ticks": ""
           }
          },
          "colorscale": {
           "diverging": [
            [
             0,
             "#8e0152"
            ],
            [
             0.1,
             "#c51b7d"
            ],
            [
             0.2,
             "#de77ae"
            ],
            [
             0.3,
             "#f1b6da"
            ],
            [
             0.4,
             "#fde0ef"
            ],
            [
             0.5,
             "#f7f7f7"
            ],
            [
             0.6,
             "#e6f5d0"
            ],
            [
             0.7,
             "#b8e186"
            ],
            [
             0.8,
             "#7fbc41"
            ],
            [
             0.9,
             "#4d9221"
            ],
            [
             1,
             "#276419"
            ]
           ],
           "sequential": [
            [
             0,
             "#0d0887"
            ],
            [
             0.1111111111111111,
             "#46039f"
            ],
            [
             0.2222222222222222,
             "#7201a8"
            ],
            [
             0.3333333333333333,
             "#9c179e"
            ],
            [
             0.4444444444444444,
             "#bd3786"
            ],
            [
             0.5555555555555556,
             "#d8576b"
            ],
            [
             0.6666666666666666,
             "#ed7953"
            ],
            [
             0.7777777777777778,
             "#fb9f3a"
            ],
            [
             0.8888888888888888,
             "#fdca26"
            ],
            [
             1,
             "#f0f921"
            ]
           ],
           "sequentialminus": [
            [
             0,
             "#0d0887"
            ],
            [
             0.1111111111111111,
             "#46039f"
            ],
            [
             0.2222222222222222,
             "#7201a8"
            ],
            [
             0.3333333333333333,
             "#9c179e"
            ],
            [
             0.4444444444444444,
             "#bd3786"
            ],
            [
             0.5555555555555556,
             "#d8576b"
            ],
            [
             0.6666666666666666,
             "#ed7953"
            ],
            [
             0.7777777777777778,
             "#fb9f3a"
            ],
            [
             0.8888888888888888,
             "#fdca26"
            ],
            [
             1,
             "#f0f921"
            ]
           ]
          },
          "colorway": [
           "#636efa",
           "#EF553B",
           "#00cc96",
           "#ab63fa",
           "#FFA15A",
           "#19d3f3",
           "#FF6692",
           "#B6E880",
           "#FF97FF",
           "#FECB52"
          ],
          "font": {
           "color": "#2a3f5f"
          },
          "geo": {
           "bgcolor": "white",
           "lakecolor": "white",
           "landcolor": "#E5ECF6",
           "showlakes": true,
           "showland": true,
           "subunitcolor": "white"
          },
          "hoverlabel": {
           "align": "left"
          },
          "hovermode": "closest",
          "mapbox": {
           "style": "light"
          },
          "paper_bgcolor": "white",
          "plot_bgcolor": "#E5ECF6",
          "polar": {
           "angularaxis": {
            "gridcolor": "white",
            "linecolor": "white",
            "ticks": ""
           },
           "bgcolor": "#E5ECF6",
           "radialaxis": {
            "gridcolor": "white",
            "linecolor": "white",
            "ticks": ""
           }
          },
          "scene": {
           "xaxis": {
            "backgroundcolor": "#E5ECF6",
            "gridcolor": "white",
            "gridwidth": 2,
            "linecolor": "white",
            "showbackground": true,
            "ticks": "",
            "zerolinecolor": "white"
           },
           "yaxis": {
            "backgroundcolor": "#E5ECF6",
            "gridcolor": "white",
            "gridwidth": 2,
            "linecolor": "white",
            "showbackground": true,
            "ticks": "",
            "zerolinecolor": "white"
           },
           "zaxis": {
            "backgroundcolor": "#E5ECF6",
            "gridcolor": "white",
            "gridwidth": 2,
            "linecolor": "white",
            "showbackground": true,
            "ticks": "",
            "zerolinecolor": "white"
           }
          },
          "shapedefaults": {
           "line": {
            "color": "#2a3f5f"
           }
          },
          "ternary": {
           "aaxis": {
            "gridcolor": "white",
            "linecolor": "white",
            "ticks": ""
           },
           "baxis": {
            "gridcolor": "white",
            "linecolor": "white",
            "ticks": ""
           },
           "bgcolor": "#E5ECF6",
           "caxis": {
            "gridcolor": "white",
            "linecolor": "white",
            "ticks": ""
           }
          },
          "title": {
           "x": 0.05
          },
          "xaxis": {
           "automargin": true,
           "gridcolor": "white",
           "linecolor": "white",
           "ticks": "",
           "title": {
            "standoff": 15
           },
           "zerolinecolor": "white",
           "zerolinewidth": 2
          },
          "yaxis": {
           "automargin": true,
           "gridcolor": "white",
           "linecolor": "white",
           "ticks": "",
           "title": {
            "standoff": 15
           },
           "zerolinecolor": "white",
           "zerolinewidth": 2
          }
         }
        },
        "title": {
         "text": "Total Electricity Production in South Africa"
        },
        "xaxis": {
         "anchor": "y",
         "domain": [
          0,
          1
         ],
         "title": {
          "text": "datetime"
         }
        },
        "yaxis": {
         "anchor": "x",
         "domain": [
          0,
          1
         ],
         "title": {
          "text": "Watts Hours"
         }
        }
       }
      },
      "text/html": [
       "<div>                            <div id=\"9a070d4d-f3ec-41df-8efb-0e4ce65e5ddb\" class=\"plotly-graph-div\" style=\"height:525px; width:100%;\"></div>            <script type=\"text/javascript\">                require([\"plotly\"], function(Plotly) {                    window.PLOTLYENV=window.PLOTLYENV || {};                                    if (document.getElementById(\"9a070d4d-f3ec-41df-8efb-0e4ce65e5ddb\")) {                    Plotly.newPlot(                        \"9a070d4d-f3ec-41df-8efb-0e4ce65e5ddb\",                        [{\"alignmentgroup\": \"True\", \"hovertemplate\": \"x=%{x}<br>y=%{y}<extra></extra>\", \"legendgroup\": \"\", \"marker\": {\"color\": \"#636efa\"}, \"name\": \"\", \"offsetgroup\": \"\", \"orientation\": \"v\", \"showlegend\": false, \"textposition\": \"auto\", \"type\": \"bar\", \"x\": [\"1985-01-01T00:00:00\", \"1985-04-01T00:00:00\", \"1985-07-01T00:00:00\", \"1985-10-01T00:00:00\", \"1986-01-01T00:00:00\", \"1986-04-01T00:00:00\", \"1986-07-01T00:00:00\", \"1986-10-01T00:00:00\", \"1987-01-01T00:00:00\", \"1987-04-01T00:00:00\", \"1987-07-01T00:00:00\", \"1987-10-01T00:00:00\", \"1988-01-01T00:00:00\", \"1988-04-01T00:00:00\", \"1988-07-01T00:00:00\", \"1988-10-01T00:00:00\", \"1989-01-01T00:00:00\", \"1989-04-01T00:00:00\", \"1989-07-01T00:00:00\", \"1989-10-01T00:00:00\", \"1990-01-01T00:00:00\", \"1990-04-01T00:00:00\", \"1990-07-01T00:00:00\", \"1990-10-01T00:00:00\", \"1991-01-01T00:00:00\", \"1991-04-01T00:00:00\", \"1991-07-01T00:00:00\", \"1991-10-01T00:00:00\", \"1992-01-01T00:00:00\", \"1992-04-01T00:00:00\", \"1992-07-01T00:00:00\", \"1992-10-01T00:00:00\", \"1993-01-01T00:00:00\", \"1993-04-01T00:00:00\", \"1993-07-01T00:00:00\", \"1993-10-01T00:00:00\", \"1994-01-01T00:00:00\", \"1994-04-01T00:00:00\", \"1994-07-01T00:00:00\", \"1994-10-01T00:00:00\", \"1995-01-01T00:00:00\", \"1995-04-01T00:00:00\", \"1995-07-01T00:00:00\", \"1995-10-01T00:00:00\", \"1996-01-01T00:00:00\", \"1996-04-01T00:00:00\", \"1996-07-01T00:00:00\", \"1996-10-01T00:00:00\", \"1997-01-01T00:00:00\", \"1997-04-01T00:00:00\", \"1997-07-01T00:00:00\", \"1997-10-01T00:00:00\", \"1998-01-01T00:00:00\", \"1998-04-01T00:00:00\", \"1998-07-01T00:00:00\", \"1998-10-01T00:00:00\", \"1999-01-01T00:00:00\", \"1999-04-01T00:00:00\", \"1999-07-01T00:00:00\", \"1999-10-01T00:00:00\", \"2000-01-01T00:00:00\", \"2000-04-01T00:00:00\", \"2000-07-01T00:00:00\", \"2000-10-01T00:00:00\", \"2001-01-01T00:00:00\", \"2001-04-01T00:00:00\", \"2001-07-01T00:00:00\", \"2001-10-01T00:00:00\", \"2002-01-01T00:00:00\", \"2002-04-01T00:00:00\", \"2002-07-01T00:00:00\", \"2002-10-01T00:00:00\", \"2003-01-01T00:00:00\", \"2003-04-01T00:00:00\", \"2003-07-01T00:00:00\", \"2003-10-01T00:00:00\", \"2004-01-01T00:00:00\", \"2004-04-01T00:00:00\", \"2004-07-01T00:00:00\", \"2004-10-01T00:00:00\", \"2005-01-01T00:00:00\", \"2005-04-01T00:00:00\", \"2005-07-01T00:00:00\", \"2005-10-01T00:00:00\", \"2006-01-01T00:00:00\", \"2006-04-01T00:00:00\", \"2006-07-01T00:00:00\", \"2006-10-01T00:00:00\", \"2007-01-01T00:00:00\", \"2007-04-01T00:00:00\", \"2007-07-01T00:00:00\", \"2007-10-01T00:00:00\", \"2008-01-01T00:00:00\", \"2008-04-01T00:00:00\", \"2008-07-01T00:00:00\", \"2008-10-01T00:00:00\", \"2009-01-01T00:00:00\", \"2009-04-01T00:00:00\", \"2009-07-01T00:00:00\", \"2009-10-01T00:00:00\", \"2010-01-01T00:00:00\", \"2010-04-01T00:00:00\", \"2010-07-01T00:00:00\", \"2010-10-01T00:00:00\", \"2011-01-01T00:00:00\", \"2011-04-01T00:00:00\", \"2011-07-01T00:00:00\", \"2011-10-01T00:00:00\", \"2012-01-01T00:00:00\", \"2012-04-01T00:00:00\", \"2012-07-01T00:00:00\", \"2012-10-01T00:00:00\", \"2013-01-01T00:00:00\", \"2013-04-01T00:00:00\", \"2013-07-01T00:00:00\", \"2013-10-01T00:00:00\", \"2014-01-01T00:00:00\", \"2014-04-01T00:00:00\", \"2014-07-01T00:00:00\", \"2014-10-01T00:00:00\", \"2015-01-01T00:00:00\", \"2015-04-01T00:00:00\", \"2015-07-01T00:00:00\", \"2015-10-01T00:00:00\", \"2016-01-01T00:00:00\", \"2016-04-01T00:00:00\", \"2016-07-01T00:00:00\", \"2016-10-01T00:00:00\", \"2017-01-01T00:00:00\", \"2017-04-01T00:00:00\", \"2017-07-01T00:00:00\", \"2017-10-01T00:00:00\", \"2018-01-01T00:00:00\", \"2018-04-01T00:00:00\", \"2018-07-01T00:00:00\"], \"xaxis\": \"x\", \"y\": [11072.666666666699, 11879.666666666699, 12485.333333333301, 11690.333333333301, 11374.0, 12283.0, 12802.0, 12005.666666666699, 11865.0, 12532.0, 13315.333333333301, 12487.333333333301, 12401.0, 12691.333333333301, 13909.666666666699, 13244.0, 12719.0, 13632.0, 14329.0, 13427.0, 13173.0, 13728.666666666699, 14443.0, 13783.333333333301, 13316.333333333301, 14325.666666666699, 14883.333333333301, 13580.0, 13368.666666666699, 14021.333333333301, 14728.333333333301, 13911.666666666699, 13798.333333333301, 14662.333333333301, 15402.666666666699, 14372.0, 14279.0, 15130.0, 16063.0, 15091.333333333301, 14935.333333333301, 15637.333333333301, 16218.666666666699, 15427.0, 15689.666666666699, 16621.6666666667, 17761.3333333333, 16624.6666666667, 16551.6666666667, 17923.6666666667, 18404.6666666667, 17240.6666666667, 16751.0, 17434.6666666667, 17670.3333333333, 16602.0, 16425.6666666667, 16796.3333333333, 17716.0, 16732.6666666667, 16656.3333333333, 17965.6666666667, 18277.3333333333, 17324.0, 16806.3333333333, 17427.3333333333, 18700.3333333333, 17099.3333333333, 16969.6666666667, 18639.3333333333, 19330.3333333333, 18585.6666666667, 18186.3333333333, 19441.0, 20543.0, 19906.0, 19487.6666666667, 20550.0, 21317.6666666667, 20179.6666666667, 19699.6666666667, 20591.0, 20930.0, 20420.0, 20206.6666666667, 21319.6666666667, 21889.0, 21184.0, 21018.6666666667, 22131.0, 22868.3333333333, 21808.3333333333, 21129.0, 21793.6666666667, 22463.3333333333, 20711.0, 19241.3333333333, 20776.6666666667, 22180.6666666667, 20987.0, 20910.6666666667, 21806.6666666667, 22120.6666666667, 21695.6666666667, 21234.0, 22307.0, 22349.0, 21622.6666666667, 21079.0, 21302.6666666667, 22338.6666666667, 21252.6666666667, 20647.6666666667, 21642.0, 22205.3333333333, 20884.0, 20681.6666666667, 21346.6666666667, 21978.0, 20915.3333333333, 20714.6666666667, 20882.0, 21197.0, 20589.0, 20469.3333333333, 21064.0, 21761.6666666667, 20954.0, 20448.3333333333, 21558.6666666667, 21765.6666666667, 21262.0, 20823.0, 21483.6666666667, 21837.3333333333], \"yaxis\": \"y\"}],                        {\"barmode\": \"relative\", \"legend\": {\"tracegroupgap\": 0}, \"margin\": {\"t\": 60}, \"template\": {\"data\": {\"bar\": [{\"error_x\": {\"color\": \"#2a3f5f\"}, \"error_y\": {\"color\": \"#2a3f5f\"}, \"marker\": {\"line\": {\"color\": \"#E5ECF6\", \"width\": 0.5}}, \"type\": \"bar\"}], \"barpolar\": [{\"marker\": {\"line\": {\"color\": \"#E5ECF6\", \"width\": 0.5}}, \"type\": \"barpolar\"}], \"carpet\": [{\"aaxis\": {\"endlinecolor\": \"#2a3f5f\", \"gridcolor\": \"white\", \"linecolor\": \"white\", \"minorgridcolor\": \"white\", \"startlinecolor\": \"#2a3f5f\"}, \"baxis\": {\"endlinecolor\": \"#2a3f5f\", \"gridcolor\": \"white\", \"linecolor\": \"white\", \"minorgridcolor\": \"white\", \"startlinecolor\": \"#2a3f5f\"}, \"type\": \"carpet\"}], \"choropleth\": [{\"colorbar\": {\"outlinewidth\": 0, \"ticks\": \"\"}, \"type\": \"choropleth\"}], \"contour\": [{\"colorbar\": {\"outlinewidth\": 0, \"ticks\": \"\"}, \"colorscale\": [[0.0, \"#0d0887\"], [0.1111111111111111, \"#46039f\"], [0.2222222222222222, \"#7201a8\"], [0.3333333333333333, \"#9c179e\"], [0.4444444444444444, \"#bd3786\"], [0.5555555555555556, \"#d8576b\"], [0.6666666666666666, \"#ed7953\"], [0.7777777777777778, \"#fb9f3a\"], [0.8888888888888888, \"#fdca26\"], [1.0, \"#f0f921\"]], \"type\": \"contour\"}], \"contourcarpet\": [{\"colorbar\": {\"outlinewidth\": 0, \"ticks\": \"\"}, \"type\": \"contourcarpet\"}], \"heatmap\": [{\"colorbar\": {\"outlinewidth\": 0, \"ticks\": \"\"}, \"colorscale\": [[0.0, \"#0d0887\"], [0.1111111111111111, \"#46039f\"], [0.2222222222222222, \"#7201a8\"], [0.3333333333333333, \"#9c179e\"], [0.4444444444444444, \"#bd3786\"], [0.5555555555555556, \"#d8576b\"], [0.6666666666666666, \"#ed7953\"], [0.7777777777777778, \"#fb9f3a\"], [0.8888888888888888, \"#fdca26\"], [1.0, \"#f0f921\"]], \"type\": \"heatmap\"}], \"heatmapgl\": [{\"colorbar\": {\"outlinewidth\": 0, \"ticks\": \"\"}, \"colorscale\": [[0.0, \"#0d0887\"], [0.1111111111111111, \"#46039f\"], [0.2222222222222222, \"#7201a8\"], [0.3333333333333333, \"#9c179e\"], [0.4444444444444444, \"#bd3786\"], [0.5555555555555556, \"#d8576b\"], [0.6666666666666666, \"#ed7953\"], [0.7777777777777778, \"#fb9f3a\"], [0.8888888888888888, \"#fdca26\"], [1.0, \"#f0f921\"]], \"type\": \"heatmapgl\"}], \"histogram\": [{\"marker\": {\"colorbar\": {\"outlinewidth\": 0, \"ticks\": \"\"}}, \"type\": \"histogram\"}], \"histogram2d\": [{\"colorbar\": {\"outlinewidth\": 0, \"ticks\": \"\"}, \"colorscale\": [[0.0, \"#0d0887\"], [0.1111111111111111, \"#46039f\"], [0.2222222222222222, \"#7201a8\"], [0.3333333333333333, \"#9c179e\"], [0.4444444444444444, \"#bd3786\"], [0.5555555555555556, \"#d8576b\"], [0.6666666666666666, \"#ed7953\"], [0.7777777777777778, \"#fb9f3a\"], [0.8888888888888888, \"#fdca26\"], [1.0, \"#f0f921\"]], \"type\": \"histogram2d\"}], \"histogram2dcontour\": [{\"colorbar\": {\"outlinewidth\": 0, \"ticks\": \"\"}, \"colorscale\": [[0.0, \"#0d0887\"], [0.1111111111111111, \"#46039f\"], [0.2222222222222222, \"#7201a8\"], [0.3333333333333333, \"#9c179e\"], [0.4444444444444444, \"#bd3786\"], [0.5555555555555556, \"#d8576b\"], [0.6666666666666666, \"#ed7953\"], [0.7777777777777778, \"#fb9f3a\"], [0.8888888888888888, \"#fdca26\"], [1.0, \"#f0f921\"]], \"type\": \"histogram2dcontour\"}], \"mesh3d\": [{\"colorbar\": {\"outlinewidth\": 0, \"ticks\": \"\"}, \"type\": \"mesh3d\"}], \"parcoords\": [{\"line\": {\"colorbar\": {\"outlinewidth\": 0, \"ticks\": \"\"}}, \"type\": \"parcoords\"}], \"pie\": [{\"automargin\": true, \"type\": \"pie\"}], \"scatter\": [{\"marker\": {\"colorbar\": {\"outlinewidth\": 0, \"ticks\": \"\"}}, \"type\": \"scatter\"}], \"scatter3d\": [{\"line\": {\"colorbar\": {\"outlinewidth\": 0, \"ticks\": \"\"}}, \"marker\": {\"colorbar\": {\"outlinewidth\": 0, \"ticks\": \"\"}}, \"type\": \"scatter3d\"}], \"scattercarpet\": [{\"marker\": {\"colorbar\": {\"outlinewidth\": 0, \"ticks\": \"\"}}, \"type\": \"scattercarpet\"}], \"scattergeo\": [{\"marker\": {\"colorbar\": {\"outlinewidth\": 0, \"ticks\": \"\"}}, \"type\": \"scattergeo\"}], \"scattergl\": [{\"marker\": {\"colorbar\": {\"outlinewidth\": 0, \"ticks\": \"\"}}, \"type\": \"scattergl\"}], \"scattermapbox\": [{\"marker\": {\"colorbar\": {\"outlinewidth\": 0, \"ticks\": \"\"}}, \"type\": \"scattermapbox\"}], \"scatterpolar\": [{\"marker\": {\"colorbar\": {\"outlinewidth\": 0, \"ticks\": \"\"}}, \"type\": \"scatterpolar\"}], \"scatterpolargl\": [{\"marker\": {\"colorbar\": {\"outlinewidth\": 0, \"ticks\": \"\"}}, \"type\": \"scatterpolargl\"}], \"scatterternary\": [{\"marker\": {\"colorbar\": {\"outlinewidth\": 0, \"ticks\": \"\"}}, \"type\": \"scatterternary\"}], \"surface\": [{\"colorbar\": {\"outlinewidth\": 0, \"ticks\": \"\"}, \"colorscale\": [[0.0, \"#0d0887\"], [0.1111111111111111, \"#46039f\"], [0.2222222222222222, \"#7201a8\"], [0.3333333333333333, \"#9c179e\"], [0.4444444444444444, \"#bd3786\"], [0.5555555555555556, \"#d8576b\"], [0.6666666666666666, \"#ed7953\"], [0.7777777777777778, \"#fb9f3a\"], [0.8888888888888888, \"#fdca26\"], [1.0, \"#f0f921\"]], \"type\": \"surface\"}], \"table\": [{\"cells\": {\"fill\": {\"color\": \"#EBF0F8\"}, \"line\": {\"color\": \"white\"}}, \"header\": {\"fill\": {\"color\": \"#C8D4E3\"}, \"line\": {\"color\": \"white\"}}, \"type\": \"table\"}]}, \"layout\": {\"annotationdefaults\": {\"arrowcolor\": \"#2a3f5f\", \"arrowhead\": 0, \"arrowwidth\": 1}, \"coloraxis\": {\"colorbar\": {\"outlinewidth\": 0, \"ticks\": \"\"}}, \"colorscale\": {\"diverging\": [[0, \"#8e0152\"], [0.1, \"#c51b7d\"], [0.2, \"#de77ae\"], [0.3, \"#f1b6da\"], [0.4, \"#fde0ef\"], [0.5, \"#f7f7f7\"], [0.6, \"#e6f5d0\"], [0.7, \"#b8e186\"], [0.8, \"#7fbc41\"], [0.9, \"#4d9221\"], [1, \"#276419\"]], \"sequential\": [[0.0, \"#0d0887\"], [0.1111111111111111, \"#46039f\"], [0.2222222222222222, \"#7201a8\"], [0.3333333333333333, \"#9c179e\"], [0.4444444444444444, \"#bd3786\"], [0.5555555555555556, \"#d8576b\"], [0.6666666666666666, \"#ed7953\"], [0.7777777777777778, \"#fb9f3a\"], [0.8888888888888888, \"#fdca26\"], [1.0, \"#f0f921\"]], \"sequentialminus\": [[0.0, \"#0d0887\"], [0.1111111111111111, \"#46039f\"], [0.2222222222222222, \"#7201a8\"], [0.3333333333333333, \"#9c179e\"], [0.4444444444444444, \"#bd3786\"], [0.5555555555555556, \"#d8576b\"], [0.6666666666666666, \"#ed7953\"], [0.7777777777777778, \"#fb9f3a\"], [0.8888888888888888, \"#fdca26\"], [1.0, \"#f0f921\"]]}, \"colorway\": [\"#636efa\", \"#EF553B\", \"#00cc96\", \"#ab63fa\", \"#FFA15A\", \"#19d3f3\", \"#FF6692\", \"#B6E880\", \"#FF97FF\", \"#FECB52\"], \"font\": {\"color\": \"#2a3f5f\"}, \"geo\": {\"bgcolor\": \"white\", \"lakecolor\": \"white\", \"landcolor\": \"#E5ECF6\", \"showlakes\": true, \"showland\": true, \"subunitcolor\": \"white\"}, \"hoverlabel\": {\"align\": \"left\"}, \"hovermode\": \"closest\", \"mapbox\": {\"style\": \"light\"}, \"paper_bgcolor\": \"white\", \"plot_bgcolor\": \"#E5ECF6\", \"polar\": {\"angularaxis\": {\"gridcolor\": \"white\", \"linecolor\": \"white\", \"ticks\": \"\"}, \"bgcolor\": \"#E5ECF6\", \"radialaxis\": {\"gridcolor\": \"white\", \"linecolor\": \"white\", \"ticks\": \"\"}}, \"scene\": {\"xaxis\": {\"backgroundcolor\": \"#E5ECF6\", \"gridcolor\": \"white\", \"gridwidth\": 2, \"linecolor\": \"white\", \"showbackground\": true, \"ticks\": \"\", \"zerolinecolor\": \"white\"}, \"yaxis\": {\"backgroundcolor\": \"#E5ECF6\", \"gridcolor\": \"white\", \"gridwidth\": 2, \"linecolor\": \"white\", \"showbackground\": true, \"ticks\": \"\", \"zerolinecolor\": \"white\"}, \"zaxis\": {\"backgroundcolor\": \"#E5ECF6\", \"gridcolor\": \"white\", \"gridwidth\": 2, \"linecolor\": \"white\", \"showbackground\": true, \"ticks\": \"\", \"zerolinecolor\": \"white\"}}, \"shapedefaults\": {\"line\": {\"color\": \"#2a3f5f\"}}, \"ternary\": {\"aaxis\": {\"gridcolor\": \"white\", \"linecolor\": \"white\", \"ticks\": \"\"}, \"baxis\": {\"gridcolor\": \"white\", \"linecolor\": \"white\", \"ticks\": \"\"}, \"bgcolor\": \"#E5ECF6\", \"caxis\": {\"gridcolor\": \"white\", \"linecolor\": \"white\", \"ticks\": \"\"}}, \"title\": {\"x\": 0.05}, \"xaxis\": {\"automargin\": true, \"gridcolor\": \"white\", \"linecolor\": \"white\", \"ticks\": \"\", \"title\": {\"standoff\": 15}, \"zerolinecolor\": \"white\", \"zerolinewidth\": 2}, \"yaxis\": {\"automargin\": true, \"gridcolor\": \"white\", \"linecolor\": \"white\", \"ticks\": \"\", \"title\": {\"standoff\": 15}, \"zerolinecolor\": \"white\", \"zerolinewidth\": 2}}}, \"title\": {\"text\": \"Total Electricity Production in South Africa\"}, \"xaxis\": {\"anchor\": \"y\", \"domain\": [0.0, 1.0], \"title\": {\"text\": \"datetime\"}}, \"yaxis\": {\"anchor\": \"x\", \"domain\": [0.0, 1.0], \"title\": {\"text\": \"Watts Hours\"}}},                        {\"responsive\": true}                    ).then(function(){\n",
       "                            \n",
       "var gd = document.getElementById('9a070d4d-f3ec-41df-8efb-0e4ce65e5ddb');\n",
       "var x = new MutationObserver(function (mutations, observer) {{\n",
       "        var display = window.getComputedStyle(gd).display;\n",
       "        if (!display || display === 'none') {{\n",
       "            console.log([gd, 'removed!']);\n",
       "            Plotly.purge(gd);\n",
       "            observer.disconnect();\n",
       "        }}\n",
       "}});\n",
       "\n",
       "// Listen for the removal of the full notebook cells\n",
       "var notebookContainer = gd.closest('#notebook-container');\n",
       "if (notebookContainer) {{\n",
       "    x.observe(notebookContainer, {childList: true});\n",
       "}}\n",
       "\n",
       "// Listen for the clearing of the current output cell\n",
       "var outputEl = gd.closest('.output');\n",
       "if (outputEl) {{\n",
       "    x.observe(outputEl, {childList: true});\n",
       "}}\n",
       "\n",
       "                        })                };                });            </script>        </div>"
      ]
     },
     "metadata": {},
     "output_type": "display_data"
    }
   ],
   "source": [
    "fig=px.bar(x=electricity[\"date\"],y=electricity[\"production\"])\n",
    "fig.update_layout(title=\"Total Electricity Production in South Africa\",\n",
    "                  xaxis_title=\"datetime\",yaxis_title=\"Watts Hours\",)\n",
    "fig.show()"
   ]
  },
  {
   "cell_type": "code",
   "execution_count": 161,
   "metadata": {},
   "outputs": [
    {
     "data": {
      "application/vnd.plotly.v1+json": {
       "config": {
        "plotlyServerURL": "https://plot.ly"
       },
       "data": [
        {
         "mode": "lines+markers",
         "name": "Confirmed Cases",
         "type": "scatter",
         "x": [
          "1985-01-01T00:00:00",
          "1985-04-01T00:00:00",
          "1985-07-01T00:00:00",
          "1985-10-01T00:00:00",
          "1986-01-01T00:00:00",
          "1986-04-01T00:00:00",
          "1986-07-01T00:00:00",
          "1986-10-01T00:00:00",
          "1987-01-01T00:00:00",
          "1987-04-01T00:00:00",
          "1987-07-01T00:00:00",
          "1987-10-01T00:00:00",
          "1988-01-01T00:00:00",
          "1988-04-01T00:00:00",
          "1988-07-01T00:00:00",
          "1988-10-01T00:00:00",
          "1989-01-01T00:00:00",
          "1989-04-01T00:00:00",
          "1989-07-01T00:00:00",
          "1989-10-01T00:00:00",
          "1990-01-01T00:00:00",
          "1990-04-01T00:00:00",
          "1990-07-01T00:00:00",
          "1990-10-01T00:00:00",
          "1991-01-01T00:00:00",
          "1991-04-01T00:00:00",
          "1991-07-01T00:00:00",
          "1991-10-01T00:00:00",
          "1992-01-01T00:00:00",
          "1992-04-01T00:00:00",
          "1992-07-01T00:00:00",
          "1992-10-01T00:00:00",
          "1993-01-01T00:00:00",
          "1993-04-01T00:00:00",
          "1993-07-01T00:00:00",
          "1993-10-01T00:00:00",
          "1994-01-01T00:00:00",
          "1994-04-01T00:00:00",
          "1994-07-01T00:00:00",
          "1994-10-01T00:00:00",
          "1995-01-01T00:00:00",
          "1995-04-01T00:00:00",
          "1995-07-01T00:00:00",
          "1995-10-01T00:00:00",
          "1996-01-01T00:00:00",
          "1996-04-01T00:00:00",
          "1996-07-01T00:00:00",
          "1996-10-01T00:00:00",
          "1997-01-01T00:00:00",
          "1997-04-01T00:00:00",
          "1997-07-01T00:00:00",
          "1997-10-01T00:00:00",
          "1998-01-01T00:00:00",
          "1998-04-01T00:00:00",
          "1998-07-01T00:00:00",
          "1998-10-01T00:00:00",
          "1999-01-01T00:00:00",
          "1999-04-01T00:00:00",
          "1999-07-01T00:00:00",
          "1999-10-01T00:00:00",
          "2000-01-01T00:00:00",
          "2000-04-01T00:00:00",
          "2000-07-01T00:00:00",
          "2000-10-01T00:00:00",
          "2001-01-01T00:00:00",
          "2001-04-01T00:00:00",
          "2001-07-01T00:00:00",
          "2001-10-01T00:00:00",
          "2002-01-01T00:00:00",
          "2002-04-01T00:00:00",
          "2002-07-01T00:00:00",
          "2002-10-01T00:00:00",
          "2003-01-01T00:00:00",
          "2003-04-01T00:00:00",
          "2003-07-01T00:00:00",
          "2003-10-01T00:00:00",
          "2004-01-01T00:00:00",
          "2004-04-01T00:00:00",
          "2004-07-01T00:00:00",
          "2004-10-01T00:00:00",
          "2005-01-01T00:00:00",
          "2005-04-01T00:00:00",
          "2005-07-01T00:00:00",
          "2005-10-01T00:00:00",
          "2006-01-01T00:00:00",
          "2006-04-01T00:00:00",
          "2006-07-01T00:00:00",
          "2006-10-01T00:00:00",
          "2007-01-01T00:00:00",
          "2007-04-01T00:00:00",
          "2007-07-01T00:00:00",
          "2007-10-01T00:00:00",
          "2008-01-01T00:00:00",
          "2008-04-01T00:00:00",
          "2008-07-01T00:00:00",
          "2008-10-01T00:00:00",
          "2009-01-01T00:00:00",
          "2009-04-01T00:00:00",
          "2009-07-01T00:00:00",
          "2009-10-01T00:00:00",
          "2010-01-01T00:00:00",
          "2010-04-01T00:00:00",
          "2010-07-01T00:00:00",
          "2010-10-01T00:00:00",
          "2011-01-01T00:00:00",
          "2011-04-01T00:00:00",
          "2011-07-01T00:00:00",
          "2011-10-01T00:00:00",
          "2012-01-01T00:00:00",
          "2012-04-01T00:00:00",
          "2012-07-01T00:00:00",
          "2012-10-01T00:00:00",
          "2013-01-01T00:00:00",
          "2013-04-01T00:00:00",
          "2013-07-01T00:00:00",
          "2013-10-01T00:00:00",
          "2014-01-01T00:00:00",
          "2014-04-01T00:00:00",
          "2014-07-01T00:00:00",
          "2014-10-01T00:00:00",
          "2015-01-01T00:00:00",
          "2015-04-01T00:00:00",
          "2015-07-01T00:00:00",
          "2015-10-01T00:00:00",
          "2016-01-01T00:00:00",
          "2016-04-01T00:00:00",
          "2016-07-01T00:00:00",
          "2016-10-01T00:00:00",
          "2017-01-01T00:00:00",
          "2017-04-01T00:00:00",
          "2017-07-01T00:00:00",
          "2017-10-01T00:00:00",
          "2018-01-01T00:00:00",
          "2018-04-01T00:00:00",
          "2018-07-01T00:00:00"
         ],
         "y": [
          11072.666666666699,
          11879.666666666699,
          12485.333333333301,
          11690.333333333301,
          11374,
          12283,
          12802,
          12005.666666666699,
          11865,
          12532,
          13315.333333333301,
          12487.333333333301,
          12401,
          12691.333333333301,
          13909.666666666699,
          13244,
          12719,
          13632,
          14329,
          13427,
          13173,
          13728.666666666699,
          14443,
          13783.333333333301,
          13316.333333333301,
          14325.666666666699,
          14883.333333333301,
          13580,
          13368.666666666699,
          14021.333333333301,
          14728.333333333301,
          13911.666666666699,
          13798.333333333301,
          14662.333333333301,
          15402.666666666699,
          14372,
          14279,
          15130,
          16063,
          15091.333333333301,
          14935.333333333301,
          15637.333333333301,
          16218.666666666699,
          15427,
          15689.666666666699,
          16621.6666666667,
          17761.3333333333,
          16624.6666666667,
          16551.6666666667,
          17923.6666666667,
          18404.6666666667,
          17240.6666666667,
          16751,
          17434.6666666667,
          17670.3333333333,
          16602,
          16425.6666666667,
          16796.3333333333,
          17716,
          16732.6666666667,
          16656.3333333333,
          17965.6666666667,
          18277.3333333333,
          17324,
          16806.3333333333,
          17427.3333333333,
          18700.3333333333,
          17099.3333333333,
          16969.6666666667,
          18639.3333333333,
          19330.3333333333,
          18585.6666666667,
          18186.3333333333,
          19441,
          20543,
          19906,
          19487.6666666667,
          20550,
          21317.6666666667,
          20179.6666666667,
          19699.6666666667,
          20591,
          20930,
          20420,
          20206.6666666667,
          21319.6666666667,
          21889,
          21184,
          21018.6666666667,
          22131,
          22868.3333333333,
          21808.3333333333,
          21129,
          21793.6666666667,
          22463.3333333333,
          20711,
          19241.3333333333,
          20776.6666666667,
          22180.6666666667,
          20987,
          20910.6666666667,
          21806.6666666667,
          22120.6666666667,
          21695.6666666667,
          21234,
          22307,
          22349,
          21622.6666666667,
          21079,
          21302.6666666667,
          22338.6666666667,
          21252.6666666667,
          20647.6666666667,
          21642,
          22205.3333333333,
          20884,
          20681.6666666667,
          21346.6666666667,
          21978,
          20915.3333333333,
          20714.6666666667,
          20882,
          21197,
          20589,
          20469.3333333333,
          21064,
          21761.6666666667,
          20954,
          20448.3333333333,
          21558.6666666667,
          21765.6666666667,
          21262,
          20823,
          21483.6666666667,
          21837.3333333333
         ]
        }
       ],
       "layout": {
        "legend": {
         "traceorder": "normal",
         "x": 0,
         "y": 1
        },
        "template": {
         "data": {
          "bar": [
           {
            "error_x": {
             "color": "#2a3f5f"
            },
            "error_y": {
             "color": "#2a3f5f"
            },
            "marker": {
             "line": {
              "color": "#E5ECF6",
              "width": 0.5
             }
            },
            "type": "bar"
           }
          ],
          "barpolar": [
           {
            "marker": {
             "line": {
              "color": "#E5ECF6",
              "width": 0.5
             }
            },
            "type": "barpolar"
           }
          ],
          "carpet": [
           {
            "aaxis": {
             "endlinecolor": "#2a3f5f",
             "gridcolor": "white",
             "linecolor": "white",
             "minorgridcolor": "white",
             "startlinecolor": "#2a3f5f"
            },
            "baxis": {
             "endlinecolor": "#2a3f5f",
             "gridcolor": "white",
             "linecolor": "white",
             "minorgridcolor": "white",
             "startlinecolor": "#2a3f5f"
            },
            "type": "carpet"
           }
          ],
          "choropleth": [
           {
            "colorbar": {
             "outlinewidth": 0,
             "ticks": ""
            },
            "type": "choropleth"
           }
          ],
          "contour": [
           {
            "colorbar": {
             "outlinewidth": 0,
             "ticks": ""
            },
            "colorscale": [
             [
              0,
              "#0d0887"
             ],
             [
              0.1111111111111111,
              "#46039f"
             ],
             [
              0.2222222222222222,
              "#7201a8"
             ],
             [
              0.3333333333333333,
              "#9c179e"
             ],
             [
              0.4444444444444444,
              "#bd3786"
             ],
             [
              0.5555555555555556,
              "#d8576b"
             ],
             [
              0.6666666666666666,
              "#ed7953"
             ],
             [
              0.7777777777777778,
              "#fb9f3a"
             ],
             [
              0.8888888888888888,
              "#fdca26"
             ],
             [
              1,
              "#f0f921"
             ]
            ],
            "type": "contour"
           }
          ],
          "contourcarpet": [
           {
            "colorbar": {
             "outlinewidth": 0,
             "ticks": ""
            },
            "type": "contourcarpet"
           }
          ],
          "heatmap": [
           {
            "colorbar": {
             "outlinewidth": 0,
             "ticks": ""
            },
            "colorscale": [
             [
              0,
              "#0d0887"
             ],
             [
              0.1111111111111111,
              "#46039f"
             ],
             [
              0.2222222222222222,
              "#7201a8"
             ],
             [
              0.3333333333333333,
              "#9c179e"
             ],
             [
              0.4444444444444444,
              "#bd3786"
             ],
             [
              0.5555555555555556,
              "#d8576b"
             ],
             [
              0.6666666666666666,
              "#ed7953"
             ],
             [
              0.7777777777777778,
              "#fb9f3a"
             ],
             [
              0.8888888888888888,
              "#fdca26"
             ],
             [
              1,
              "#f0f921"
             ]
            ],
            "type": "heatmap"
           }
          ],
          "heatmapgl": [
           {
            "colorbar": {
             "outlinewidth": 0,
             "ticks": ""
            },
            "colorscale": [
             [
              0,
              "#0d0887"
             ],
             [
              0.1111111111111111,
              "#46039f"
             ],
             [
              0.2222222222222222,
              "#7201a8"
             ],
             [
              0.3333333333333333,
              "#9c179e"
             ],
             [
              0.4444444444444444,
              "#bd3786"
             ],
             [
              0.5555555555555556,
              "#d8576b"
             ],
             [
              0.6666666666666666,
              "#ed7953"
             ],
             [
              0.7777777777777778,
              "#fb9f3a"
             ],
             [
              0.8888888888888888,
              "#fdca26"
             ],
             [
              1,
              "#f0f921"
             ]
            ],
            "type": "heatmapgl"
           }
          ],
          "histogram": [
           {
            "marker": {
             "colorbar": {
              "outlinewidth": 0,
              "ticks": ""
             }
            },
            "type": "histogram"
           }
          ],
          "histogram2d": [
           {
            "colorbar": {
             "outlinewidth": 0,
             "ticks": ""
            },
            "colorscale": [
             [
              0,
              "#0d0887"
             ],
             [
              0.1111111111111111,
              "#46039f"
             ],
             [
              0.2222222222222222,
              "#7201a8"
             ],
             [
              0.3333333333333333,
              "#9c179e"
             ],
             [
              0.4444444444444444,
              "#bd3786"
             ],
             [
              0.5555555555555556,
              "#d8576b"
             ],
             [
              0.6666666666666666,
              "#ed7953"
             ],
             [
              0.7777777777777778,
              "#fb9f3a"
             ],
             [
              0.8888888888888888,
              "#fdca26"
             ],
             [
              1,
              "#f0f921"
             ]
            ],
            "type": "histogram2d"
           }
          ],
          "histogram2dcontour": [
           {
            "colorbar": {
             "outlinewidth": 0,
             "ticks": ""
            },
            "colorscale": [
             [
              0,
              "#0d0887"
             ],
             [
              0.1111111111111111,
              "#46039f"
             ],
             [
              0.2222222222222222,
              "#7201a8"
             ],
             [
              0.3333333333333333,
              "#9c179e"
             ],
             [
              0.4444444444444444,
              "#bd3786"
             ],
             [
              0.5555555555555556,
              "#d8576b"
             ],
             [
              0.6666666666666666,
              "#ed7953"
             ],
             [
              0.7777777777777778,
              "#fb9f3a"
             ],
             [
              0.8888888888888888,
              "#fdca26"
             ],
             [
              1,
              "#f0f921"
             ]
            ],
            "type": "histogram2dcontour"
           }
          ],
          "mesh3d": [
           {
            "colorbar": {
             "outlinewidth": 0,
             "ticks": ""
            },
            "type": "mesh3d"
           }
          ],
          "parcoords": [
           {
            "line": {
             "colorbar": {
              "outlinewidth": 0,
              "ticks": ""
             }
            },
            "type": "parcoords"
           }
          ],
          "pie": [
           {
            "automargin": true,
            "type": "pie"
           }
          ],
          "scatter": [
           {
            "marker": {
             "colorbar": {
              "outlinewidth": 0,
              "ticks": ""
             }
            },
            "type": "scatter"
           }
          ],
          "scatter3d": [
           {
            "line": {
             "colorbar": {
              "outlinewidth": 0,
              "ticks": ""
             }
            },
            "marker": {
             "colorbar": {
              "outlinewidth": 0,
              "ticks": ""
             }
            },
            "type": "scatter3d"
           }
          ],
          "scattercarpet": [
           {
            "marker": {
             "colorbar": {
              "outlinewidth": 0,
              "ticks": ""
             }
            },
            "type": "scattercarpet"
           }
          ],
          "scattergeo": [
           {
            "marker": {
             "colorbar": {
              "outlinewidth": 0,
              "ticks": ""
             }
            },
            "type": "scattergeo"
           }
          ],
          "scattergl": [
           {
            "marker": {
             "colorbar": {
              "outlinewidth": 0,
              "ticks": ""
             }
            },
            "type": "scattergl"
           }
          ],
          "scattermapbox": [
           {
            "marker": {
             "colorbar": {
              "outlinewidth": 0,
              "ticks": ""
             }
            },
            "type": "scattermapbox"
           }
          ],
          "scatterpolar": [
           {
            "marker": {
             "colorbar": {
              "outlinewidth": 0,
              "ticks": ""
             }
            },
            "type": "scatterpolar"
           }
          ],
          "scatterpolargl": [
           {
            "marker": {
             "colorbar": {
              "outlinewidth": 0,
              "ticks": ""
             }
            },
            "type": "scatterpolargl"
           }
          ],
          "scatterternary": [
           {
            "marker": {
             "colorbar": {
              "outlinewidth": 0,
              "ticks": ""
             }
            },
            "type": "scatterternary"
           }
          ],
          "surface": [
           {
            "colorbar": {
             "outlinewidth": 0,
             "ticks": ""
            },
            "colorscale": [
             [
              0,
              "#0d0887"
             ],
             [
              0.1111111111111111,
              "#46039f"
             ],
             [
              0.2222222222222222,
              "#7201a8"
             ],
             [
              0.3333333333333333,
              "#9c179e"
             ],
             [
              0.4444444444444444,
              "#bd3786"
             ],
             [
              0.5555555555555556,
              "#d8576b"
             ],
             [
              0.6666666666666666,
              "#ed7953"
             ],
             [
              0.7777777777777778,
              "#fb9f3a"
             ],
             [
              0.8888888888888888,
              "#fdca26"
             ],
             [
              1,
              "#f0f921"
             ]
            ],
            "type": "surface"
           }
          ],
          "table": [
           {
            "cells": {
             "fill": {
              "color": "#EBF0F8"
             },
             "line": {
              "color": "white"
             }
            },
            "header": {
             "fill": {
              "color": "#C8D4E3"
             },
             "line": {
              "color": "white"
             }
            },
            "type": "table"
           }
          ]
         },
         "layout": {
          "annotationdefaults": {
           "arrowcolor": "#2a3f5f",
           "arrowhead": 0,
           "arrowwidth": 1
          },
          "coloraxis": {
           "colorbar": {
            "outlinewidth": 0,
            "ticks": ""
           }
          },
          "colorscale": {
           "diverging": [
            [
             0,
             "#8e0152"
            ],
            [
             0.1,
             "#c51b7d"
            ],
            [
             0.2,
             "#de77ae"
            ],
            [
             0.3,
             "#f1b6da"
            ],
            [
             0.4,
             "#fde0ef"
            ],
            [
             0.5,
             "#f7f7f7"
            ],
            [
             0.6,
             "#e6f5d0"
            ],
            [
             0.7,
             "#b8e186"
            ],
            [
             0.8,
             "#7fbc41"
            ],
            [
             0.9,
             "#4d9221"
            ],
            [
             1,
             "#276419"
            ]
           ],
           "sequential": [
            [
             0,
             "#0d0887"
            ],
            [
             0.1111111111111111,
             "#46039f"
            ],
            [
             0.2222222222222222,
             "#7201a8"
            ],
            [
             0.3333333333333333,
             "#9c179e"
            ],
            [
             0.4444444444444444,
             "#bd3786"
            ],
            [
             0.5555555555555556,
             "#d8576b"
            ],
            [
             0.6666666666666666,
             "#ed7953"
            ],
            [
             0.7777777777777778,
             "#fb9f3a"
            ],
            [
             0.8888888888888888,
             "#fdca26"
            ],
            [
             1,
             "#f0f921"
            ]
           ],
           "sequentialminus": [
            [
             0,
             "#0d0887"
            ],
            [
             0.1111111111111111,
             "#46039f"
            ],
            [
             0.2222222222222222,
             "#7201a8"
            ],
            [
             0.3333333333333333,
             "#9c179e"
            ],
            [
             0.4444444444444444,
             "#bd3786"
            ],
            [
             0.5555555555555556,
             "#d8576b"
            ],
            [
             0.6666666666666666,
             "#ed7953"
            ],
            [
             0.7777777777777778,
             "#fb9f3a"
            ],
            [
             0.8888888888888888,
             "#fdca26"
            ],
            [
             1,
             "#f0f921"
            ]
           ]
          },
          "colorway": [
           "#636efa",
           "#EF553B",
           "#00cc96",
           "#ab63fa",
           "#FFA15A",
           "#19d3f3",
           "#FF6692",
           "#B6E880",
           "#FF97FF",
           "#FECB52"
          ],
          "font": {
           "color": "#2a3f5f"
          },
          "geo": {
           "bgcolor": "white",
           "lakecolor": "white",
           "landcolor": "#E5ECF6",
           "showlakes": true,
           "showland": true,
           "subunitcolor": "white"
          },
          "hoverlabel": {
           "align": "left"
          },
          "hovermode": "closest",
          "mapbox": {
           "style": "light"
          },
          "paper_bgcolor": "white",
          "plot_bgcolor": "#E5ECF6",
          "polar": {
           "angularaxis": {
            "gridcolor": "white",
            "linecolor": "white",
            "ticks": ""
           },
           "bgcolor": "#E5ECF6",
           "radialaxis": {
            "gridcolor": "white",
            "linecolor": "white",
            "ticks": ""
           }
          },
          "scene": {
           "xaxis": {
            "backgroundcolor": "#E5ECF6",
            "gridcolor": "white",
            "gridwidth": 2,
            "linecolor": "white",
            "showbackground": true,
            "ticks": "",
            "zerolinecolor": "white"
           },
           "yaxis": {
            "backgroundcolor": "#E5ECF6",
            "gridcolor": "white",
            "gridwidth": 2,
            "linecolor": "white",
            "showbackground": true,
            "ticks": "",
            "zerolinecolor": "white"
           },
           "zaxis": {
            "backgroundcolor": "#E5ECF6",
            "gridcolor": "white",
            "gridwidth": 2,
            "linecolor": "white",
            "showbackground": true,
            "ticks": "",
            "zerolinecolor": "white"
           }
          },
          "shapedefaults": {
           "line": {
            "color": "#2a3f5f"
           }
          },
          "ternary": {
           "aaxis": {
            "gridcolor": "white",
            "linecolor": "white",
            "ticks": ""
           },
           "baxis": {
            "gridcolor": "white",
            "linecolor": "white",
            "ticks": ""
           },
           "bgcolor": "#E5ECF6",
           "caxis": {
            "gridcolor": "white",
            "linecolor": "white",
            "ticks": ""
           }
          },
          "title": {
           "x": 0.05
          },
          "xaxis": {
           "automargin": true,
           "gridcolor": "white",
           "linecolor": "white",
           "ticks": "",
           "title": {
            "standoff": 15
           },
           "zerolinecolor": "white",
           "zerolinewidth": 2
          },
          "yaxis": {
           "automargin": true,
           "gridcolor": "white",
           "linecolor": "white",
           "ticks": "",
           "title": {
            "standoff": 15
           },
           "zerolinecolor": "white",
           "zerolinewidth": 2
          }
         }
        },
        "title": {
         "text": "Total Electricity Production in South Africa"
        },
        "xaxis": {
         "title": {
          "text": "Date"
         }
        },
        "yaxis": {
         "title": {
          "text": "Watts Hours"
         }
        }
       }
      },
      "text/html": [
       "<div>                            <div id=\"e688f989-4dda-4e45-8911-e39c4d66a32d\" class=\"plotly-graph-div\" style=\"height:525px; width:100%;\"></div>            <script type=\"text/javascript\">                require([\"plotly\"], function(Plotly) {                    window.PLOTLYENV=window.PLOTLYENV || {};                                    if (document.getElementById(\"e688f989-4dda-4e45-8911-e39c4d66a32d\")) {                    Plotly.newPlot(                        \"e688f989-4dda-4e45-8911-e39c4d66a32d\",                        [{\"mode\": \"lines+markers\", \"name\": \"Confirmed Cases\", \"type\": \"scatter\", \"x\": [\"1985-01-01T00:00:00\", \"1985-04-01T00:00:00\", \"1985-07-01T00:00:00\", \"1985-10-01T00:00:00\", \"1986-01-01T00:00:00\", \"1986-04-01T00:00:00\", \"1986-07-01T00:00:00\", \"1986-10-01T00:00:00\", \"1987-01-01T00:00:00\", \"1987-04-01T00:00:00\", \"1987-07-01T00:00:00\", \"1987-10-01T00:00:00\", \"1988-01-01T00:00:00\", \"1988-04-01T00:00:00\", \"1988-07-01T00:00:00\", \"1988-10-01T00:00:00\", \"1989-01-01T00:00:00\", \"1989-04-01T00:00:00\", \"1989-07-01T00:00:00\", \"1989-10-01T00:00:00\", \"1990-01-01T00:00:00\", \"1990-04-01T00:00:00\", \"1990-07-01T00:00:00\", \"1990-10-01T00:00:00\", \"1991-01-01T00:00:00\", \"1991-04-01T00:00:00\", \"1991-07-01T00:00:00\", \"1991-10-01T00:00:00\", \"1992-01-01T00:00:00\", \"1992-04-01T00:00:00\", \"1992-07-01T00:00:00\", \"1992-10-01T00:00:00\", \"1993-01-01T00:00:00\", \"1993-04-01T00:00:00\", \"1993-07-01T00:00:00\", \"1993-10-01T00:00:00\", \"1994-01-01T00:00:00\", \"1994-04-01T00:00:00\", \"1994-07-01T00:00:00\", \"1994-10-01T00:00:00\", \"1995-01-01T00:00:00\", \"1995-04-01T00:00:00\", \"1995-07-01T00:00:00\", \"1995-10-01T00:00:00\", \"1996-01-01T00:00:00\", \"1996-04-01T00:00:00\", \"1996-07-01T00:00:00\", \"1996-10-01T00:00:00\", \"1997-01-01T00:00:00\", \"1997-04-01T00:00:00\", \"1997-07-01T00:00:00\", \"1997-10-01T00:00:00\", \"1998-01-01T00:00:00\", \"1998-04-01T00:00:00\", \"1998-07-01T00:00:00\", \"1998-10-01T00:00:00\", \"1999-01-01T00:00:00\", \"1999-04-01T00:00:00\", \"1999-07-01T00:00:00\", \"1999-10-01T00:00:00\", \"2000-01-01T00:00:00\", \"2000-04-01T00:00:00\", \"2000-07-01T00:00:00\", \"2000-10-01T00:00:00\", \"2001-01-01T00:00:00\", \"2001-04-01T00:00:00\", \"2001-07-01T00:00:00\", \"2001-10-01T00:00:00\", \"2002-01-01T00:00:00\", \"2002-04-01T00:00:00\", \"2002-07-01T00:00:00\", \"2002-10-01T00:00:00\", \"2003-01-01T00:00:00\", \"2003-04-01T00:00:00\", \"2003-07-01T00:00:00\", \"2003-10-01T00:00:00\", \"2004-01-01T00:00:00\", \"2004-04-01T00:00:00\", \"2004-07-01T00:00:00\", \"2004-10-01T00:00:00\", \"2005-01-01T00:00:00\", \"2005-04-01T00:00:00\", \"2005-07-01T00:00:00\", \"2005-10-01T00:00:00\", \"2006-01-01T00:00:00\", \"2006-04-01T00:00:00\", \"2006-07-01T00:00:00\", \"2006-10-01T00:00:00\", \"2007-01-01T00:00:00\", \"2007-04-01T00:00:00\", \"2007-07-01T00:00:00\", \"2007-10-01T00:00:00\", \"2008-01-01T00:00:00\", \"2008-04-01T00:00:00\", \"2008-07-01T00:00:00\", \"2008-10-01T00:00:00\", \"2009-01-01T00:00:00\", \"2009-04-01T00:00:00\", \"2009-07-01T00:00:00\", \"2009-10-01T00:00:00\", \"2010-01-01T00:00:00\", \"2010-04-01T00:00:00\", \"2010-07-01T00:00:00\", \"2010-10-01T00:00:00\", \"2011-01-01T00:00:00\", \"2011-04-01T00:00:00\", \"2011-07-01T00:00:00\", \"2011-10-01T00:00:00\", \"2012-01-01T00:00:00\", \"2012-04-01T00:00:00\", \"2012-07-01T00:00:00\", \"2012-10-01T00:00:00\", \"2013-01-01T00:00:00\", \"2013-04-01T00:00:00\", \"2013-07-01T00:00:00\", \"2013-10-01T00:00:00\", \"2014-01-01T00:00:00\", \"2014-04-01T00:00:00\", \"2014-07-01T00:00:00\", \"2014-10-01T00:00:00\", \"2015-01-01T00:00:00\", \"2015-04-01T00:00:00\", \"2015-07-01T00:00:00\", \"2015-10-01T00:00:00\", \"2016-01-01T00:00:00\", \"2016-04-01T00:00:00\", \"2016-07-01T00:00:00\", \"2016-10-01T00:00:00\", \"2017-01-01T00:00:00\", \"2017-04-01T00:00:00\", \"2017-07-01T00:00:00\", \"2017-10-01T00:00:00\", \"2018-01-01T00:00:00\", \"2018-04-01T00:00:00\", \"2018-07-01T00:00:00\"], \"y\": [11072.666666666699, 11879.666666666699, 12485.333333333301, 11690.333333333301, 11374.0, 12283.0, 12802.0, 12005.666666666699, 11865.0, 12532.0, 13315.333333333301, 12487.333333333301, 12401.0, 12691.333333333301, 13909.666666666699, 13244.0, 12719.0, 13632.0, 14329.0, 13427.0, 13173.0, 13728.666666666699, 14443.0, 13783.333333333301, 13316.333333333301, 14325.666666666699, 14883.333333333301, 13580.0, 13368.666666666699, 14021.333333333301, 14728.333333333301, 13911.666666666699, 13798.333333333301, 14662.333333333301, 15402.666666666699, 14372.0, 14279.0, 15130.0, 16063.0, 15091.333333333301, 14935.333333333301, 15637.333333333301, 16218.666666666699, 15427.0, 15689.666666666699, 16621.6666666667, 17761.3333333333, 16624.6666666667, 16551.6666666667, 17923.6666666667, 18404.6666666667, 17240.6666666667, 16751.0, 17434.6666666667, 17670.3333333333, 16602.0, 16425.6666666667, 16796.3333333333, 17716.0, 16732.6666666667, 16656.3333333333, 17965.6666666667, 18277.3333333333, 17324.0, 16806.3333333333, 17427.3333333333, 18700.3333333333, 17099.3333333333, 16969.6666666667, 18639.3333333333, 19330.3333333333, 18585.6666666667, 18186.3333333333, 19441.0, 20543.0, 19906.0, 19487.6666666667, 20550.0, 21317.6666666667, 20179.6666666667, 19699.6666666667, 20591.0, 20930.0, 20420.0, 20206.6666666667, 21319.6666666667, 21889.0, 21184.0, 21018.6666666667, 22131.0, 22868.3333333333, 21808.3333333333, 21129.0, 21793.6666666667, 22463.3333333333, 20711.0, 19241.3333333333, 20776.6666666667, 22180.6666666667, 20987.0, 20910.6666666667, 21806.6666666667, 22120.6666666667, 21695.6666666667, 21234.0, 22307.0, 22349.0, 21622.6666666667, 21079.0, 21302.6666666667, 22338.6666666667, 21252.6666666667, 20647.6666666667, 21642.0, 22205.3333333333, 20884.0, 20681.6666666667, 21346.6666666667, 21978.0, 20915.3333333333, 20714.6666666667, 20882.0, 21197.0, 20589.0, 20469.3333333333, 21064.0, 21761.6666666667, 20954.0, 20448.3333333333, 21558.6666666667, 21765.6666666667, 21262.0, 20823.0, 21483.6666666667, 21837.3333333333]}],                        {\"legend\": {\"traceorder\": \"normal\", \"x\": 0, \"y\": 1}, \"template\": {\"data\": {\"bar\": [{\"error_x\": {\"color\": \"#2a3f5f\"}, \"error_y\": {\"color\": \"#2a3f5f\"}, \"marker\": {\"line\": {\"color\": \"#E5ECF6\", \"width\": 0.5}}, \"type\": \"bar\"}], \"barpolar\": [{\"marker\": {\"line\": {\"color\": \"#E5ECF6\", \"width\": 0.5}}, \"type\": \"barpolar\"}], \"carpet\": [{\"aaxis\": {\"endlinecolor\": \"#2a3f5f\", \"gridcolor\": \"white\", \"linecolor\": \"white\", \"minorgridcolor\": \"white\", \"startlinecolor\": \"#2a3f5f\"}, \"baxis\": {\"endlinecolor\": \"#2a3f5f\", \"gridcolor\": \"white\", \"linecolor\": \"white\", \"minorgridcolor\": \"white\", \"startlinecolor\": \"#2a3f5f\"}, \"type\": \"carpet\"}], \"choropleth\": [{\"colorbar\": {\"outlinewidth\": 0, \"ticks\": \"\"}, \"type\": \"choropleth\"}], \"contour\": [{\"colorbar\": {\"outlinewidth\": 0, \"ticks\": \"\"}, \"colorscale\": [[0.0, \"#0d0887\"], [0.1111111111111111, \"#46039f\"], [0.2222222222222222, \"#7201a8\"], [0.3333333333333333, \"#9c179e\"], [0.4444444444444444, \"#bd3786\"], [0.5555555555555556, \"#d8576b\"], [0.6666666666666666, \"#ed7953\"], [0.7777777777777778, \"#fb9f3a\"], [0.8888888888888888, \"#fdca26\"], [1.0, \"#f0f921\"]], \"type\": \"contour\"}], \"contourcarpet\": [{\"colorbar\": {\"outlinewidth\": 0, \"ticks\": \"\"}, \"type\": \"contourcarpet\"}], \"heatmap\": [{\"colorbar\": {\"outlinewidth\": 0, \"ticks\": \"\"}, \"colorscale\": [[0.0, \"#0d0887\"], [0.1111111111111111, \"#46039f\"], [0.2222222222222222, \"#7201a8\"], [0.3333333333333333, \"#9c179e\"], [0.4444444444444444, \"#bd3786\"], [0.5555555555555556, \"#d8576b\"], [0.6666666666666666, \"#ed7953\"], [0.7777777777777778, \"#fb9f3a\"], [0.8888888888888888, \"#fdca26\"], [1.0, \"#f0f921\"]], \"type\": \"heatmap\"}], \"heatmapgl\": [{\"colorbar\": {\"outlinewidth\": 0, \"ticks\": \"\"}, \"colorscale\": [[0.0, \"#0d0887\"], [0.1111111111111111, \"#46039f\"], [0.2222222222222222, \"#7201a8\"], [0.3333333333333333, \"#9c179e\"], [0.4444444444444444, \"#bd3786\"], [0.5555555555555556, \"#d8576b\"], [0.6666666666666666, \"#ed7953\"], [0.7777777777777778, \"#fb9f3a\"], [0.8888888888888888, \"#fdca26\"], [1.0, \"#f0f921\"]], \"type\": \"heatmapgl\"}], \"histogram\": [{\"marker\": {\"colorbar\": {\"outlinewidth\": 0, \"ticks\": \"\"}}, \"type\": \"histogram\"}], \"histogram2d\": [{\"colorbar\": {\"outlinewidth\": 0, \"ticks\": \"\"}, \"colorscale\": [[0.0, \"#0d0887\"], [0.1111111111111111, \"#46039f\"], [0.2222222222222222, \"#7201a8\"], [0.3333333333333333, \"#9c179e\"], [0.4444444444444444, \"#bd3786\"], [0.5555555555555556, \"#d8576b\"], [0.6666666666666666, \"#ed7953\"], [0.7777777777777778, \"#fb9f3a\"], [0.8888888888888888, \"#fdca26\"], [1.0, \"#f0f921\"]], \"type\": \"histogram2d\"}], \"histogram2dcontour\": [{\"colorbar\": {\"outlinewidth\": 0, \"ticks\": \"\"}, \"colorscale\": [[0.0, \"#0d0887\"], [0.1111111111111111, \"#46039f\"], [0.2222222222222222, \"#7201a8\"], [0.3333333333333333, \"#9c179e\"], [0.4444444444444444, \"#bd3786\"], [0.5555555555555556, \"#d8576b\"], [0.6666666666666666, \"#ed7953\"], [0.7777777777777778, \"#fb9f3a\"], [0.8888888888888888, \"#fdca26\"], [1.0, \"#f0f921\"]], \"type\": \"histogram2dcontour\"}], \"mesh3d\": [{\"colorbar\": {\"outlinewidth\": 0, \"ticks\": \"\"}, \"type\": \"mesh3d\"}], \"parcoords\": [{\"line\": {\"colorbar\": {\"outlinewidth\": 0, \"ticks\": \"\"}}, \"type\": \"parcoords\"}], \"pie\": [{\"automargin\": true, \"type\": \"pie\"}], \"scatter\": [{\"marker\": {\"colorbar\": {\"outlinewidth\": 0, \"ticks\": \"\"}}, \"type\": \"scatter\"}], \"scatter3d\": [{\"line\": {\"colorbar\": {\"outlinewidth\": 0, \"ticks\": \"\"}}, \"marker\": {\"colorbar\": {\"outlinewidth\": 0, \"ticks\": \"\"}}, \"type\": \"scatter3d\"}], \"scattercarpet\": [{\"marker\": {\"colorbar\": {\"outlinewidth\": 0, \"ticks\": \"\"}}, \"type\": \"scattercarpet\"}], \"scattergeo\": [{\"marker\": {\"colorbar\": {\"outlinewidth\": 0, \"ticks\": \"\"}}, \"type\": \"scattergeo\"}], \"scattergl\": [{\"marker\": {\"colorbar\": {\"outlinewidth\": 0, \"ticks\": \"\"}}, \"type\": \"scattergl\"}], \"scattermapbox\": [{\"marker\": {\"colorbar\": {\"outlinewidth\": 0, \"ticks\": \"\"}}, \"type\": \"scattermapbox\"}], \"scatterpolar\": [{\"marker\": {\"colorbar\": {\"outlinewidth\": 0, \"ticks\": \"\"}}, \"type\": \"scatterpolar\"}], \"scatterpolargl\": [{\"marker\": {\"colorbar\": {\"outlinewidth\": 0, \"ticks\": \"\"}}, \"type\": \"scatterpolargl\"}], \"scatterternary\": [{\"marker\": {\"colorbar\": {\"outlinewidth\": 0, \"ticks\": \"\"}}, \"type\": \"scatterternary\"}], \"surface\": [{\"colorbar\": {\"outlinewidth\": 0, \"ticks\": \"\"}, \"colorscale\": [[0.0, \"#0d0887\"], [0.1111111111111111, \"#46039f\"], [0.2222222222222222, \"#7201a8\"], [0.3333333333333333, \"#9c179e\"], [0.4444444444444444, \"#bd3786\"], [0.5555555555555556, \"#d8576b\"], [0.6666666666666666, \"#ed7953\"], [0.7777777777777778, \"#fb9f3a\"], [0.8888888888888888, \"#fdca26\"], [1.0, \"#f0f921\"]], \"type\": \"surface\"}], \"table\": [{\"cells\": {\"fill\": {\"color\": \"#EBF0F8\"}, \"line\": {\"color\": \"white\"}}, \"header\": {\"fill\": {\"color\": \"#C8D4E3\"}, \"line\": {\"color\": \"white\"}}, \"type\": \"table\"}]}, \"layout\": {\"annotationdefaults\": {\"arrowcolor\": \"#2a3f5f\", \"arrowhead\": 0, \"arrowwidth\": 1}, \"coloraxis\": {\"colorbar\": {\"outlinewidth\": 0, \"ticks\": \"\"}}, \"colorscale\": {\"diverging\": [[0, \"#8e0152\"], [0.1, \"#c51b7d\"], [0.2, \"#de77ae\"], [0.3, \"#f1b6da\"], [0.4, \"#fde0ef\"], [0.5, \"#f7f7f7\"], [0.6, \"#e6f5d0\"], [0.7, \"#b8e186\"], [0.8, \"#7fbc41\"], [0.9, \"#4d9221\"], [1, \"#276419\"]], \"sequential\": [[0.0, \"#0d0887\"], [0.1111111111111111, \"#46039f\"], [0.2222222222222222, \"#7201a8\"], [0.3333333333333333, \"#9c179e\"], [0.4444444444444444, \"#bd3786\"], [0.5555555555555556, \"#d8576b\"], [0.6666666666666666, \"#ed7953\"], [0.7777777777777778, \"#fb9f3a\"], [0.8888888888888888, \"#fdca26\"], [1.0, \"#f0f921\"]], \"sequentialminus\": [[0.0, \"#0d0887\"], [0.1111111111111111, \"#46039f\"], [0.2222222222222222, \"#7201a8\"], [0.3333333333333333, \"#9c179e\"], [0.4444444444444444, \"#bd3786\"], [0.5555555555555556, \"#d8576b\"], [0.6666666666666666, \"#ed7953\"], [0.7777777777777778, \"#fb9f3a\"], [0.8888888888888888, \"#fdca26\"], [1.0, \"#f0f921\"]]}, \"colorway\": [\"#636efa\", \"#EF553B\", \"#00cc96\", \"#ab63fa\", \"#FFA15A\", \"#19d3f3\", \"#FF6692\", \"#B6E880\", \"#FF97FF\", \"#FECB52\"], \"font\": {\"color\": \"#2a3f5f\"}, \"geo\": {\"bgcolor\": \"white\", \"lakecolor\": \"white\", \"landcolor\": \"#E5ECF6\", \"showlakes\": true, \"showland\": true, \"subunitcolor\": \"white\"}, \"hoverlabel\": {\"align\": \"left\"}, \"hovermode\": \"closest\", \"mapbox\": {\"style\": \"light\"}, \"paper_bgcolor\": \"white\", \"plot_bgcolor\": \"#E5ECF6\", \"polar\": {\"angularaxis\": {\"gridcolor\": \"white\", \"linecolor\": \"white\", \"ticks\": \"\"}, \"bgcolor\": \"#E5ECF6\", \"radialaxis\": {\"gridcolor\": \"white\", \"linecolor\": \"white\", \"ticks\": \"\"}}, \"scene\": {\"xaxis\": {\"backgroundcolor\": \"#E5ECF6\", \"gridcolor\": \"white\", \"gridwidth\": 2, \"linecolor\": \"white\", \"showbackground\": true, \"ticks\": \"\", \"zerolinecolor\": \"white\"}, \"yaxis\": {\"backgroundcolor\": \"#E5ECF6\", \"gridcolor\": \"white\", \"gridwidth\": 2, \"linecolor\": \"white\", \"showbackground\": true, \"ticks\": \"\", \"zerolinecolor\": \"white\"}, \"zaxis\": {\"backgroundcolor\": \"#E5ECF6\", \"gridcolor\": \"white\", \"gridwidth\": 2, \"linecolor\": \"white\", \"showbackground\": true, \"ticks\": \"\", \"zerolinecolor\": \"white\"}}, \"shapedefaults\": {\"line\": {\"color\": \"#2a3f5f\"}}, \"ternary\": {\"aaxis\": {\"gridcolor\": \"white\", \"linecolor\": \"white\", \"ticks\": \"\"}, \"baxis\": {\"gridcolor\": \"white\", \"linecolor\": \"white\", \"ticks\": \"\"}, \"bgcolor\": \"#E5ECF6\", \"caxis\": {\"gridcolor\": \"white\", \"linecolor\": \"white\", \"ticks\": \"\"}}, \"title\": {\"x\": 0.05}, \"xaxis\": {\"automargin\": true, \"gridcolor\": \"white\", \"linecolor\": \"white\", \"ticks\": \"\", \"title\": {\"standoff\": 15}, \"zerolinecolor\": \"white\", \"zerolinewidth\": 2}, \"yaxis\": {\"automargin\": true, \"gridcolor\": \"white\", \"linecolor\": \"white\", \"ticks\": \"\", \"title\": {\"standoff\": 15}, \"zerolinecolor\": \"white\", \"zerolinewidth\": 2}}}, \"title\": {\"text\": \"Total Electricity Production in South Africa\"}, \"xaxis\": {\"title\": {\"text\": \"Date\"}}, \"yaxis\": {\"title\": {\"text\": \"Watts Hours\"}}},                        {\"responsive\": true}                    ).then(function(){\n",
       "                            \n",
       "var gd = document.getElementById('e688f989-4dda-4e45-8911-e39c4d66a32d');\n",
       "var x = new MutationObserver(function (mutations, observer) {{\n",
       "        var display = window.getComputedStyle(gd).display;\n",
       "        if (!display || display === 'none') {{\n",
       "            console.log([gd, 'removed!']);\n",
       "            Plotly.purge(gd);\n",
       "            observer.disconnect();\n",
       "        }}\n",
       "}});\n",
       "\n",
       "// Listen for the removal of the full notebook cells\n",
       "var notebookContainer = gd.closest('#notebook-container');\n",
       "if (notebookContainer) {{\n",
       "    x.observe(notebookContainer, {childList: true});\n",
       "}}\n",
       "\n",
       "// Listen for the clearing of the current output cell\n",
       "var outputEl = gd.closest('.output');\n",
       "if (outputEl) {{\n",
       "    x.observe(outputEl, {childList: true});\n",
       "}}\n",
       "\n",
       "                        })                };                });            </script>        </div>"
      ]
     },
     "metadata": {},
     "output_type": "display_data"
    }
   ],
   "source": [
    "import plotly.graph_objects as go\n",
    "\n",
    "fig=go.Figure()\n",
    "fig.add_trace(go.Scatter(x=electricity[\"date\"], y=electricity[\"production\"],\n",
    "                    mode='lines+markers',\n",
    "                    name='Confirmed Cases'))\n",
    "\n",
    "fig.update_layout(title=\"Total Electricity Production in South Africa\",\n",
    "                 xaxis_title=\"Date\",yaxis_title=\"Watts Hours\",legend=dict(x=0,y=1,traceorder=\"normal\"))\n",
    "fig.show()"
   ]
  },
  {
   "cell_type": "code",
   "execution_count": 167,
   "metadata": {},
   "outputs": [],
   "source": [
    "# The production is very low in winter (october and January) \n",
    "#and very high in summer (April and June)\n"
   ]
  }
 ],
 "metadata": {
  "kernelspec": {
   "display_name": "Python 3",
   "language": "python",
   "name": "python3"
  },
  "language_info": {
   "codemirror_mode": {
    "name": "ipython",
    "version": 3
   },
   "file_extension": ".py",
   "mimetype": "text/x-python",
   "name": "python",
   "nbconvert_exporter": "python",
   "pygments_lexer": "ipython3",
   "version": "3.7.3"
  }
 },
 "nbformat": 4,
 "nbformat_minor": 2
}
