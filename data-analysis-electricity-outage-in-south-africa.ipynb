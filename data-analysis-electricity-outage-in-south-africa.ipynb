{
 "cells": [
  {
   "cell_type": "code",
   "execution_count": 1,
   "metadata": {
    "_cell_guid": "b1076dfc-b9ad-4769-8c92-a6c4dae69d19",
    "_uuid": "8f2839f25d086af736a60e9eeb907d3b93b6e0e5"
   },
   "outputs": [
    {
     "name": "stderr",
     "output_type": "stream",
     "text": [
      "C:\\Users\\Wendy W\\Anaconda3\\lib\\site-packages\\statsmodels\\tools\\_testing.py:19: FutureWarning: pandas.util.testing is deprecated. Use the functions in the public API at pandas.testing instead.\n",
      "  import pandas.util.testing as tm\n"
     ]
    },
    {
     "ename": "ModuleNotFoundError",
     "evalue": "No module named 'fbprophet'",
     "output_type": "error",
     "traceback": [
      "\u001b[1;31m---------------------------------------------------------------------------\u001b[0m",
      "\u001b[1;31mModuleNotFoundError\u001b[0m                       Traceback (most recent call last)",
      "\u001b[1;32m<ipython-input-1-7153aa524c58>\u001b[0m in \u001b[0;36m<module>\u001b[1;34m\u001b[0m\n\u001b[0;32m     14\u001b[0m \u001b[1;32mimport\u001b[0m \u001b[0mplotly\u001b[0m\u001b[1;33m.\u001b[0m\u001b[0mgraph_objects\u001b[0m \u001b[1;32mas\u001b[0m \u001b[0mgo\u001b[0m\u001b[1;33m\u001b[0m\u001b[1;33m\u001b[0m\u001b[0m\n\u001b[0;32m     15\u001b[0m \u001b[1;32mimport\u001b[0m \u001b[0mplotly\u001b[0m\u001b[1;33m.\u001b[0m\u001b[0mexpress\u001b[0m \u001b[1;32mas\u001b[0m \u001b[0mpe\u001b[0m\u001b[1;33m\u001b[0m\u001b[1;33m\u001b[0m\u001b[0m\n\u001b[1;32m---> 16\u001b[1;33m \u001b[1;32mfrom\u001b[0m \u001b[0mfbprophet\u001b[0m \u001b[1;32mimport\u001b[0m \u001b[0mProphet\u001b[0m\u001b[1;33m\u001b[0m\u001b[1;33m\u001b[0m\u001b[0m\n\u001b[0m\u001b[0;32m     17\u001b[0m \u001b[1;32mfor\u001b[0m \u001b[0mdirname\u001b[0m\u001b[1;33m,\u001b[0m \u001b[0m_\u001b[0m\u001b[1;33m,\u001b[0m \u001b[0mfilenames\u001b[0m \u001b[1;32min\u001b[0m \u001b[0mos\u001b[0m\u001b[1;33m.\u001b[0m\u001b[0mwalk\u001b[0m\u001b[1;33m(\u001b[0m\u001b[1;34m'/datathon'\u001b[0m\u001b[1;33m)\u001b[0m\u001b[1;33m:\u001b[0m\u001b[1;33m\u001b[0m\u001b[1;33m\u001b[0m\u001b[0m\n\u001b[0;32m     18\u001b[0m     \u001b[1;32mfor\u001b[0m \u001b[0mfilename\u001b[0m \u001b[1;32min\u001b[0m \u001b[0mfilenames\u001b[0m\u001b[1;33m:\u001b[0m\u001b[1;33m\u001b[0m\u001b[1;33m\u001b[0m\u001b[0m\n",
      "\u001b[1;31mModuleNotFoundError\u001b[0m: No module named 'fbprophet'"
     ]
    }
   ],
   "source": [
    "# This Python 3 environment comes with many helpful analytics libraries installed\n",
    "# It is defined by the kaggle/python Docker image: https://github.com/kaggle/docker-python\n",
    "# For example, here's several helpful packages to load\n",
    "\n",
    "import numpy as np # linear algebra\n",
    "import pandas as pd # data processing, CSV file I/O (e.g. pd.read_csv)\n",
    "\n",
    "# Input data files are available in the read-only \"../input/\" directory\n",
    "# For example, running this (by clicking run or pressing Shift+Enter) will list all files under the input directory\n",
    "import datetime\n",
    "import os\n",
    "import seaborn as sns\n",
    "\n",
    "import plotly.graph_objects as go\n",
    "import plotly.express as pe\n",
    "from fbprophet import Prophet\n",
    "for dirname, _, filenames in os.walk('/datathon'):\n",
    "    for filename in filenames:\n",
    "        print(os.path.join(dirname, filename))\n",
    "\n",
    "# You can write up to 5GB to the current directory (/kaggle/working/) that gets preserved as output when you create a version using \"Save & Run All\" \n",
    "# You can also write temporary files to /kaggle/temp/, but they won't be saved outside of the current session"
   ]
  },
  {
   "cell_type": "markdown",
   "metadata": {},
   "source": [
    "# Exloratory Data Analysis\n",
    "### Initial Exploration\n",
    "- Display the data and see if anything need to be done \n",
    "- Get the basic info about the data. How many rows and columns? What are the averages?\n",
    "### Cleaning the data\n",
    "- Change any datetime strings into datetime objects\n",
    "- Transform rows and columns if must. \n",
    "- Interpret the meaning of each set of missing values and impute them.\n",
    "### Plotting the data\n",
    "- Use charts to see if there are any trends\n",
    "- Compare and contrast between different groups of data: which have higher average?\n"
   ]
  },
  {
   "cell_type": "code",
   "execution_count": null,
   "metadata": {},
   "outputs": [],
   "source": [
    "# Display the 3 dataframes\n",
    "production = pd.read_csv(\"/kaggle/input/datathon/Total_Electricity_Production.csv\")\n",
    "print(production.shape)\n",
    "display(production)\n",
    "\n",
    "indicators = pd.read_csv(\"/kaggle/input/datathon/world_indicators.csv\")\n",
    "print(indicators.shape)\n",
    "\n",
    "display(indicators)\n",
    "\n",
    "history = pd.read_csv(\"/kaggle/input/datathon/south_africa_load_shedding_history.csv\")\n",
    "print(history.shape)\n",
    "\n",
    "display(history)\n"
   ]
  },
  {
   "cell_type": "markdown",
   "metadata": {},
   "source": [
    "# What need to be done & get noticed:\n",
    "## Production\n",
    "1. Datetime transformation\n",
    "2. Column name renaming\n",
    "3. Plot the production to see if there are any trends.\n",
    "4. This time series is not continous. The measurements are taken 4 times a year. \n",
    "\n",
    "# Indicators\n",
    "1. Some recent years are empty valued\n",
    "2. Column names need to be renamed\n",
    "3. Some columns and rows are not useful for us, and thus they need to be dropped.\n",
    "4. We should implement a group by operation on this df on \"country code\" or country name\n",
    "5. `country_code` and `country_name` are the same thing in this df, so one should be dropped. Considering we don't know codes that well, country_name is a better choice to be kept. \n",
    "6. Same applies to `series_name` and `series_code`.\n",
    "\n",
    "# History\n",
    "1. `created_at` is datetime string and should be converted to datetime objects.\n",
    "2. The time series is not measured with the same time interval. There might be multiple blackouts per day, or there might be no blackouts at all, and those days are missing in the datetime column. \n",
    "3. Group by dates and either count the number of blackouts, or the average stage level on that day, or the maximum stage level on that day.\n",
    "4. We need to impute these missing values with stage level 0 (that means no blackout)\n",
    "5. P.S. Higher stage level indicates more electricity is being shedded. And the amount of electricity is proportional to the stage level number. So there is no need to transform this feature into the electricity corresponding to the stage level. Read more about the meaning of each load shedding level here: \n",
    "\n"
   ]
  },
  {
   "cell_type": "code",
   "execution_count": null,
   "metadata": {},
   "outputs": [],
   "source": [
    "production = pd.read_csv(\"/kaggle/input/datathon/Total_Electricity_Production.csv\")\n",
    "\n",
    "production.columns = [\"datetime\",\"production\"]\n",
    "production[\"datetime\"] = pd.to_datetime(production[\"datetime\"])\n",
    "production[\"year\"] = production[\"datetime\"].apply(lambda x: x.year)\n",
    "production[\"month\"] = production[\"datetime\"].apply(lambda x: x.month)\n",
    "production[\"date\"] = production[\"datetime\"].apply(lambda x: x.date())\n",
    "production[\"day_of_week\"] = production[\"datetime\"].apply(lambda x: x.day)\n",
    "production[\"week\"] = production[\"datetime\"].apply(lambda x: x.week)\n",
    "import plotly.graph_objects as go\n",
    "fig=go.Figure()\n",
    "\n",
    "\n",
    "fig.add_trace(go.Scatter(x=production[\"datetime\"], y=production[\"production\"],\n",
    "                    mode='lines+markers',\n",
    "                    name='Production'))\n",
    "fig.update_layout(title=\"Total Electricity Production in South Africa, exisiting data\",\n",
    "                  xaxis_title=\"Datetime\",yaxis_title=\"Giggawatts Hours\")\n",
    "\n",
    "fig.show()\n",
    "elec = production.copy()\n",
    "display(production)"
   ]
  },
  {
   "cell_type": "code",
   "execution_count": null,
   "metadata": {},
   "outputs": [],
   "source": [
    "fig=go.Figure()\n",
    "\n",
    "\n",
    "fig.add_trace(go.Scatter(x=production.loc[production[\"month\"] == 7][\"datetime\"], y=production.loc[production[\"month\"] == 7][\"production\"],\n",
    "                    mode='lines+markers',\n",
    "                    name='Production'))\n",
    "fig.update_layout(title=\"Total Electricity Production in South Africa July of Each Year, exisiting data\",\n",
    "                  xaxis_title=\"Datetime\",yaxis_title=\"Giggawatts Hours\")\n",
    "\n",
    "fig.show()\n",
    "elec = production.copy()"
   ]
  },
  {
   "cell_type": "markdown",
   "metadata": {},
   "source": [
    "# Interpretation of the Electricity Production Plot\n",
    "- There is a yearly seasonality and a clear upward trend from 1985 to 2008-ish. There is a noticeable dip in 2009/01/01. And the electricity production is low-key decreasing after 2009. \n",
    "## Inspirtation questions:\n",
    "1. What happend in 2009 January and a little before that?\n",
    "2. What is the climate like in South Africa? Can the climate change explain the electricity production yearly seasonality?\n",
    "\n",
    "\n",
    "# After Some research...\n",
    "## 1. Analysis on the \"Dip\" in 2009\n",
    "- Refer to the WikiPedia Site for more details : https://en.wikipedia.org/wiki/South_African_energy_crisis\n",
    "- Basically, the first energy shortage emerges in late 2007 and lasted until at least May 2008. \"The problem is related to the supply of coal to the coal-fired power plants.[11][12] Several other causes have been postulated, including skills shortages[4] and increasing demand for electricity around the country\"\n",
    "- Before the crisis, South Africa has been exporting its electricity to neighboring African states.\n",
    "- On January 2008, South Africa delares to cease exporting power. \n",
    "- If we only look at electricity production in July of each year, then the pattern is clearer. Before Jul 2007, the trend is upward with 3-4 small drops. Since Jul 2007, the trend has been downard and with another \"dip\" in 2015. (2015 is the second period of load shedding after 2007-2008)\n",
    "\n",
    "## 2. Analysis of the seasonality\n",
    "- Since South Africa is in Southern Hemisphere so the seasonality should be the opposite of what the Northern Hemisphere has.\n",
    "![image](/kaggle/input/datathon/south_africa_temperature.png)\n",
    "\n",
    "- This image is the temperature model in South Africa over the years.\n",
    "- The lowest temperature is in July (corresponding to highest electricity Production) averaged at 30 F, and the highest temperature is in January (corresponding to low electricity production) averaged around 90 F. Extreme weather at either end requires more electricity to generate heaters or coolers. There is an association between the production of electricity and the temperature.\n"
   ]
  },
  {
   "cell_type": "markdown",
   "metadata": {},
   "source": [
    "# Interpolate Empty Values\n",
    "- I will be using Facebook's Prophet to predict electricity production in 2009, 2020 and 2021.\n",
    "- In order for the algorithm to work, the time series data has to be daily or monthly. \n",
    "- I am using interpolation to fill missing gaps between each measurement (Initially 4 times a year). "
   ]
  },
  {
   "cell_type": "code",
   "execution_count": null,
   "metadata": {},
   "outputs": [],
   "source": [
    "production_by_day = pd.DataFrame(index = pd.date_range(start='1985-01-01',end=\"2018-07-01\",freq='D'))\n",
    "production_by_day[\"production\"] = production_by_day.index\n",
    "elec\n",
    "production_dict = production[[\"datetime\",\"production\"]].set_index(\"datetime\")[\"production\"].to_dict()\n",
    "production_by_day[\"production\"] = production_by_day[\"production\"].replace(production_dict)\n",
    "production_by_day[\"production\"] = production_by_day[\"production\"].apply(lambda x:np.nan if (type(x) != float) else x)\n",
    "#df[\"production\"] = df['production'].interpolate(method='time', inplace=True)\n",
    "#df[\"production\"] \n",
    "production_by_day[\"production\"].interpolate(method='time', inplace=True)\n",
    "production_by_day[\"production\"]\n",
    "import plotly.graph_objects as go\n",
    "fig=go.Figure()\n",
    "\n",
    "\n",
    "fig.add_trace(go.Scatter(x=production_by_day.index, y=production_by_day[\"production\"],\n",
    "                    mode='lines+markers',\n",
    "                    name='Production'))\n",
    "fig.update_layout(title=\"Total Electricity Production in South Africa,estimated using imputation\",\n",
    "                  xaxis_title=\"Datetime\",yaxis_title=\"Giggawatts Hours\")\n",
    "\n",
    "fig.show()"
   ]
  },
  {
   "cell_type": "markdown",
   "metadata": {},
   "source": [
    "# Electricity Production Estimate\n",
    "- To check whether there is a link between electricity production and blackouts pattern, we need data\n",
    "- Right now we only have production data up to 2018/7/01 and only 4 entries a year.\n",
    "- There is definitely a seasonality to the data from the chart plotted above.\n",
    "- First, I imputed the values using interpolation.\n",
    "- Then I used FB's Prophet time series prediction algorithm to estimate production of between 2018/07/01 to 2020/09/07  as part of the training dataset, in order to build a prediction model for the blackouts.\n",
    "- Making predictions after 2020/09/07 as features in test dataset. \n",
    "\n",
    "# Facebook Prophet\n",
    "- Read more about this Algorithm here: https://facebook.github.io/prophet/docs/quick_start.html#python-api\n",
    "- Basically, this is an open-source algorithm provided by Facebook that is ideal to model time series with seasonality and trends. \n",
    "- The training data have to have columns called `ds` and `y`. The `ds` column is datetime objects, and `y` column is the values we wish to predict.\n",
    "- In our case, `y` is the electricity production in Gigawatts Hours."
   ]
  },
  {
   "cell_type": "code",
   "execution_count": null,
   "metadata": {},
   "outputs": [],
   "source": [
    "X = production_by_day.reset_index()\n",
    "X.columns = [\"ds\",\"y\"]\n",
    "m = Prophet(weekly_seasonality=False)\n",
    "m.add_seasonality(name='yearly', period=365, fourier_order=10)\n",
    "test = pd.DataFrame({\"ds\":pd.date_range(start='2018-07-02',end=\"2021-09-07\",freq='D')})\n",
    "\n",
    "elec_forecast = m.fit(X).predict(test)\n",
    "#fig = m.plot_components(forecast)\n"
   ]
  },
  {
   "cell_type": "code",
   "execution_count": null,
   "metadata": {},
   "outputs": [],
   "source": [
    "\n",
    "#from fbprophet.plot import plot_plotly, plot_components_plotly\n",
    "m.plot(elec_forecast)"
   ]
  },
  {
   "cell_type": "markdown",
   "metadata": {},
   "source": [
    "# Prediction From Prophet\n",
    "Above is the prediction given by Prophet. The prediction still has the yearly seasonality, but with a slight trend downward. \n",
    "\n",
    "\n",
    "# Moving on to the Next"
   ]
  },
  {
   "cell_type": "code",
   "execution_count": null,
   "metadata": {},
   "outputs": [],
   "source": [
    "indicators = pd.read_csv(\"../input/datathon/world_indicators.csv\")\n",
    "indicators.columns = indicators.columns.str.lower()\n",
    "indicators = indicators.applymap(lambda s:s.lower() if type(s) == str else s)\n",
    "display(indicators.loc[225:232])\n",
    "indicators = indicators.drop(range(228,233),axis=0)\n",
    "indicators = indicators.drop([\"series code\",\"country code\"],axis=1)\n",
    "indicators.columns = indicators.columns.str.replace(\"\\s\\[.*\\]\",\"\")\n",
    "\n",
    "tuples = zip(indicators[\"country name\"],indicators[\"series name\"])\n",
    "indicators.index = pd.MultiIndex.from_tuples(tuples, names=['country', 'indicator'])\n",
    "indicators=indicators.drop([\"country name\",\"series name\"],axis=1)\n",
    "indicators"
   ]
  },
  {
   "cell_type": "code",
   "execution_count": null,
   "metadata": {},
   "outputs": [],
   "source": [
    "# A function that takes information of a particular country of particular series\n",
    "def get_country_df(country_name,df,col):\n",
    "    \n",
    "    \n",
    "    sa_indicators = df.loc[country_name]\n",
    "    sa_indicators=sa_indicators.transpose()\n",
    "    return sa_indicators[col].dropna()\n",
    "ser = get_country_df(\"south africa\",indicators,\"access to electricity (% of population)\")\n",
    "indicators.index.get_level_values(1).unique()"
   ]
  },
  {
   "cell_type": "code",
   "execution_count": null,
   "metadata": {},
   "outputs": [],
   "source": [
    "country_names = np.unique(indicators.index.get_level_values(0))\n",
    "fig = go.Figure()\n",
    "graph_names=[\"access to electricity, rural (% of rural population)\",\n",
    "            \"access to electricity, urban (% of urban population)\",\n",
    "            \"access to electricity (% of population)\"]\n",
    "for name in graph_names:\n",
    "    ser = get_country_df(\"south africa\",indicators,name)\n",
    "    fig.add_trace(go.Scatter(y=ser.values, x=ser.index,\n",
    "                    mode='lines+markers',\n",
    "                    name=name))\n",
    "fig.update_layout(title = \"access to electricity of South Africa\",xaxis_title = \"year\",yaxis_title=\"percentage\")\n",
    "\n",
    "fig.show()\n",
    "# comparison of Overall Access\n",
    "\n",
    "fig = go.Figure()\n",
    "\n",
    "for country in country_names:\n",
    "    ser_access = get_country_df(country,indicators,\"access to electricity (% of population)\")\n",
    "    #ser_rural_access = get_country_df(country,indicators,\"access to electricity, rural (% of rural population)\")\n",
    "    #ser_urban_access = get_country_df(country,indicators,\"access to electricity, urban (% of urban population)\")\n",
    "    #ser_gdp = get_country_df(country,indicators,\"gdp per capita (constant 2010 us$)\")\n",
    "    fig.add_trace(go.Scatter(y=ser_access.values, x=ser_access.index,\n",
    "                    mode='lines+markers',\n",
    "                    name=country))\n",
    "fig.update_layout(title = \"Access to Electricity (% of Population)\",xaxis_title = \"Year\",yaxis_title=\"Percentage (%)\")\n",
    "fig.show()\n",
    "\n",
    "# comparison of Urban Access\n",
    "\n",
    "fig = go.Figure()\n",
    "\n",
    "for country in country_names:\n",
    "    ser = get_country_df(country,indicators,\"access to electricity, urban (% of urban population)\")\n",
    "    fig.add_trace(go.Scatter(y=ser.values, x=ser.index,\n",
    "                    mode='lines+markers',name=country))\n",
    "fig.update_layout(title = \"Access to Electricity, Urban (% of Urban Population)\",xaxis_title = \"Year\",yaxis_title=\"Percentage (%)\")\n",
    "fig.show()\n",
    "\n",
    "# comparison of Urban Access\n",
    "\n",
    "fig = go.Figure()\n",
    "\n",
    "for country in country_names:\n",
    "    ser = get_country_df(country,indicators,\"access to electricity, rural (% of rural population)\")\n",
    "    fig.add_trace(go.Scatter(y=ser.values, x=ser.index,\n",
    "                    mode='lines+markers',name=country))\n",
    "fig.update_layout(title = \"Access to Electricity, Rural (% of Rural Population)\",xaxis_title = \"Year\",yaxis_title=\"Percentage (%)\")\n",
    "fig.show()\n",
    "\n"
   ]
  },
  {
   "cell_type": "markdown",
   "metadata": {},
   "source": [
    "# Urban vs Rural Access to Electricity\n",
    "## The energy crisis affects different populations differently\n",
    "- The shedding didn't affect the urban area in terms of electricity access, while electricity access in rural areas decreased in 2013,2015,2016,2017. \n"
   ]
  },
  {
   "cell_type": "code",
   "execution_count": null,
   "metadata": {},
   "outputs": [],
   "source": [
    "fig = go.Figure()\n",
    "\n",
    "for country in country_names:\n",
    "    ser = get_country_df(country,indicators,\"time required to get electricity (days)\")\n",
    "    fig.add_trace(go.Scatter(y=ser.values, x=ser.index,\n",
    "                    mode='lines+markers',\n",
    "                    name=country))\n",
    "fig.update_layout(title = \"time required to get electricity (days) in South Africa and its neighbors\",xaxis_title = \"year\",yaxis_title=\"days\")\n",
    "\n",
    "fig.show()\n",
    "\n"
   ]
  },
  {
   "cell_type": "markdown",
   "metadata": {},
   "source": [
    "# time required to get electricity (days)\t\n",
    "- What does it mean-'Time required to get electricity is the number of days to obtain a permanent electricity connection. The measure captures the median duration that the electricity utility and experts indicate is necessary in practice, rather than required by law, to complete a procedure.'\n",
    "- This data is only available from 2009 to 2019, while South Africa already encountered the energy crisis. So we don't know how it does before the crisis.\n",
    "\n",
    "- In 2009-2014 South Africa had the highest number of days to get electricity. \n",
    "- In 2015, the number plummeted. What happened during that time is unknown. However, still, the time required to get electricity for South Africa is above the world's average. "
   ]
  },
  {
   "cell_type": "code",
   "execution_count": null,
   "metadata": {},
   "outputs": [],
   "source": [
    "fig = go.Figure()\n",
    "\n",
    "for country in country_names:\n",
    "    ser = get_country_df(country,indicators,\"electricity production from oil, gas and coal sources (% of total)\")\n",
    "    fig.add_trace(go.Scatter(y=ser.values, x=ser.index,\n",
    "                    mode='lines+markers',\n",
    "                    name=country))\n",
    "fig.update_layout(title = \"Electricity Production From oil, Gas and Coal Sources (% of total)\",xaxis_title = \"year\",yaxis_title=\"Percentage (%)\")\n",
    "\n",
    "fig.show()\n",
    "fig = go.Figure()\n",
    "\n",
    "for country in country_names:\n",
    "    ser = get_country_df(country,indicators,\"electricity production from renewable sources, excluding hydroelectric (% of total)\")\n",
    "    fig.add_trace(go.Scatter(y=ser.values, x=ser.index,\n",
    "                    mode='lines+markers',\n",
    "                    name=country))\n",
    "fig.update_layout(title = \"Electricity Production from Renewable Sources, Excluding Hydroelectric (% of total)\",xaxis_title = \"year\",yaxis_title=\"Percentage (%)\")\n",
    "\n",
    "fig.show()\n"
   ]
  },
  {
   "cell_type": "code",
   "execution_count": null,
   "metadata": {},
   "outputs": [],
   "source": [
    "ser1= get_country_df(\"world\",indicators,\"electricity production from renewable sources, excluding hydroelectric (% of total)\").loc[\"2015\"]\n",
    "ser2= get_country_df(\"world\",indicators,\"electricity production from oil, gas and coal sources (% of total)\").loc['2015']\n",
    "# This dataframe has 244 lines, but 4 distinct values for `day`\n",
    "pie = pd.DataFrame([float(ser1),float(ser2)])\n",
    "pie.index = [\"electricity production from renewable sources, excluding hydroelectric (% of total)\",\"electricity production from oil, gas and coal sources (% of total)\"]\n",
    "pie.columns= [\"percentage\"]\n",
    "fig = pe.pie(pie.reset_index(), values='percentage', names='index')\n",
    "fig.update_layout(title=\"Eletricity Production Composition in 2015, World Average\")\n",
    "fig.show()\n",
    "\n",
    "ser1= get_country_df(\"south africa\",indicators,\"electricity production from renewable sources, excluding hydroelectric (% of total)\").loc[\"2015\"]\n",
    "ser2= get_country_df(\"south africa\",indicators,\"electricity production from oil, gas and coal sources (% of total)\").loc['2015']\n",
    "# This dataframe has 244 lines, but 4 distinct values for `day`\n",
    "pie = pd.DataFrame([float(ser1),float(ser2)])\n",
    "pie.index = [\"electricity production from renewable sources, excluding hydroelectric (% of total)\",\"electricity production from oil, gas and coal sources (% of total)\"]\n",
    "pie.columns= [\"percentage\"]\n",
    "fig = pe.pie(pie.reset_index(), values='percentage', names='index')\n",
    "fig.update_layout(title=\"Eletricity Production Composition in 2015, South Africa\")\n",
    "fig.show()\n"
   ]
  },
  {
   "cell_type": "markdown",
   "metadata": {},
   "source": [
    "# From traditional energy to renewable energy\n",
    "- Lack of alternative choices might be correlated with the power outages. \n",
    "- The inital power outages are due to problems with supply of coal. \n",
    "- South Africa primarily relies heavily on traditional energy sources. So any shortage of coal can lead to energy crisis. \n",
    "- We saw an trend of increase in 2014-2015, though still below the world's average, is sign of switching to renewable energy. \n",
    "- In 2014, the country received USD 5.5 billion towards renewable energy projects. Renewable energy in South Africa has the potential to increase access to electricity in rural areas because of its suitability for off-grid and small-scale solutions. \n",
    "- There are many obstacles that South Africa has to face on its journey to switch to more renewable energy. Read more about it here: https://en.wikipedia.org/wiki/Renewable_energy_in_South_Africa"
   ]
  },
  {
   "cell_type": "code",
   "execution_count": null,
   "metadata": {},
   "outputs": [],
   "source": []
  },
  {
   "cell_type": "markdown",
   "metadata": {},
   "source": [
    "# History of Load Shedding\n",
    "- Eskom SePlush has provided a history of load-sheding in South Africa from 2015 to 2020. There were no load-shedding in 2016 and 2017. \n",
    "\n",
    "## Data cleaning & Processing\n",
    "- As I said earlier, the measurements are taken with different intervals in between. So to standardlize the time series, I use daily/weekly and aggregate the \"stages\". \n",
    "- However, the stage itself is difficult to aggregate. I have two approaches: \n",
    "    1. Times the stage with 1000, that would be the energy in Megawatts corresponding to the stage. Then aggregate on sum of the energy, which would be the total amount of energy shedded on that day/week.\n",
    "    2. Aggregate on the count of entries (if doesn't equal stage 0). That would constitute as the number of blackouts on that day/week.\n",
    "\n",
    "- I chose the first one, because it accounts for the intensity of each blackout.\n"
   ]
  },
  {
   "cell_type": "code",
   "execution_count": null,
   "metadata": {},
   "outputs": [],
   "source": [
    "history = pd.read_csv(\"../input/datathon/south_africa_load_shedding_history.csv\")\n",
    "history.columns = [\"datetime\",\"stage\"]\n",
    "history[\"datetime\"] = pd.to_datetime(history[\"datetime\"])\n",
    "history[\"year\"] = history[\"datetime\"].apply(lambda x: x.year)\n",
    "history[\"month\"] = history[\"datetime\"].apply(lambda x: x.month)\n",
    "history[\"date\"] = history[\"datetime\"].apply(lambda x: x.date()).astype(str)\n",
    "history[\"day_of_week\"] = history[\"datetime\"].apply(lambda x: x.day)\n",
    "history[\"week\"] = history[\"datetime\"].apply(lambda x: x.week)\n",
    "\n",
    "history_by_day = pd.DataFrame(index = pd.date_range(start='2015-01-09',end=\"2020-09-07\",freq='D'))\n",
    "history_dic = history.groupby(\"date\").agg({\"stage\":\"sum\"})[\"stage\"].to_dict()\n",
    "history_by_day[\"1000_MW\"] = history_by_day.index.astype(str)\n",
    "history_by_day[\"1000_MW\"] = history_by_day[\"1000_MW\"].replace(history_dic)\n",
    "history_by_day[\"1000_MW\"] = history_by_day[\"1000_MW\"].apply(lambda x:0 if (type(x) != int) else x)\n",
    "display(history_by_day)\n",
    "fig=go.Figure()\n",
    "fig.update_layout(title=\"Energy to Be Shed Each Day from 2015 to 2020\",\n",
    "                 xaxis_title=\"Date\",yaxis_title=\"Energy (MW)\",legend=dict(x=0,y=1,traceorder=\"normal\"))\n",
    "fig.add_trace(go.Scatter(x=history_by_day.index,\n",
    "                         y=history_by_day[\"1000_MW\"] * 1000,\n",
    "                    mode='lines+markers',\n",
    "                    name='Outage'))\n",
    "\n",
    "\n",
    "fig.show()\n"
   ]
  },
  {
   "cell_type": "markdown",
   "metadata": {},
   "source": [
    "<h1>Energy Crisis In South Africa: what happened at each cohorts of blackouts?\n",
    "    </h1>\n",
    "    <a src =”https://en.wikipedia.org/wiki/South_African_energy_crisis”>Link to the website</a>\n",
    "<p>Loading shedding startedThe Majuba power plant lost its capacity to generate power after a collapse of one of its coal storage silos on 1 November 2014. The Majuba power plant delivered approximately 10% of the country's entire capacity and the collapse halted the delivery of coal to the plant.[20] A second silo developed a major crack on 20 November causing the shut down of the plant again, this after temporary measures were instituted to deliver coal to the plant.[21]\n",
    "    </p>\n",
    "\n",
    "On 5 December 2014, Eskom started major stage three load shedding in South Africa after the shut down of two power plants on 4 November (of said year) due to diesel shortages. It was also reported that the Palmiet and Drakensberg Pumped Storage Schemes were also experiencing difficulties due to a depletion of water reserve to the Hydro plants. Stage three was the highest degree of load shedding then.[22]\n",
    "\n",
    "On Thursday 4 November, Eskom fell 4,000 megawatts (5,400,000 hp) short of the country's electricity demand of 28,000 megawatts (38,000,000 hp). The power utility has the ability to produce 45,583 megawatts (61,128,000 hp) but could only supply 24,000 megawatts (32,000,000 hp) due to \"planned and unplanned\" maintenance. One turbine at Eskom’s Duvha Power Station is still out of commission due to an \"unexplained incident\" in March 2014.[23] Load shedding was scheduled to resume in February 2015, due to industry start up, after the December holiday period. on[](http://) 5 December 2014,"
   ]
  },
  {
   "cell_type": "code",
   "execution_count": null,
   "metadata": {},
   "outputs": [],
   "source": [
    "# To see a smoother curve, we use 7-day rolling or 30-day rolling. \n",
    "fig=go.Figure()\n",
    "\n",
    "fig.add_trace(go.Scatter(x=history_by_day.index, y=(history_by_day[\"1000_MW\"].rolling(window=7).mean())*1000,\n",
    "                    mode='lines+markers',\n",
    "                    name='Weekly'))\n",
    "fig.update_layout(title=\"7-Day Rolling Mean\",\n",
    "                 xaxis_title=\"Date\",yaxis_title=\"Energy (MW)\",legend=dict(x=0,y=1,traceorder=\"normal\"))\n",
    "\n",
    "fig.show()\n",
    "fig=go.Figure()\n",
    "\n",
    "fig.add_trace(go.Scatter(x=history_by_day.index, y=1000*history_by_day[\"1000_MW\"].rolling(window=30).mean(),\n",
    "                    mode='lines+markers',\n",
    "                    name='Monthly'))\n",
    "\n",
    "fig.update_layout(title=\"30-day Rolling Mean\",\n",
    "                 xaxis_title=\"Date\",yaxis_title=\"Energy (MW)\",legend=dict(x=0,y=1,traceorder=\"normal\"))\n",
    "fig.show()"
   ]
  },
  {
   "cell_type": "code",
   "execution_count": null,
   "metadata": {},
   "outputs": [],
   "source": [
    "history_count = pd.DataFrame(index = pd.date_range(start='2015-01-01',end=\"2020-09-07\",freq='D'))\n",
    "history_count[\"num_blackouts\"] = history_count.index.astype(str)\n",
    "dic_count= history.groupby(\"date\").agg({\"stage\":\"count\"})[\"stage\"].to_dict()\n",
    "history_count[\"num_blackouts\"] = history_count[\"num_blackouts\"].replace(dic_count)\n",
    "\n",
    "history_count[\"num_blackouts\"] = history_count[\"num_blackouts\"].apply(lambda x:0 if (type(x) != int) else x)\n",
    "year_sum = history.groupby(\"year\").agg({\"stage\":\"count\"})\n",
    "year_sum.columns = [\"num_blackouts_sum\"]\n",
    "\n",
    "\n",
    "year_sum = year_sum.reset_index()\n",
    "#outage.groupby(\"year\").agg({\"stage\":\"count\"})\n",
    "year_sum.columns = [\"year\",\"Number of national blackouts\"]\n",
    "ax = sns.barplot(x=\"year\", y=\"Number of national blackouts\", data=year_sum)\n",
    "\n",
    "\n"
   ]
  },
  {
   "cell_type": "code",
   "execution_count": null,
   "metadata": {},
   "outputs": [],
   "source": [
    "year_sum = history.groupby(\"year\").agg({\"stage\":\"sum\"})\n",
    "year_sum.columns = [\"energy_load_in_MW\"]\n",
    "year_sum[\"energy_load_in_MW\"] = year_sum[\"energy_load_in_MW\"] * 1000\n",
    "\n",
    "year_sum = year_sum.reset_index()\n",
    "year_sum.columns = [\"year\",\"energy_load_in_MW\"]\n",
    "ax = sns.barplot(x=\"year\", y=\"energy_load_in_MW\", data=year_sum)"
   ]
  },
  {
   "cell_type": "markdown",
   "metadata": {},
   "source": [
    "# Number of Blackouts VS Amount of Energy Load being shed\n",
    "- In 2015, the total energy being shed and the number of shedding is the highest among the four years.\n",
    "- From 2018-2020, the number of shedding increased as year progressed.\n",
    "- In 2020, I noticed that the amount of energy load being shed has not increased. Yet that is partially because we are still in 2020, and the load shedding is on going. So it is highly likely by the end of the year, the load shedding energy amoung will surpass that of 2019. \n",
    "\n",
    "- If that is the case, that means the number of blackouts and the amount of energy load being shed are both increasing since 2018. "
   ]
  },
  {
   "cell_type": "code",
   "execution_count": null,
   "metadata": {},
   "outputs": [],
   "source": [
    "# Weekly Sum\n",
    "history_week = history_by_day.reset_index().resample('W-Wed', label='right', closed = 'right', on='index').sum().reset_index()\n",
    "fig=go.Figure()\n",
    "\n",
    "fig.add_trace(go.Scatter(x=history_week[\"index\"], y=history_week[\"1000_MW\"] * 1000,\n",
    "                    mode='lines+markers',\n",
    "                    name='Weekly'))\n",
    "\n",
    "fig.update_layout(title=\"National Energy Load to be Shed By Week\",\n",
    "                 xaxis_title=\"Date\",yaxis_title=\"Energy (MW)\",legend=dict(x=0,y=1,traceorder=\"normal\"))\n",
    "fig.show()"
   ]
  },
  {
   "cell_type": "markdown",
   "metadata": {},
   "source": [
    "# Energy Shortage Prediction for the Following Year\n",
    "- I will be using the estimated/predicted electricity production for the next year, from the Prophet Model I have just built earlier as features. The features include the trend and the y-hat (the actual prediction).\n",
    "\n",
    "- The first prediction model is Gaussian HMM. \n",
    "\n",
    "- The second method is using peak estimation. Power shortages often come in \"clusters\". By calculating the number of \"peaks\", the average height of each \"peak\" and average duration of each \"peak\", then multiplying the three things together, we can get an estimate on the average number of blackouts to expect for every year. \n"
   ]
  },
  {
   "cell_type": "markdown",
   "metadata": {},
   "source": [
    "# Method 1: GaussianHMM\n",
    "- First, use the predicted/estimated values of electricity production as features for the training, and testing sets\n",
    "- The training set will contain data from June 2018 to September 2020.\n",
    "- The testing set will contain data from Jun 2018 to September 2021, with data in September 2020 to September 2021 being 0.\n"
   ]
  },
  {
   "cell_type": "code",
   "execution_count": null,
   "metadata": {},
   "outputs": [],
   "source": [
    "elec_forecast"
   ]
  },
  {
   "cell_type": "code",
   "execution_count": null,
   "metadata": {},
   "outputs": [],
   "source": [
    "elec_features = elec_forecast[[\"ds\",\"trend\",\"yhat\"]]\n",
    "elec_features.set_index(\"ds\")\n",
    "test = pd.DataFrame({\"ds\":pd.date_range(start='2018-06-01',end=\"2021-09-07\",freq='D')})\n",
    "\n",
    "elec_forecast_df = m.predict(test)\n",
    "elec_testing_features = elec_forecast_df[[\"ds\",\"trend\",\"yhat\"]]\n",
    "elec_testing_features.set_index(\"ds\")\n",
    "\n",
    "\n",
    "\n",
    "elec_training_features = elec_features[[\"ds\",\"trend\",\"yhat\"]]\n",
    "display(elec_training_features)\n",
    "#elec_training_features.set_index(\"ds\")"
   ]
  },
  {
   "cell_type": "code",
   "execution_count": null,
   "metadata": {},
   "outputs": [],
   "source": [
    "df_training = pd.DataFrame(index = pd.date_range(start='2018-06-01',end=\"2020-09-07\",freq='D'))\n",
    "\n",
    "df_training[\"1000_MW\"] = df_training.index.astype(str)\n",
    "df_training[\"date\"] = df_training.index\n",
    "dic = history.groupby(\"date\").agg({\"stage\":\"sum\"})[\"stage\"].to_dict()\n",
    "df_training[\"1000_MW\"] = df_training[\"1000_MW\"].replace(dic)\n",
    "df_training[\"1000_MW\"] = df_training[\"1000_MW\"].apply(lambda x:0 if (type(x) != int) else x)\n",
    "elec_training_features\n",
    "training = pd.concat([df_training.reset_index(),elec_training_features],axis=1).drop([\"index\",\"ds\"],axis=1)\n",
    "#training = training.resample('W-Wed', label='right', closed = 'right', on=\"date\").sum().reset_index()\n",
    "training = training.drop(\"date\",axis = 1).dropna()\n",
    "training\n",
    "#training.to_csv(\"training.csv\",index=False)"
   ]
  },
  {
   "cell_type": "code",
   "execution_count": null,
   "metadata": {},
   "outputs": [],
   "source": [
    "\n",
    "testing = elec_testing_features.copy()\n",
    "testing[\"ds\"] = 0\n",
    "testing.columns = [\"1000_MW\",\"trend\",\"yhat\"]\n",
    "\n",
    "combined = pd.concat([training,testing[830:1195]],ignore_index=True)\n",
    "display(combined)"
   ]
  },
  {
   "cell_type": "code",
   "execution_count": null,
   "metadata": {},
   "outputs": [],
   "source": [
    "from hmmlearn import hmm\n",
    "import matplotlib.pyplot as plt\n",
    "import warnings\n",
    "regr = hmm.GaussianHMM(n_components = 7,n_iter = 1000)\n",
    "with warnings.catch_warnings():\n",
    "    warnings.simplefilter('ignore')\n",
    "    regr.fit(training)\n",
    "#plt.plot(regr.predict(training))\n",
    "plt.plot(training[\"1000_MW\"])\n",
    "#combined = combined.drop(\"ds\",axis = 1)\n",
    "plt.plot(regr.predict(combined))\n",
    "\n",
    "predictions = regr.predict(combined)\n"
   ]
  },
  {
   "cell_type": "code",
   "execution_count": null,
   "metadata": {},
   "outputs": [],
   "source": [
    "future_predictions = predictions[830:]\n",
    "future_dates = elec_testing_features.loc[830:][[\"ds\"]]\n",
    "future_dates[\"preds\"] = future_predictions\n",
    "fig = go.Figure()\n",
    "fig.add_trace(go.Scatter(x=future_dates.ds, y=future_dates.preds * 1000,\n",
    "                    mode='lines+markers',\n",
    "                    name='Production'))\n",
    "fig.update_layout(title=\"2020-2021 Predicted Energy Being Shedded using HMM\",\n",
    "                  xaxis_title=\"Datetime\",yaxis_title=\"Energy (MW)\")\n",
    "\n",
    "fig.show()"
   ]
  },
  {
   "cell_type": "code",
   "execution_count": null,
   "metadata": {},
   "outputs": [],
   "source": [
    "# Sum of energy for next year, predicted\n",
    "print(\"Predicted Amount of Energy Load to be shed for 2020-2021:\")\n",
    "print(str(np.sum(predictions[830:]) * 1000)+\" MW\")\n"
   ]
  },
  {
   "cell_type": "markdown",
   "metadata": {},
   "source": [
    "# Second Method:\n",
    "Estimation of yearly number of blackouts from previous data."
   ]
  },
  {
   "cell_type": "code",
   "execution_count": null,
   "metadata": {},
   "outputs": [],
   "source": [
    "past_3_years = history.loc[history[\"year\"]>2015]\n",
    "df_peak= pd.DataFrame(index = pd.date_range(start='2017-09-07',end=\"2020-09-07\",freq='D'))\n",
    "\n",
    "df_peak[\"num_blackouts\"] = df_peak.index.astype(str)\n",
    "dic = history.groupby(\"date\").agg({\"stage\":\"count\"})[\"stage\"].to_dict()\n",
    "df_peak[\"num_blackouts\"] = df_peak[\"num_blackouts\"].replace(dic)\n",
    "df_peak[\"num_blackouts\"] = df_peak[\"num_blackouts\"].apply(lambda x:0 if (type(x) != int) else x)\n",
    "df_peak"
   ]
  },
  {
   "cell_type": "code",
   "execution_count": null,
   "metadata": {},
   "outputs": [],
   "source": [
    "import matplotlib.pyplot as plt\n",
    "from scipy.misc import electrocardiogram\n",
    "from scipy.signal import find_peaks,peak_widths\n",
    "df_peak = df_peak.reset_index()\n",
    "x = df_peak[\"num_blackouts\"]\n",
    "peaks, _ = find_peaks(x, height=0)\n",
    "plt.plot(x)\n",
    "plt.plot(peaks, x[peaks], \"x\")\n",
    "plt.plot(np.zeros_like(x), \"--\", color=\"gray\")\n",
    "plt.show()"
   ]
  },
  {
   "cell_type": "code",
   "execution_count": null,
   "metadata": {},
   "outputs": [],
   "source": [
    "from scipy.signal import chirp, find_peaks, peak_widths\n",
    "import matplotlib.pyplot as plt\n",
    "x = df_peak[\"num_blackouts\"]\n",
    "\n",
    "peaks, _ = find_peaks(x)\n",
    "results_half = peak_widths(x, peaks, rel_height=0.5)\n",
    "\n",
    "results_full = peak_widths(x, peaks, rel_height=1)\n",
    "\n",
    "plt.plot(x)\n",
    "plt.plot(peaks, x[peaks], \"x\")\n",
    "plt.hlines(*results_half[1:], color=\"C2\")\n",
    "plt.hlines(*results_full[1:], color=\"C3\")\n",
    "plt.show()"
   ]
  },
  {
   "cell_type": "code",
   "execution_count": null,
   "metadata": {},
   "outputs": [],
   "source": [
    "avg_blackouts_per_time = np.mean(df_peak.loc[df_peak[\"num_blackouts\"]!=0][\"num_blackouts\"])\n",
    "avg_blackout_length = np.mean(results_full[0])\n",
    "past_peak_num = len(peaks)\n",
    "avg_peak = np.mean(x[peaks].values)\n",
    "#print(df_peak[\"num_blackouts\"].sum())\n",
    "print(\"Prediction for the total number of blackouts for next year:\"+ str(past_peak_num*avg_blackout_length*avg_blackouts_per_time/3))"
   ]
  }
 ],
 "metadata": {
  "kernelspec": {
   "display_name": "Python 3",
   "language": "python",
   "name": "python3"
  },
  "language_info": {
   "codemirror_mode": {
    "name": "ipython",
    "version": 3
   },
   "file_extension": ".py",
   "mimetype": "text/x-python",
   "name": "python",
   "nbconvert_exporter": "python",
   "pygments_lexer": "ipython3",
   "version": "3.7.3"
  }
 },
 "nbformat": 4,
 "nbformat_minor": 4
}
